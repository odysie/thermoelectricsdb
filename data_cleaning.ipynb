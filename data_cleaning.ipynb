{
 "cells": [
  {
   "cell_type": "markdown",
   "metadata": {},
   "source": [
    "### Data Cleaning\n",
    "\n",
    "data cleaning and normalisation for the extracted thermoelectric database"
   ]
  },
  {
   "cell_type": "code",
   "execution_count": 1,
   "metadata": {},
   "outputs": [],
   "source": [
    "import pandas as pd\n",
    "import numpy as np\n",
    "import json\n",
    "import os\n",
    "import re\n",
    "from pprint import pprint\n",
    "import numpy.polynomial.polynomial as poly"
   ]
  },
  {
   "cell_type": "code",
   "execution_count": 2,
   "metadata": {},
   "outputs": [],
   "source": [
    "pd.set_option('display.max_rows', 500)\n",
    "pd.set_option('display.max_columns', 500)\n",
    "pd.set_option('display.width', 1000)\n",
    "# pd.set_option('display.max_colwidth',500)"
   ]
  },
  {
   "cell_type": "code",
   "execution_count": 316,
   "metadata": {},
   "outputs": [],
   "source": [
    "out_path = \"\""
   ]
  },
  {
   "cell_type": "code",
   "execution_count": 317,
   "metadata": {},
   "outputs": [],
   "source": [
    "out_prefix = \"\""
   ]
  },
  {
   "cell_type": "code",
   "execution_count": 54,
   "metadata": {},
   "outputs": [
    {
     "data": {
      "text/html": [
       "<div>\n",
       "<style scoped>\n",
       "    .dataframe tbody tr th:only-of-type {\n",
       "        vertical-align: middle;\n",
       "    }\n",
       "\n",
       "    .dataframe tbody tr th {\n",
       "        vertical-align: top;\n",
       "    }\n",
       "\n",
       "    .dataframe thead th {\n",
       "        text-align: right;\n",
       "    }\n",
       "</style>\n",
       "<table border=\"1\" class=\"dataframe\">\n",
       "  <thead>\n",
       "    <tr style=\"text-align: right;\">\n",
       "      <th></th>\n",
       "      <th>compound_name</th>\n",
       "      <th>model</th>\n",
       "      <th>raw_value</th>\n",
       "      <th>raw_units</th>\n",
       "      <th>value</th>\n",
       "      <th>units</th>\n",
       "      <th>temp_value</th>\n",
       "      <th>temp_units</th>\n",
       "      <th>room_temperature</th>\n",
       "      <th>editing</th>\n",
       "      <th>...</th>\n",
       "      <th>pressure_value</th>\n",
       "      <th>pressure_units</th>\n",
       "      <th>direction_of_measurement</th>\n",
       "      <th>labels</th>\n",
       "      <th>parser</th>\n",
       "      <th>specifier</th>\n",
       "      <th>title</th>\n",
       "      <th>publisher</th>\n",
       "      <th>yop</th>\n",
       "      <th>oa</th>\n",
       "    </tr>\n",
       "  </thead>\n",
       "  <tbody>\n",
       "    <tr>\n",
       "      <th>0</th>\n",
       "      <td>['Ca0.96Dy0.02Yb0.02MnO3']</td>\n",
       "      <td>ThermCond</td>\n",
       "      <td>1.47</td>\n",
       "      <td>Wm-1K-1</td>\n",
       "      <td>[1.47]</td>\n",
       "      <td>Kelvin^(-1.0)  Meter^(-1.0)  Watt^(1.0)</td>\n",
       "      <td>[973.0]</td>\n",
       "      <td>Kelvin^(1.0)</td>\n",
       "      <td>-</td>\n",
       "      <td>-</td>\n",
       "      <td>...</td>\n",
       "      <td>-</td>\n",
       "      <td>-</td>\n",
       "      <td>-</td>\n",
       "      <td>-</td>\n",
       "      <td>comma-level</td>\n",
       "      <td>thermal conductivity</td>\n",
       "      <td>Influence of rare-earth elements doping on the...</td>\n",
       "      <td>Elsevier</td>\n",
       "      <td>2015</td>\n",
       "      <td>no</td>\n",
       "    </tr>\n",
       "    <tr>\n",
       "      <th>1</th>\n",
       "      <td>['Ca0.98Dy0.02MnO3']</td>\n",
       "      <td>ThermCond</td>\n",
       "      <td>2.20</td>\n",
       "      <td>Wm-1K-1</td>\n",
       "      <td>[2.2]</td>\n",
       "      <td>Kelvin^(-1.0)  Meter^(-1.0)  Watt^(1.0)</td>\n",
       "      <td>[973.0]</td>\n",
       "      <td>Kelvin^(1.0)</td>\n",
       "      <td>-</td>\n",
       "      <td>-</td>\n",
       "      <td>...</td>\n",
       "      <td>-</td>\n",
       "      <td>-</td>\n",
       "      <td>-</td>\n",
       "      <td>-</td>\n",
       "      <td>comma-level</td>\n",
       "      <td>thermal conductivity</td>\n",
       "      <td>Influence of rare-earth elements doping on the...</td>\n",
       "      <td>Elsevier</td>\n",
       "      <td>2015</td>\n",
       "      <td>no</td>\n",
       "    </tr>\n",
       "    <tr>\n",
       "      <th>2</th>\n",
       "      <td>['Bi2Te3']</td>\n",
       "      <td>ThermCond</td>\n",
       "      <td>∼ 1.2</td>\n",
       "      <td>Wm−1K−1</td>\n",
       "      <td>[1.2]</td>\n",
       "      <td>Kelvin^(-1.0)  Meter^(-1.0)  Watt^(1.0)</td>\n",
       "      <td>-</td>\n",
       "      <td>-</td>\n",
       "      <td>room temperature</td>\n",
       "      <td>-</td>\n",
       "      <td>...</td>\n",
       "      <td>-</td>\n",
       "      <td>-</td>\n",
       "      <td>-</td>\n",
       "      <td>-</td>\n",
       "      <td>comma-level</td>\n",
       "      <td>κlat</td>\n",
       "      <td>Layered materials with 2D connectivity for the...</td>\n",
       "      <td>RSC</td>\n",
       "      <td>2020</td>\n",
       "      <td>no</td>\n",
       "    </tr>\n",
       "    <tr>\n",
       "      <th>3</th>\n",
       "      <td>['Cu-doped Bi2Te3']</td>\n",
       "      <td>ThermCond</td>\n",
       "      <td>∼ 0.7</td>\n",
       "      <td>Wm−1K−1</td>\n",
       "      <td>[0.7]</td>\n",
       "      <td>Kelvin^(-1.0)  Meter^(-1.0)  Watt^(1.0)</td>\n",
       "      <td>[300.0]</td>\n",
       "      <td>Kelvin^(1.0)</td>\n",
       "      <td>-</td>\n",
       "      <td>-</td>\n",
       "      <td>...</td>\n",
       "      <td>-</td>\n",
       "      <td>-</td>\n",
       "      <td>parallel directions</td>\n",
       "      <td>-</td>\n",
       "      <td>comma-level</td>\n",
       "      <td>κlat</td>\n",
       "      <td>Layered materials with 2D connectivity for the...</td>\n",
       "      <td>RSC</td>\n",
       "      <td>2020</td>\n",
       "      <td>no</td>\n",
       "    </tr>\n",
       "    <tr>\n",
       "      <th>4</th>\n",
       "      <td>['Sb2Te3']</td>\n",
       "      <td>ThermCond</td>\n",
       "      <td>∼ 1.15</td>\n",
       "      <td>Wm−1K−1</td>\n",
       "      <td>[1.15]</td>\n",
       "      <td>Kelvin^(-1.0)  Meter^(-1.0)  Watt^(1.0)</td>\n",
       "      <td>-</td>\n",
       "      <td>-</td>\n",
       "      <td>room temperature</td>\n",
       "      <td>-</td>\n",
       "      <td>...</td>\n",
       "      <td>-</td>\n",
       "      <td>-</td>\n",
       "      <td>in-plane direction</td>\n",
       "      <td>-</td>\n",
       "      <td>comma-level</td>\n",
       "      <td>κlat</td>\n",
       "      <td>Layered materials with 2D connectivity for the...</td>\n",
       "      <td>RSC</td>\n",
       "      <td>2020</td>\n",
       "      <td>no</td>\n",
       "    </tr>\n",
       "  </tbody>\n",
       "</table>\n",
       "<p>5 rows × 24 columns</p>\n",
       "</div>"
      ],
      "text/plain": [
       "                compound_name      model raw_value raw_units   value  \\\n",
       "0  ['Ca0.96Dy0.02Yb0.02MnO3']  ThermCond      1.47   Wm-1K-1  [1.47]   \n",
       "1        ['Ca0.98Dy0.02MnO3']  ThermCond      2.20   Wm-1K-1   [2.2]   \n",
       "2                  ['Bi2Te3']  ThermCond     ∼ 1.2   Wm−1K−1   [1.2]   \n",
       "3         ['Cu-doped Bi2Te3']  ThermCond     ∼ 0.7   Wm−1K−1   [0.7]   \n",
       "4                  ['Sb2Te3']  ThermCond    ∼ 1.15   Wm−1K−1  [1.15]   \n",
       "\n",
       "                                     units temp_value    temp_units  \\\n",
       "0  Kelvin^(-1.0)  Meter^(-1.0)  Watt^(1.0)    [973.0]  Kelvin^(1.0)   \n",
       "1  Kelvin^(-1.0)  Meter^(-1.0)  Watt^(1.0)    [973.0]  Kelvin^(1.0)   \n",
       "2  Kelvin^(-1.0)  Meter^(-1.0)  Watt^(1.0)          -             -   \n",
       "3  Kelvin^(-1.0)  Meter^(-1.0)  Watt^(1.0)    [300.0]  Kelvin^(1.0)   \n",
       "4  Kelvin^(-1.0)  Meter^(-1.0)  Watt^(1.0)          -             -   \n",
       "\n",
       "   room_temperature editing  ... pressure_value pressure_units  \\\n",
       "0                 -       -  ...              -              -   \n",
       "1                 -       -  ...              -              -   \n",
       "2  room temperature       -  ...              -              -   \n",
       "3                 -       -  ...              -              -   \n",
       "4  room temperature       -  ...              -              -   \n",
       "\n",
       "  direction_of_measurement labels       parser             specifier  \\\n",
       "0                        -      -  comma-level  thermal conductivity   \n",
       "1                        -      -  comma-level  thermal conductivity   \n",
       "2                        -      -  comma-level                  κlat   \n",
       "3      parallel directions      -  comma-level                  κlat   \n",
       "4       in-plane direction      -  comma-level                  κlat   \n",
       "\n",
       "                                               title publisher   yop  oa  \n",
       "0  Influence of rare-earth elements doping on the...  Elsevier  2015  no  \n",
       "1  Influence of rare-earth elements doping on the...  Elsevier  2015  no  \n",
       "2  Layered materials with 2D connectivity for the...       RSC  2020  no  \n",
       "3  Layered materials with 2D connectivity for the...       RSC  2020  no  \n",
       "4  Layered materials with 2D connectivity for the...       RSC  2020  no  \n",
       "\n",
       "[5 rows x 24 columns]"
      ]
     },
     "execution_count": 54,
     "metadata": {},
     "output_type": "execute_result"
    }
   ],
   "source": [
    "# take in the database from it's raw csv form, following thermoelectric parsing (te_parse)\n",
    "database_path = \"v8_full_raw_database_with_metadata.xlsx\"  # \"example_database.csv\"\n",
    "df = pd.read_excel(database_path)\n",
    "df.head()"
   ]
  },
  {
   "cell_type": "code",
   "execution_count": 55,
   "metadata": {},
   "outputs": [],
   "source": [
    "df.drop(\"publisher oa yop\".split(), axis=1, inplace=True)"
   ]
  },
  {
   "cell_type": "markdown",
   "metadata": {},
   "source": [
    "### Metadata (September)\n",
    "#### (adding Publihser, Open Access, and Date tags)\n",
    "used custom functions instead of the metadata from chemdataextractor which rely on the filename\n",
    "filename structure = \"article-\" + DOI with hyphens instead of backslashes + file extension (.txt or .xml or .html)"
   ]
  },
  {
   "cell_type": "markdown",
   "metadata": {},
   "source": [
    "#### Publisher"
   ]
  },
  {
   "cell_type": "code",
   "execution_count": 56,
   "metadata": {},
   "outputs": [],
   "source": [
    "extension_to_publisher = {'xml':'Elsevier', 'html':'RSC', 'txt':'Springer'}"
   ]
  },
  {
   "cell_type": "code",
   "execution_count": 57,
   "metadata": {},
   "outputs": [],
   "source": [
    "df['publisher'] = df.doi.apply(lambda x: extension_to_publisher[x.rsplit('.',1)[1]]).copy()"
   ]
  },
  {
   "cell_type": "markdown",
   "metadata": {},
   "source": [
    "#### Open Access"
   ]
  },
  {
   "cell_type": "code",
   "execution_count": 58,
   "metadata": {},
   "outputs": [],
   "source": [
    "with open('open_access_filenames_list.json','r') as f:\n",
    "    oa_dois = json.load(f)"
   ]
  },
  {
   "cell_type": "code",
   "execution_count": 59,
   "metadata": {},
   "outputs": [
    {
     "data": {
      "text/plain": [
       "0               10.1016-j.jssc.2014.12.010.xml\n",
       "1               10.1016-j.jssc.2014.12.010.xml\n",
       "2                      10.1039-d0ta00240b.html\n",
       "3                      10.1039-d0ta00240b.html\n",
       "4                      10.1039-d0ta00240b.html\n",
       "                         ...                  \n",
       "23265           10.1016-j.jmat.2015.04.005.xml\n",
       "23266           10.1007-s13391-018-00107-6.txt\n",
       "23267       10.1016-j.ceramint.2015.07.031.xml\n",
       "23268                  10.1039-c7cs00315c.html\n",
       "23269    10.1016-j.measurement.2018.10.059.xml\n",
       "Name: doi, Length: 23270, dtype: object"
      ]
     },
     "execution_count": 59,
     "metadata": {},
     "output_type": "execute_result"
    }
   ],
   "source": [
    "df.doi"
   ]
  },
  {
   "cell_type": "code",
   "execution_count": 60,
   "metadata": {},
   "outputs": [],
   "source": [
    "# stupid way to get access type from doi using information already found in db_extended\n",
    "df['oa'] = df.doi.apply(lambda x: \"yes\" if \"article-\" + x in oa_dois else \"no\")"
   ]
  },
  {
   "cell_type": "code",
   "execution_count": 61,
   "metadata": {},
   "outputs": [
    {
     "data": {
      "text/plain": [
       "no     21387\n",
       "yes     1883\n",
       "Name: oa, dtype: int64"
      ]
     },
     "execution_count": 61,
     "metadata": {},
     "output_type": "execute_result"
    }
   ],
   "source": [
    "df.oa.value_counts()"
   ]
  },
  {
   "cell_type": "code",
   "execution_count": 62,
   "metadata": {},
   "outputs": [
    {
     "data": {
      "text/plain": [
       "publisher  oa \n",
       "Elsevier   no     13156\n",
       "           yes      585\n",
       "RSC        no      5395\n",
       "           yes      662\n",
       "Springer   no      2836\n",
       "           yes      636\n",
       "Name: oa, dtype: int64"
      ]
     },
     "execution_count": 62,
     "metadata": {},
     "output_type": "execute_result"
    }
   ],
   "source": [
    "df.groupby(['publisher']).oa.value_counts(dropna=False)"
   ]
  },
  {
   "cell_type": "markdown",
   "metadata": {},
   "source": [
    "#### Date"
   ]
  },
  {
   "cell_type": "code",
   "execution_count": 63,
   "metadata": {},
   "outputs": [],
   "source": [
    "with open('dates_dictionary.json','r') as jj:\n",
    "    dates_dict = json.load(jj)"
   ]
  },
  {
   "cell_type": "code",
   "execution_count": 64,
   "metadata": {},
   "outputs": [],
   "source": [
    "df['yop'] = df.doi.apply(lambda x: dates_dict[x] if x in dates_dict.keys() else np.nan).copy()"
   ]
  },
  {
   "cell_type": "code",
   "execution_count": 65,
   "metadata": {},
   "outputs": [],
   "source": [
    "df.yop.replace('unkown', np.nan, inplace = True)  # YES I don't kown how to spell"
   ]
  },
  {
   "cell_type": "code",
   "execution_count": 66,
   "metadata": {},
   "outputs": [
    {
     "data": {
      "text/plain": [
       "2020    2990\n",
       "2019    2583\n",
       "2018    2399\n",
       "2017    2169\n",
       "2016    1980\n",
       "2015    1848\n",
       "2014    1184\n",
       "2013    1098\n",
       "2012     708\n",
       "2020     693\n",
       "2011     540\n",
       "2010     526\n",
       "2019     463\n",
       "2009     430\n",
       "2018     359\n",
       "2017     353\n",
       "2016     317\n",
       "2014     292\n",
       "2015     273\n",
       "2005     236\n",
       "2008     222\n",
       "2013     197\n",
       "2007     192\n",
       "2006     176\n",
       "2011     140\n",
       "2012     131\n",
       "2003     117\n",
       "2001      99\n",
       "2004      95\n",
       "2002      81\n",
       "2010      58\n",
       "2009      47\n",
       "2000      43\n",
       "2007      35\n",
       "2008      31\n",
       "1999      28\n",
       "1998      24\n",
       "2006      23\n",
       "1997      16\n",
       "2021      14\n",
       "2001      11\n",
       "2000      11\n",
       "2003       9\n",
       "2004       9\n",
       "1997       8\n",
       "2002       5\n",
       "1998       3\n",
       "2005       2\n",
       "1999       2\n",
       "Name: yop, dtype: int64"
      ]
     },
     "execution_count": 66,
     "metadata": {},
     "output_type": "execute_result"
    }
   ],
   "source": [
    "df.yop.value_counts(dropna=False)"
   ]
  },
  {
   "cell_type": "code",
   "execution_count": 69,
   "metadata": {},
   "outputs": [
    {
     "name": "stdout",
     "output_type": "stream",
     "text": [
      "15371\n"
     ]
    }
   ],
   "source": [
    "# Springer titles weren't collected during extraction, so add separately\n",
    "\n",
    "with open('springer_titles_dictionary.json', 'r') as fp:\n",
    "    springer_titles = json.load(fp)\n",
    "print(len(springer_titles))"
   ]
  },
  {
   "cell_type": "code",
   "execution_count": 70,
   "metadata": {},
   "outputs": [],
   "source": [
    "def add_springer_titles(df):\n",
    "    if df.title == \"title_fail\":\n",
    "        return springer_titles[df.doi]\n",
    "    else:\n",
    "        return df.title"
   ]
  },
  {
   "cell_type": "code",
   "execution_count": 71,
   "metadata": {},
   "outputs": [],
   "source": [
    "df.title = df.apply(add_springer_titles, axis=1).copy()"
   ]
  },
  {
   "cell_type": "code",
   "execution_count": 72,
   "metadata": {},
   "outputs": [
    {
     "data": {
      "text/html": [
       "<div>\n",
       "<style scoped>\n",
       "    .dataframe tbody tr th:only-of-type {\n",
       "        vertical-align: middle;\n",
       "    }\n",
       "\n",
       "    .dataframe tbody tr th {\n",
       "        vertical-align: top;\n",
       "    }\n",
       "\n",
       "    .dataframe thead th {\n",
       "        text-align: right;\n",
       "    }\n",
       "</style>\n",
       "<table border=\"1\" class=\"dataframe\">\n",
       "  <thead>\n",
       "    <tr style=\"text-align: right;\">\n",
       "      <th></th>\n",
       "      <th>doi</th>\n",
       "      <th>title</th>\n",
       "      <th>publisher</th>\n",
       "      <th>oa</th>\n",
       "      <th>yop</th>\n",
       "    </tr>\n",
       "  </thead>\n",
       "  <tbody>\n",
       "    <tr>\n",
       "      <th>0</th>\n",
       "      <td>10.1016-j.jssc.2014.12.010.xml</td>\n",
       "      <td>Influence of rare-earth elements doping on the...</td>\n",
       "      <td>Elsevier</td>\n",
       "      <td>no</td>\n",
       "      <td>2015</td>\n",
       "    </tr>\n",
       "    <tr>\n",
       "      <th>1</th>\n",
       "      <td>10.1016-j.jssc.2014.12.010.xml</td>\n",
       "      <td>Influence of rare-earth elements doping on the...</td>\n",
       "      <td>Elsevier</td>\n",
       "      <td>no</td>\n",
       "      <td>2015</td>\n",
       "    </tr>\n",
       "    <tr>\n",
       "      <th>2</th>\n",
       "      <td>10.1039-d0ta00240b.html</td>\n",
       "      <td>Layered materials with 2D connectivity for the...</td>\n",
       "      <td>RSC</td>\n",
       "      <td>no</td>\n",
       "      <td>2020</td>\n",
       "    </tr>\n",
       "    <tr>\n",
       "      <th>3</th>\n",
       "      <td>10.1039-d0ta00240b.html</td>\n",
       "      <td>Layered materials with 2D connectivity for the...</td>\n",
       "      <td>RSC</td>\n",
       "      <td>no</td>\n",
       "      <td>2020</td>\n",
       "    </tr>\n",
       "    <tr>\n",
       "      <th>4</th>\n",
       "      <td>10.1039-d0ta00240b.html</td>\n",
       "      <td>Layered materials with 2D connectivity for the...</td>\n",
       "      <td>RSC</td>\n",
       "      <td>no</td>\n",
       "      <td>2020</td>\n",
       "    </tr>\n",
       "  </tbody>\n",
       "</table>\n",
       "</div>"
      ],
      "text/plain": [
       "                              doi  \\\n",
       "0  10.1016-j.jssc.2014.12.010.xml   \n",
       "1  10.1016-j.jssc.2014.12.010.xml   \n",
       "2         10.1039-d0ta00240b.html   \n",
       "3         10.1039-d0ta00240b.html   \n",
       "4         10.1039-d0ta00240b.html   \n",
       "\n",
       "                                               title publisher  oa   yop  \n",
       "0  Influence of rare-earth elements doping on the...  Elsevier  no  2015  \n",
       "1  Influence of rare-earth elements doping on the...  Elsevier  no  2015  \n",
       "2  Layered materials with 2D connectivity for the...       RSC  no  2020  \n",
       "3  Layered materials with 2D connectivity for the...       RSC  no  2020  \n",
       "4  Layered materials with 2D connectivity for the...       RSC  no  2020  "
      ]
     },
     "execution_count": 72,
     "metadata": {},
     "output_type": "execute_result"
    }
   ],
   "source": [
    "df['doi title publisher oa yop'.split()].head()"
   ]
  },
  {
   "cell_type": "code",
   "execution_count": 73,
   "metadata": {},
   "outputs": [
    {
     "data": {
      "text/plain": [
       "publisher    0\n",
       "yop          0\n",
       "oa           0\n",
       "dtype: int64"
      ]
     },
     "execution_count": 73,
     "metadata": {},
     "output_type": "execute_result"
    }
   ],
   "source": [
    "# last check for nans\n",
    "df['publisher yop oa'.split()].isna().sum()"
   ]
  },
  {
   "cell_type": "code",
   "execution_count": 74,
   "metadata": {},
   "outputs": [],
   "source": [
    "ordered_columns = 'compound_name model raw_value raw_units value units temp_value temp_units room_temperature editing\\\n",
    " exrept doi error process pressure_value pressure_units direction_of_measurement labels parser specifier title\\\n",
    " publisher yop oa'.split()"
   ]
  },
  {
   "cell_type": "code",
   "execution_count": 75,
   "metadata": {},
   "outputs": [
    {
     "name": "stdout",
     "output_type": "stream",
     "text": [
      "missing columns: [] \n",
      "\n",
      "extra columns: []\n"
     ]
    }
   ],
   "source": [
    "def check_columns(df_columns, ordered_columns):\n",
    "    print(\"missing columns:\", [c for c in df_columns if c not in ordered_columns], \"\\n\")\n",
    "    print(\"extra columns:\", [c for c in ordered_columns if c not in df_columns])\n",
    "check_columns(df.columns, ordered_columns)"
   ]
  },
  {
   "cell_type": "code",
   "execution_count": 76,
   "metadata": {},
   "outputs": [],
   "source": [
    "# ordering and skimming\n",
    "df = df[ordered_columns].copy()"
   ]
  },
  {
   "cell_type": "code",
   "execution_count": 77,
   "metadata": {},
   "outputs": [],
   "source": [
    "# STATE BACKUP\n",
    "df_metadata_bckp = df.copy()"
   ]
  },
  {
   "cell_type": "code",
   "execution_count": 78,
   "metadata": {},
   "outputs": [],
   "source": [
    "# for recovery:\n",
    "# df = df_metadata_bckp.copy()"
   ]
  },
  {
   "cell_type": "code",
   "execution_count": 79,
   "metadata": {},
   "outputs": [
    {
     "data": {
      "text/plain": [
       "ZT               11880\n",
       "ThermCond         3756\n",
       "Seebeck           2547\n",
       "PF                2275\n",
       "Conductivity2     1856\n",
       "Resistivity        728\n",
       "Conductivity       228\n",
       "Name: model, dtype: int64"
      ]
     },
     "execution_count": 79,
     "metadata": {},
     "output_type": "execute_result"
    }
   ],
   "source": [
    "df.model.value_counts()"
   ]
  },
  {
   "cell_type": "code",
   "execution_count": 80,
   "metadata": {},
   "outputs": [
    {
     "data": {
      "text/plain": [
       "(23270, 24)"
      ]
     },
     "execution_count": 80,
     "metadata": {},
     "output_type": "execute_result"
    }
   ],
   "source": [
    "df.shape"
   ]
  },
  {
   "cell_type": "markdown",
   "metadata": {},
   "source": [
    "### Cleaning \n",
    "##### (remove duplicates, entries without letters, and huge entires > 90 characters long)"
   ]
  },
  {
   "cell_type": "code",
   "execution_count": 81,
   "metadata": {},
   "outputs": [],
   "source": [
    "# drop duplicates. check happens on exrept as well. So identical records, if coming from different sections \n",
    "# of a document are still kept\n",
    "df = df.drop_duplicates()"
   ]
  },
  {
   "cell_type": "code",
   "execution_count": 82,
   "metadata": {},
   "outputs": [
    {
     "name": "stdout",
     "output_type": "stream",
     "text": [
      "no Unnamed: 0 column\n"
     ]
    }
   ],
   "source": [
    "try:\n",
    "    df.drop(columns=['Unnamed: 0'], inplace=True)\n",
    "except KeyError as e:\n",
    "    print(\"no Unnamed: 0 column\")"
   ]
  },
  {
   "cell_type": "code",
   "execution_count": 83,
   "metadata": {},
   "outputs": [
    {
     "data": {
      "text/plain": [
       "(23168, 24)"
      ]
     },
     "execution_count": 83,
     "metadata": {},
     "output_type": "execute_result"
    }
   ],
   "source": [
    "df.shape"
   ]
  },
  {
   "cell_type": "code",
   "execution_count": 84,
   "metadata": {},
   "outputs": [
    {
     "data": {
      "text/html": [
       "<div>\n",
       "<style scoped>\n",
       "    .dataframe tbody tr th:only-of-type {\n",
       "        vertical-align: middle;\n",
       "    }\n",
       "\n",
       "    .dataframe tbody tr th {\n",
       "        vertical-align: top;\n",
       "    }\n",
       "\n",
       "    .dataframe thead th {\n",
       "        text-align: right;\n",
       "    }\n",
       "</style>\n",
       "<table border=\"1\" class=\"dataframe\">\n",
       "  <thead>\n",
       "    <tr style=\"text-align: right;\">\n",
       "      <th></th>\n",
       "      <th>compound_name</th>\n",
       "      <th>model</th>\n",
       "      <th>raw_value</th>\n",
       "      <th>raw_units</th>\n",
       "      <th>value</th>\n",
       "      <th>units</th>\n",
       "      <th>temp_value</th>\n",
       "      <th>temp_units</th>\n",
       "      <th>room_temperature</th>\n",
       "      <th>editing</th>\n",
       "      <th>...</th>\n",
       "      <th>pressure_value</th>\n",
       "      <th>pressure_units</th>\n",
       "      <th>direction_of_measurement</th>\n",
       "      <th>labels</th>\n",
       "      <th>parser</th>\n",
       "      <th>specifier</th>\n",
       "      <th>title</th>\n",
       "      <th>publisher</th>\n",
       "      <th>yop</th>\n",
       "      <th>oa</th>\n",
       "    </tr>\n",
       "  </thead>\n",
       "  <tbody>\n",
       "    <tr>\n",
       "      <th>0</th>\n",
       "      <td>['Ca0.96Dy0.02Yb0.02MnO3']</td>\n",
       "      <td>ThermCond</td>\n",
       "      <td>1.47</td>\n",
       "      <td>Wm-1K-1</td>\n",
       "      <td>[1.47]</td>\n",
       "      <td>Kelvin^(-1.0)  Meter^(-1.0)  Watt^(1.0)</td>\n",
       "      <td>[973.0]</td>\n",
       "      <td>Kelvin^(1.0)</td>\n",
       "      <td>-</td>\n",
       "      <td>-</td>\n",
       "      <td>...</td>\n",
       "      <td>-</td>\n",
       "      <td>-</td>\n",
       "      <td>-</td>\n",
       "      <td>-</td>\n",
       "      <td>comma-level</td>\n",
       "      <td>thermal conductivity</td>\n",
       "      <td>Influence of rare-earth elements doping on the...</td>\n",
       "      <td>Elsevier</td>\n",
       "      <td>2015</td>\n",
       "      <td>no</td>\n",
       "    </tr>\n",
       "    <tr>\n",
       "      <th>1</th>\n",
       "      <td>['Ca0.98Dy0.02MnO3']</td>\n",
       "      <td>ThermCond</td>\n",
       "      <td>2.20</td>\n",
       "      <td>Wm-1K-1</td>\n",
       "      <td>[2.2]</td>\n",
       "      <td>Kelvin^(-1.0)  Meter^(-1.0)  Watt^(1.0)</td>\n",
       "      <td>[973.0]</td>\n",
       "      <td>Kelvin^(1.0)</td>\n",
       "      <td>-</td>\n",
       "      <td>-</td>\n",
       "      <td>...</td>\n",
       "      <td>-</td>\n",
       "      <td>-</td>\n",
       "      <td>-</td>\n",
       "      <td>-</td>\n",
       "      <td>comma-level</td>\n",
       "      <td>thermal conductivity</td>\n",
       "      <td>Influence of rare-earth elements doping on the...</td>\n",
       "      <td>Elsevier</td>\n",
       "      <td>2015</td>\n",
       "      <td>no</td>\n",
       "    </tr>\n",
       "    <tr>\n",
       "      <th>2</th>\n",
       "      <td>['Bi2Te3']</td>\n",
       "      <td>ThermCond</td>\n",
       "      <td>∼ 1.2</td>\n",
       "      <td>Wm−1K−1</td>\n",
       "      <td>[1.2]</td>\n",
       "      <td>Kelvin^(-1.0)  Meter^(-1.0)  Watt^(1.0)</td>\n",
       "      <td>-</td>\n",
       "      <td>-</td>\n",
       "      <td>room temperature</td>\n",
       "      <td>-</td>\n",
       "      <td>...</td>\n",
       "      <td>-</td>\n",
       "      <td>-</td>\n",
       "      <td>-</td>\n",
       "      <td>-</td>\n",
       "      <td>comma-level</td>\n",
       "      <td>κlat</td>\n",
       "      <td>Layered materials with 2D connectivity for the...</td>\n",
       "      <td>RSC</td>\n",
       "      <td>2020</td>\n",
       "      <td>no</td>\n",
       "    </tr>\n",
       "    <tr>\n",
       "      <th>3</th>\n",
       "      <td>['Cu-doped Bi2Te3']</td>\n",
       "      <td>ThermCond</td>\n",
       "      <td>∼ 0.7</td>\n",
       "      <td>Wm−1K−1</td>\n",
       "      <td>[0.7]</td>\n",
       "      <td>Kelvin^(-1.0)  Meter^(-1.0)  Watt^(1.0)</td>\n",
       "      <td>[300.0]</td>\n",
       "      <td>Kelvin^(1.0)</td>\n",
       "      <td>-</td>\n",
       "      <td>-</td>\n",
       "      <td>...</td>\n",
       "      <td>-</td>\n",
       "      <td>-</td>\n",
       "      <td>parallel directions</td>\n",
       "      <td>-</td>\n",
       "      <td>comma-level</td>\n",
       "      <td>κlat</td>\n",
       "      <td>Layered materials with 2D connectivity for the...</td>\n",
       "      <td>RSC</td>\n",
       "      <td>2020</td>\n",
       "      <td>no</td>\n",
       "    </tr>\n",
       "    <tr>\n",
       "      <th>4</th>\n",
       "      <td>['Sb2Te3']</td>\n",
       "      <td>ThermCond</td>\n",
       "      <td>∼ 1.15</td>\n",
       "      <td>Wm−1K−1</td>\n",
       "      <td>[1.15]</td>\n",
       "      <td>Kelvin^(-1.0)  Meter^(-1.0)  Watt^(1.0)</td>\n",
       "      <td>-</td>\n",
       "      <td>-</td>\n",
       "      <td>room temperature</td>\n",
       "      <td>-</td>\n",
       "      <td>...</td>\n",
       "      <td>-</td>\n",
       "      <td>-</td>\n",
       "      <td>in-plane direction</td>\n",
       "      <td>-</td>\n",
       "      <td>comma-level</td>\n",
       "      <td>κlat</td>\n",
       "      <td>Layered materials with 2D connectivity for the...</td>\n",
       "      <td>RSC</td>\n",
       "      <td>2020</td>\n",
       "      <td>no</td>\n",
       "    </tr>\n",
       "  </tbody>\n",
       "</table>\n",
       "<p>5 rows × 24 columns</p>\n",
       "</div>"
      ],
      "text/plain": [
       "                compound_name      model raw_value raw_units   value  \\\n",
       "0  ['Ca0.96Dy0.02Yb0.02MnO3']  ThermCond      1.47   Wm-1K-1  [1.47]   \n",
       "1        ['Ca0.98Dy0.02MnO3']  ThermCond      2.20   Wm-1K-1   [2.2]   \n",
       "2                  ['Bi2Te3']  ThermCond     ∼ 1.2   Wm−1K−1   [1.2]   \n",
       "3         ['Cu-doped Bi2Te3']  ThermCond     ∼ 0.7   Wm−1K−1   [0.7]   \n",
       "4                  ['Sb2Te3']  ThermCond    ∼ 1.15   Wm−1K−1  [1.15]   \n",
       "\n",
       "                                     units temp_value    temp_units  \\\n",
       "0  Kelvin^(-1.0)  Meter^(-1.0)  Watt^(1.0)    [973.0]  Kelvin^(1.0)   \n",
       "1  Kelvin^(-1.0)  Meter^(-1.0)  Watt^(1.0)    [973.0]  Kelvin^(1.0)   \n",
       "2  Kelvin^(-1.0)  Meter^(-1.0)  Watt^(1.0)          -             -   \n",
       "3  Kelvin^(-1.0)  Meter^(-1.0)  Watt^(1.0)    [300.0]  Kelvin^(1.0)   \n",
       "4  Kelvin^(-1.0)  Meter^(-1.0)  Watt^(1.0)          -             -   \n",
       "\n",
       "   room_temperature editing  ... pressure_value pressure_units  \\\n",
       "0                 -       -  ...              -              -   \n",
       "1                 -       -  ...              -              -   \n",
       "2  room temperature       -  ...              -              -   \n",
       "3                 -       -  ...              -              -   \n",
       "4  room temperature       -  ...              -              -   \n",
       "\n",
       "  direction_of_measurement labels       parser             specifier  \\\n",
       "0                        -      -  comma-level  thermal conductivity   \n",
       "1                        -      -  comma-level  thermal conductivity   \n",
       "2                        -      -  comma-level                  κlat   \n",
       "3      parallel directions      -  comma-level                  κlat   \n",
       "4       in-plane direction      -  comma-level                  κlat   \n",
       "\n",
       "                                               title publisher   yop  oa  \n",
       "0  Influence of rare-earth elements doping on the...  Elsevier  2015  no  \n",
       "1  Influence of rare-earth elements doping on the...  Elsevier  2015  no  \n",
       "2  Layered materials with 2D connectivity for the...       RSC  2020  no  \n",
       "3  Layered materials with 2D connectivity for the...       RSC  2020  no  \n",
       "4  Layered materials with 2D connectivity for the...       RSC  2020  no  \n",
       "\n",
       "[5 rows x 24 columns]"
      ]
     },
     "execution_count": 84,
     "metadata": {},
     "output_type": "execute_result"
    }
   ],
   "source": [
    "df.head()"
   ]
  },
  {
   "cell_type": "code",
   "execution_count": 86,
   "metadata": {},
   "outputs": [],
   "source": [
    "df['clean_name'] = df.compound_name.apply(lambda x: x[2:-2].split(\"', '\")) "
   ]
  },
  {
   "cell_type": "code",
   "execution_count": 87,
   "metadata": {},
   "outputs": [
    {
     "data": {
      "text/plain": [
       "1    23168\n",
       "Name: clean_name, dtype: int64"
      ]
     },
     "execution_count": 87,
     "metadata": {},
     "output_type": "execute_result"
    }
   ],
   "source": [
    "df.clean_name.apply(len).value_counts()"
   ]
  },
  {
   "cell_type": "code",
   "execution_count": 88,
   "metadata": {},
   "outputs": [],
   "source": [
    "df['first_name'] = df.clean_name.apply(lambda x: x[0])"
   ]
  },
  {
   "cell_type": "code",
   "execution_count": 89,
   "metadata": {},
   "outputs": [
    {
     "data": {
      "text/plain": [
       "0                      Ca0.96Dy0.02Yb0.02MnO3\n",
       "1                            Ca0.98Dy0.02MnO3\n",
       "2                                      Bi2Te3\n",
       "3                             Cu-doped Bi2Te3\n",
       "4                                      Sb2Te3\n",
       "5                               Bi0.5Sb1.5Te3\n",
       "6                                      Bi2Te3\n",
       "7                                     BiSbSe3\n",
       "8                                        BiSe\n",
       "9                                      Bi2Se3\n",
       "10    polycrystalline Ag0.01Sn0.99Se0.85S0.15\n",
       "Name: first_name, dtype: object"
      ]
     },
     "execution_count": 89,
     "metadata": {},
     "output_type": "execute_result"
    }
   ],
   "source": [
    "df.first_name.head(11)"
   ]
  },
  {
   "cell_type": "code",
   "execution_count": 90,
   "metadata": {},
   "outputs": [],
   "source": [
    "# trying to remove some false positives"
   ]
  },
  {
   "cell_type": "code",
   "execution_count": 91,
   "metadata": {},
   "outputs": [
    {
     "data": {
      "text/plain": [
       "(15, 26)"
      ]
     },
     "execution_count": 91,
     "metadata": {},
     "output_type": "execute_result"
    }
   ],
   "source": [
    "# Identify any entries without alphabetical letters\n",
    "\n",
    "from string import ascii_letters as letters\n",
    "def has_letters(s):\n",
    "    for c in s:\n",
    "        if c in letters:\n",
    "            return True\n",
    "    return False\n",
    "\n",
    "df[~ df.compound_name.apply(has_letters)].shape"
   ]
  },
  {
   "cell_type": "code",
   "execution_count": 92,
   "metadata": {},
   "outputs": [],
   "source": [
    "# Remove entries without alphabetical letters\n",
    "df = df[df.first_name.apply(has_letters)].copy()"
   ]
  },
  {
   "cell_type": "code",
   "execution_count": 93,
   "metadata": {},
   "outputs": [],
   "source": [
    "# remove huge entries\n",
    "df = df[df.first_name.apply(lambda x: False if len(x) > 79 else True)].copy()"
   ]
  },
  {
   "cell_type": "code",
   "execution_count": 94,
   "metadata": {},
   "outputs": [
    {
     "data": {
      "text/plain": [
       "(23149, 26)"
      ]
     },
     "execution_count": 94,
     "metadata": {},
     "output_type": "execute_result"
    }
   ],
   "source": [
    "df.shape"
   ]
  },
  {
   "cell_type": "code",
   "execution_count": 95,
   "metadata": {},
   "outputs": [
    {
     "data": {
      "text/html": [
       "<div>\n",
       "<style scoped>\n",
       "    .dataframe tbody tr th:only-of-type {\n",
       "        vertical-align: middle;\n",
       "    }\n",
       "\n",
       "    .dataframe tbody tr th {\n",
       "        vertical-align: top;\n",
       "    }\n",
       "\n",
       "    .dataframe thead th {\n",
       "        text-align: right;\n",
       "    }\n",
       "</style>\n",
       "<table border=\"1\" class=\"dataframe\">\n",
       "  <thead>\n",
       "    <tr style=\"text-align: right;\">\n",
       "      <th></th>\n",
       "      <th>compound_name</th>\n",
       "      <th>model</th>\n",
       "      <th>raw_value</th>\n",
       "      <th>raw_units</th>\n",
       "      <th>value</th>\n",
       "      <th>units</th>\n",
       "      <th>temp_value</th>\n",
       "      <th>temp_units</th>\n",
       "      <th>room_temperature</th>\n",
       "      <th>editing</th>\n",
       "      <th>...</th>\n",
       "      <th>direction_of_measurement</th>\n",
       "      <th>labels</th>\n",
       "      <th>parser</th>\n",
       "      <th>specifier</th>\n",
       "      <th>title</th>\n",
       "      <th>publisher</th>\n",
       "      <th>yop</th>\n",
       "      <th>oa</th>\n",
       "      <th>clean_name</th>\n",
       "      <th>first_name</th>\n",
       "    </tr>\n",
       "  </thead>\n",
       "  <tbody>\n",
       "    <tr>\n",
       "      <th>6335</th>\n",
       "      <td>['SSP']</td>\n",
       "      <td>ZT</td>\n",
       "      <td>0.5</td>\n",
       "      <td>-</td>\n",
       "      <td>[0.5]</td>\n",
       "      <td>-</td>\n",
       "      <td>[400.0]</td>\n",
       "      <td>Kelvin^(1.0)</td>\n",
       "      <td>-</td>\n",
       "      <td>-</td>\n",
       "      <td>...</td>\n",
       "      <td>-</td>\n",
       "      <td>-</td>\n",
       "      <td>comma-level</td>\n",
       "      <td>zT</td>\n",
       "      <td>Improving the zT value of thermoelectrics by n...</td>\n",
       "      <td>RSC</td>\n",
       "      <td>2017</td>\n",
       "      <td>yes</td>\n",
       "      <td>[SSP]</td>\n",
       "      <td>SSP</td>\n",
       "    </tr>\n",
       "  </tbody>\n",
       "</table>\n",
       "<p>1 rows × 26 columns</p>\n",
       "</div>"
      ],
      "text/plain": [
       "     compound_name model raw_value raw_units  value units temp_value  \\\n",
       "6335       ['SSP']    ZT       0.5         -  [0.5]     -    [400.0]   \n",
       "\n",
       "        temp_units room_temperature editing  ... direction_of_measurement  \\\n",
       "6335  Kelvin^(1.0)                -       -  ...                        -   \n",
       "\n",
       "     labels       parser specifier  \\\n",
       "6335      -  comma-level        zT   \n",
       "\n",
       "                                                  title publisher   yop   oa  \\\n",
       "6335  Improving the zT value of thermoelectrics by n...       RSC  2017  yes   \n",
       "\n",
       "     clean_name first_name  \n",
       "6335      [SSP]        SSP  \n",
       "\n",
       "[1 rows x 26 columns]"
      ]
     },
     "execution_count": 95,
     "metadata": {},
     "output_type": "execute_result"
    }
   ],
   "source": [
    "df[df.first_name.apply(lambda str: True if str in \"SSP SPS PF S K\".split() else False)]"
   ]
  },
  {
   "cell_type": "code",
   "execution_count": 96,
   "metadata": {},
   "outputs": [],
   "source": [
    "# remove some problematic entries, which are due to referencing (e.g. the sample containing 6 % CaTe.\n",
    "# At some point we may be smart about that and use some coreference resolution by looking at the other\n",
    "# extracted compounds from the same article and chekcing if the dopings match)"
   ]
  },
  {
   "cell_type": "code",
   "execution_count": 97,
   "metadata": {},
   "outputs": [
    {
     "data": {
      "text/html": [
       "<div>\n",
       "<style scoped>\n",
       "    .dataframe tbody tr th:only-of-type {\n",
       "        vertical-align: middle;\n",
       "    }\n",
       "\n",
       "    .dataframe tbody tr th {\n",
       "        vertical-align: top;\n",
       "    }\n",
       "\n",
       "    .dataframe thead th {\n",
       "        text-align: right;\n",
       "    }\n",
       "</style>\n",
       "<table border=\"1\" class=\"dataframe\">\n",
       "  <thead>\n",
       "    <tr style=\"text-align: right;\">\n",
       "      <th></th>\n",
       "      <th>first_name</th>\n",
       "      <th>exrept</th>\n",
       "    </tr>\n",
       "  </thead>\n",
       "  <tbody>\n",
       "    <tr>\n",
       "      <th>218</th>\n",
       "      <td>20 wt % CNT</td>\n",
       "      <td>(With 20 wt% CNT content, these composites exh...</td>\n",
       "    </tr>\n",
       "    <tr>\n",
       "      <th>378</th>\n",
       "      <td>4 at % SmSe2</td>\n",
       "      <td>({ κtot at room - temperature }: 1.29 W m−1 K−...</td>\n",
       "    </tr>\n",
       "    <tr>\n",
       "      <th>931</th>\n",
       "      <td>60 wt % Bi0.5Sb1.5Te3</td>\n",
       "      <td>({  at 43-300 °C) }: The electrical conductivi...</td>\n",
       "    </tr>\n",
       "    <tr>\n",
       "      <th>996</th>\n",
       "      <td>1 at % Na2S</td>\n",
       "      <td>(Note that the calculated lowest κlat in the 1...</td>\n",
       "    </tr>\n",
       "    <tr>\n",
       "      <th>1373</th>\n",
       "      <td>15 mol % Se</td>\n",
       "      <td>(An extremely low thermal conductivity ∼0.27 W...</td>\n",
       "    </tr>\n",
       "  </tbody>\n",
       "</table>\n",
       "</div>"
      ],
      "text/plain": [
       "                 first_name                                             exrept\n",
       "218             20 wt % CNT  (With 20 wt% CNT content, these composites exh...\n",
       "378            4 at % SmSe2  ({ κtot at room - temperature }: 1.29 W m−1 K−...\n",
       "931   60 wt % Bi0.5Sb1.5Te3  ({  at 43-300 °C) }: The electrical conductivi...\n",
       "996             1 at % Na2S  (Note that the calculated lowest κlat in the 1...\n",
       "1373            15 mol % Se  (An extremely low thermal conductivity ∼0.27 W..."
      ]
     },
     "execution_count": 97,
     "metadata": {},
     "output_type": "execute_result"
    }
   ],
   "source": [
    "import re\n",
    "# Number something(e.g. at wt etc.) % CEM(not spaces)\n",
    "def check_problematic_form(str):\n",
    "    if re.match(r\"^\\d+\\s.+\\s%\\s[^\\s]+$\", str):\n",
    "        return True\n",
    "    return False\n",
    "df[df.first_name.apply(check_problematic_form)][\"first_name exrept\".split()].head()"
   ]
  },
  {
   "cell_type": "code",
   "execution_count": 98,
   "metadata": {},
   "outputs": [],
   "source": [
    "# Number % CEM\n",
    "def check_problematic_form2(str):\n",
    "    if re.match(r\"^\\d+\\s%\\s[^\\s]+$\", str):\n",
    "        return True\n",
    "    return False\n",
    "problematic2 = df[df.first_name.apply(check_problematic_form2)][\"first_name exrept doi\".split()]\n",
    "#problematic2.to_excel(os.path.join(out_path, out_prefix + \"problematic2.xlsx\"))"
   ]
  },
  {
   "cell_type": "code",
   "execution_count": 99,
   "metadata": {},
   "outputs": [
    {
     "data": {
      "text/html": [
       "<div>\n",
       "<style scoped>\n",
       "    .dataframe tbody tr th:only-of-type {\n",
       "        vertical-align: middle;\n",
       "    }\n",
       "\n",
       "    .dataframe tbody tr th {\n",
       "        vertical-align: top;\n",
       "    }\n",
       "\n",
       "    .dataframe thead th {\n",
       "        text-align: right;\n",
       "    }\n",
       "</style>\n",
       "<table border=\"1\" class=\"dataframe\">\n",
       "  <thead>\n",
       "    <tr style=\"text-align: right;\">\n",
       "      <th></th>\n",
       "      <th>first_name</th>\n",
       "      <th>exrept</th>\n",
       "      <th>doi</th>\n",
       "    </tr>\n",
       "  </thead>\n",
       "  <tbody>\n",
       "    <tr>\n",
       "      <th>478</th>\n",
       "      <td>6 % CaTe</td>\n",
       "      <td>( a room temperature κtotal of ∼2.98 W m−1 K−1...</td>\n",
       "      <td>10.1039-c1ee02297k.html</td>\n",
       "    </tr>\n",
       "    <tr>\n",
       "      <th>479</th>\n",
       "      <td>3 % BaTe</td>\n",
       "      <td>({  at room temperature }: A room temperature ...</td>\n",
       "      <td>10.1039-c1ee02297k.html</td>\n",
       "    </tr>\n",
       "    <tr>\n",
       "      <th>481</th>\n",
       "      <td>5 % CaTe</td>\n",
       "      <td>(The 5% CaTe sample exhibits the lowest room t...</td>\n",
       "      <td>10.1039-c1ee02297k.html</td>\n",
       "    </tr>\n",
       "    <tr>\n",
       "      <th>482</th>\n",
       "      <td>6 % CaTe</td>\n",
       "      <td>(The 6% CaTe sample also shows a similar κlat ...</td>\n",
       "      <td>10.1039-c1ee02297k.html</td>\n",
       "    </tr>\n",
       "    <tr>\n",
       "      <th>1276</th>\n",
       "      <td>8 % MgTe</td>\n",
       "      <td>({ lattice thermal conductivity at 923 K }: ∼0...</td>\n",
       "      <td>10.1039-c3ee42187b.html</td>\n",
       "    </tr>\n",
       "  </tbody>\n",
       "</table>\n",
       "</div>"
      ],
      "text/plain": [
       "     first_name                                             exrept  \\\n",
       "478    6 % CaTe  ( a room temperature κtotal of ∼2.98 W m−1 K−1...   \n",
       "479    3 % BaTe  ({  at room temperature }: A room temperature ...   \n",
       "481    5 % CaTe  (The 5% CaTe sample exhibits the lowest room t...   \n",
       "482    6 % CaTe  (The 6% CaTe sample also shows a similar κlat ...   \n",
       "1276   8 % MgTe  ({ lattice thermal conductivity at 923 K }: ∼0...   \n",
       "\n",
       "                          doi  \n",
       "478   10.1039-c1ee02297k.html  \n",
       "479   10.1039-c1ee02297k.html  \n",
       "481   10.1039-c1ee02297k.html  \n",
       "482   10.1039-c1ee02297k.html  \n",
       "1276  10.1039-c3ee42187b.html  "
      ]
     },
     "execution_count": 99,
     "metadata": {},
     "output_type": "execute_result"
    }
   ],
   "source": [
    "# print for checking\n",
    "problematic2.head()"
   ]
  },
  {
   "cell_type": "code",
   "execution_count": 100,
   "metadata": {},
   "outputs": [],
   "source": [
    "# 1\n",
    "df = df[~ df.first_name.apply(check_problematic_form)].copy()"
   ]
  },
  {
   "cell_type": "code",
   "execution_count": 101,
   "metadata": {},
   "outputs": [
    {
     "data": {
      "text/plain": [
       "(23031, 26)"
      ]
     },
     "execution_count": 101,
     "metadata": {},
     "output_type": "execute_result"
    }
   ],
   "source": [
    "df.shape"
   ]
  },
  {
   "cell_type": "code",
   "execution_count": 102,
   "metadata": {},
   "outputs": [],
   "source": [
    "# 2\n",
    "df = df[~ df.first_name.apply(check_problematic_form2)].copy()"
   ]
  },
  {
   "cell_type": "code",
   "execution_count": 103,
   "metadata": {},
   "outputs": [
    {
     "data": {
      "text/plain": [
       "(22961, 26)"
      ]
     },
     "execution_count": 103,
     "metadata": {},
     "output_type": "execute_result"
    }
   ],
   "source": [
    "df.shape"
   ]
  },
  {
   "cell_type": "code",
   "execution_count": 386,
   "metadata": {},
   "outputs": [],
   "source": [
    "# STATE BACKUP\n",
    "df_clean_bckp = df.copy()"
   ]
  },
  {
   "cell_type": "code",
   "execution_count": 387,
   "metadata": {},
   "outputs": [],
   "source": [
    "# recovery:\n",
    "# df = df_clean_bckp.copy()"
   ]
  },
  {
   "cell_type": "markdown",
   "metadata": {},
   "source": [
    "#### Noting normalised_model, without conducting any units or value normalisation"
   ]
  },
  {
   "cell_type": "code",
   "execution_count": 104,
   "metadata": {},
   "outputs": [],
   "source": [
    "#NORMALISE electrical models\n",
    "# normalised_model essentially just reffers to the correct property\n",
    "electrical_models = 'Conductivity Conductivity2 Resistivity'\n",
    "df['normalised_model'] = df.model.apply(lambda x: 'Conductivity' if x in electrical_models else x)"
   ]
  },
  {
   "cell_type": "code",
   "execution_count": 106,
   "metadata": {},
   "outputs": [],
   "source": [
    "ordered_columns = 'compound_name first_name normalised_model model raw_value raw_units value units temp_value room_temperature temp_units editing\\\n",
    " exrept doi error process pressure_value pressure_units direction_of_measurement labels parser specifier title\\\n",
    " publisher yop oa'.split()"
   ]
  },
  {
   "cell_type": "code",
   "execution_count": 107,
   "metadata": {},
   "outputs": [
    {
     "name": "stdout",
     "output_type": "stream",
     "text": [
      "missing columns: ['clean_name'] \n",
      "\n",
      "extra columns: []\n"
     ]
    }
   ],
   "source": [
    "check_columns(df.columns, ordered_columns)"
   ]
  },
  {
   "cell_type": "code",
   "execution_count": 394,
   "metadata": {},
   "outputs": [],
   "source": [
    "# ordering and skimming\n",
    "df = df[ordered_columns].copy()"
   ]
  },
  {
   "cell_type": "markdown",
   "metadata": {},
   "source": [
    "## Adding pressure"
   ]
  },
  {
   "cell_type": "code",
   "execution_count": 112,
   "metadata": {},
   "outputs": [],
   "source": [
    "# pressure was added post-extraction by associating results with excerpts\n",
    "presh = pd.read_csv(\"pressures_data.csv\")"
   ]
  },
  {
   "cell_type": "code",
   "execution_count": 116,
   "metadata": {},
   "outputs": [
    {
     "data": {
      "text/plain": [
       "0       True\n",
       "1       True\n",
       "2      False\n",
       "3      False\n",
       "4      False\n",
       "       ...  \n",
       "294     True\n",
       "295     True\n",
       "296     True\n",
       "297     True\n",
       "298     True\n",
       "Name: results, Length: 299, dtype: bool"
      ]
     },
     "execution_count": 116,
     "metadata": {},
     "output_type": "execute_result"
    }
   ],
   "source": [
    "presh.results.isna()"
   ]
  },
  {
   "cell_type": "code",
   "execution_count": 113,
   "metadata": {},
   "outputs": [
    {
     "ename": "TypeError",
     "evalue": "string indices must be integers",
     "output_type": "error",
     "traceback": [
      "\u001b[0;31m--------------------------------------------------------\u001b[0m",
      "\u001b[0;31mTypeError\u001b[0m              Traceback (most recent call last)",
      "\u001b[0;32m<ipython-input-113-d1d3178fc4dd>\u001b[0m in \u001b[0;36m<module>\u001b[0;34m\u001b[0m\n\u001b[0;32m----> 1\u001b[0;31m \u001b[0mpresh\u001b[0m\u001b[0;34m[\u001b[0m\u001b[0;34m~\u001b[0m \u001b[0mpresh\u001b[0m\u001b[0;34m.\u001b[0m\u001b[0mresults\u001b[0m\u001b[0;34m.\u001b[0m\u001b[0misna\u001b[0m\u001b[0;34m(\u001b[0m\u001b[0;34m)\u001b[0m\u001b[0;34m]\u001b[0m\u001b[0;34m.\u001b[0m\u001b[0miloc\u001b[0m\u001b[0;34m[\u001b[0m\u001b[0;36m0\u001b[0m\u001b[0;34m]\u001b[0m\u001b[0;34m.\u001b[0m\u001b[0mresults\u001b[0m\u001b[0;34m[\u001b[0m\u001b[0;36m0\u001b[0m\u001b[0;34m]\u001b[0m\u001b[0;34m[\u001b[0m\u001b[0;34m'Pressure'\u001b[0m\u001b[0;34m]\u001b[0m\u001b[0;34m\u001b[0m\u001b[0;34m\u001b[0m\u001b[0m\n\u001b[0m",
      "\u001b[0;31mTypeError\u001b[0m: string indices must be integers"
     ]
    }
   ],
   "source": [
    "presh[~ presh.results.isna()].iloc[0].results[0]['Pressure']"
   ]
  },
  {
   "cell_type": "code",
   "execution_count": 117,
   "metadata": {},
   "outputs": [],
   "source": [
    "pp = presh.copy()"
   ]
  },
  {
   "cell_type": "code",
   "execution_count": 118,
   "metadata": {},
   "outputs": [],
   "source": [
    "def simplify_pressure(s):\n",
    "    if s:\n",
    "        p = s[0]['Pressure']\n",
    "        return [p['value'][0], p['raw_units'].replace(\"(\",\"\").replace(\")\",\"\")]\n",
    "    else:\n",
    "        return s"
   ]
  },
  {
   "cell_type": "code",
   "execution_count": 119,
   "metadata": {},
   "outputs": [
    {
     "ename": "TypeError",
     "evalue": "'float' object is not subscriptable",
     "output_type": "error",
     "traceback": [
      "\u001b[0;31m--------------------------------------------------------\u001b[0m",
      "\u001b[0;31mTypeError\u001b[0m              Traceback (most recent call last)",
      "\u001b[0;32m<ipython-input-119-49c3e879b47d>\u001b[0m in \u001b[0;36m<module>\u001b[0;34m\u001b[0m\n\u001b[0;32m----> 1\u001b[0;31m \u001b[0mpp\u001b[0m\u001b[0;34m[\u001b[0m\u001b[0;34m'simple'\u001b[0m\u001b[0;34m]\u001b[0m \u001b[0;34m=\u001b[0m \u001b[0mpp\u001b[0m\u001b[0;34m.\u001b[0m\u001b[0mresults\u001b[0m\u001b[0;34m.\u001b[0m\u001b[0mapply\u001b[0m\u001b[0;34m(\u001b[0m\u001b[0msimplify_pressure\u001b[0m\u001b[0;34m)\u001b[0m\u001b[0;34m\u001b[0m\u001b[0;34m\u001b[0m\u001b[0m\n\u001b[0m",
      "\u001b[0;32m~/opt/miniconda3/envs/snowball_mc3/lib/python3.6/site-packages/pandas/core/series.py\u001b[0m in \u001b[0;36mapply\u001b[0;34m(self, func, convert_dtype, args, **kwds)\u001b[0m\n\u001b[1;32m   4211\u001b[0m             \u001b[0;32melse\u001b[0m\u001b[0;34m:\u001b[0m\u001b[0;34m\u001b[0m\u001b[0;34m\u001b[0m\u001b[0m\n\u001b[1;32m   4212\u001b[0m                 \u001b[0mvalues\u001b[0m \u001b[0;34m=\u001b[0m \u001b[0mself\u001b[0m\u001b[0;34m.\u001b[0m\u001b[0mastype\u001b[0m\u001b[0;34m(\u001b[0m\u001b[0mobject\u001b[0m\u001b[0;34m)\u001b[0m\u001b[0;34m.\u001b[0m\u001b[0m_values\u001b[0m\u001b[0;34m\u001b[0m\u001b[0;34m\u001b[0m\u001b[0m\n\u001b[0;32m-> 4213\u001b[0;31m                 \u001b[0mmapped\u001b[0m \u001b[0;34m=\u001b[0m \u001b[0mlib\u001b[0m\u001b[0;34m.\u001b[0m\u001b[0mmap_infer\u001b[0m\u001b[0;34m(\u001b[0m\u001b[0mvalues\u001b[0m\u001b[0;34m,\u001b[0m \u001b[0mf\u001b[0m\u001b[0;34m,\u001b[0m \u001b[0mconvert\u001b[0m\u001b[0;34m=\u001b[0m\u001b[0mconvert_dtype\u001b[0m\u001b[0;34m)\u001b[0m\u001b[0;34m\u001b[0m\u001b[0;34m\u001b[0m\u001b[0m\n\u001b[0m\u001b[1;32m   4214\u001b[0m \u001b[0;34m\u001b[0m\u001b[0m\n\u001b[1;32m   4215\u001b[0m         \u001b[0;32mif\u001b[0m \u001b[0mlen\u001b[0m\u001b[0;34m(\u001b[0m\u001b[0mmapped\u001b[0m\u001b[0;34m)\u001b[0m \u001b[0;32mand\u001b[0m \u001b[0misinstance\u001b[0m\u001b[0;34m(\u001b[0m\u001b[0mmapped\u001b[0m\u001b[0;34m[\u001b[0m\u001b[0;36m0\u001b[0m\u001b[0;34m]\u001b[0m\u001b[0;34m,\u001b[0m \u001b[0mSeries\u001b[0m\u001b[0;34m)\u001b[0m\u001b[0;34m:\u001b[0m\u001b[0;34m\u001b[0m\u001b[0;34m\u001b[0m\u001b[0m\n",
      "\u001b[0;32mpandas/_libs/lib.pyx\u001b[0m in \u001b[0;36mpandas._libs.lib.map_infer\u001b[0;34m()\u001b[0m\n",
      "\u001b[0;32m<ipython-input-118-fcdbc041f212>\u001b[0m in \u001b[0;36msimplify_pressure\u001b[0;34m(s)\u001b[0m\n\u001b[1;32m      1\u001b[0m \u001b[0;32mdef\u001b[0m \u001b[0msimplify_pressure\u001b[0m\u001b[0;34m(\u001b[0m\u001b[0ms\u001b[0m\u001b[0;34m)\u001b[0m\u001b[0;34m:\u001b[0m\u001b[0;34m\u001b[0m\u001b[0;34m\u001b[0m\u001b[0m\n\u001b[1;32m      2\u001b[0m     \u001b[0;32mif\u001b[0m \u001b[0ms\u001b[0m\u001b[0;34m:\u001b[0m\u001b[0;34m\u001b[0m\u001b[0;34m\u001b[0m\u001b[0m\n\u001b[0;32m----> 3\u001b[0;31m         \u001b[0mp\u001b[0m \u001b[0;34m=\u001b[0m \u001b[0ms\u001b[0m\u001b[0;34m[\u001b[0m\u001b[0;36m0\u001b[0m\u001b[0;34m]\u001b[0m\u001b[0;34m[\u001b[0m\u001b[0;34m'Pressure'\u001b[0m\u001b[0;34m]\u001b[0m\u001b[0;34m\u001b[0m\u001b[0;34m\u001b[0m\u001b[0m\n\u001b[0m\u001b[1;32m      4\u001b[0m         \u001b[0;32mreturn\u001b[0m \u001b[0;34m[\u001b[0m\u001b[0mp\u001b[0m\u001b[0;34m[\u001b[0m\u001b[0;34m'value'\u001b[0m\u001b[0;34m]\u001b[0m\u001b[0;34m[\u001b[0m\u001b[0;36m0\u001b[0m\u001b[0;34m]\u001b[0m\u001b[0;34m,\u001b[0m \u001b[0mp\u001b[0m\u001b[0;34m[\u001b[0m\u001b[0;34m'raw_units'\u001b[0m\u001b[0;34m]\u001b[0m\u001b[0;34m.\u001b[0m\u001b[0mreplace\u001b[0m\u001b[0;34m(\u001b[0m\u001b[0;34m\"(\"\u001b[0m\u001b[0;34m,\u001b[0m\u001b[0;34m\"\"\u001b[0m\u001b[0;34m)\u001b[0m\u001b[0;34m.\u001b[0m\u001b[0mreplace\u001b[0m\u001b[0;34m(\u001b[0m\u001b[0;34m\")\"\u001b[0m\u001b[0;34m,\u001b[0m\u001b[0;34m\"\"\u001b[0m\u001b[0;34m)\u001b[0m\u001b[0;34m]\u001b[0m\u001b[0;34m\u001b[0m\u001b[0;34m\u001b[0m\u001b[0m\n\u001b[1;32m      5\u001b[0m     \u001b[0;32melse\u001b[0m\u001b[0;34m:\u001b[0m\u001b[0;34m\u001b[0m\u001b[0;34m\u001b[0m\u001b[0m\n",
      "\u001b[0;31mTypeError\u001b[0m: 'float' object is not subscriptable"
     ]
    }
   ],
   "source": [
    "pp['simple'] = pp.results.apply(simplify_pressure)"
   ]
  },
  {
   "cell_type": "code",
   "execution_count": 406,
   "metadata": {},
   "outputs": [
    {
     "data": {
      "text/html": [
       "<div>\n",
       "<style scoped>\n",
       "    .dataframe tbody tr th:only-of-type {\n",
       "        vertical-align: middle;\n",
       "    }\n",
       "\n",
       "    .dataframe tbody tr th {\n",
       "        vertical-align: top;\n",
       "    }\n",
       "\n",
       "    .dataframe thead th {\n",
       "        text-align: right;\n",
       "    }\n",
       "</style>\n",
       "<table border=\"1\" class=\"dataframe\">\n",
       "  <thead>\n",
       "    <tr style=\"text-align: right;\">\n",
       "      <th></th>\n",
       "      <th>exrept</th>\n",
       "      <th>results</th>\n",
       "      <th>simple</th>\n",
       "    </tr>\n",
       "  </thead>\n",
       "  <tbody>\n",
       "    <tr>\n",
       "      <th>219</th>\n",
       "      <td>Chen et al. systematically studied the electri...</td>\n",
       "      <td>None</td>\n",
       "      <td>None</td>\n",
       "    </tr>\n",
       "    <tr>\n",
       "      <th>315</th>\n",
       "      <td>The 3D CNT network maintains an extremely low ...</td>\n",
       "      <td>None</td>\n",
       "      <td>None</td>\n",
       "    </tr>\n",
       "    <tr>\n",
       "      <th>540</th>\n",
       "      <td>In another case of doping with Cu, Sn1-xCuxSe ...</td>\n",
       "      <td>[{'Pressure': {'raw_value': '6.0', 'raw_units'...</td>\n",
       "      <td>[6.0, GPa]</td>\n",
       "    </tr>\n",
       "    <tr>\n",
       "      <th>689</th>\n",
       "      <td>The most popular and wide spread used metal di...</td>\n",
       "      <td>[{'Pressure': {'raw_value': '33', 'raw_units':...</td>\n",
       "      <td>[33.0, GPa]</td>\n",
       "    </tr>\n",
       "    <tr>\n",
       "      <th>690</th>\n",
       "      <td>the minimum total thermal conductivity of syn...</td>\n",
       "      <td>[{'Pressure': {'raw_value': '2', 'raw_units': ...</td>\n",
       "      <td>[2.0, GPa]</td>\n",
       "    </tr>\n",
       "  </tbody>\n",
       "</table>\n",
       "</div>"
      ],
      "text/plain": [
       "                                                exrept                                            results       simple\n",
       "219  Chen et al. systematically studied the electri...                                               None         None\n",
       "315  The 3D CNT network maintains an extremely low ...                                               None         None\n",
       "540  In another case of doping with Cu, Sn1-xCuxSe ...  [{'Pressure': {'raw_value': '6.0', 'raw_units'...   [6.0, GPa]\n",
       "689  The most popular and wide spread used metal di...  [{'Pressure': {'raw_value': '33', 'raw_units':...  [33.0, GPa]\n",
       "690   the minimum total thermal conductivity of syn...  [{'Pressure': {'raw_value': '2', 'raw_units': ...   [2.0, GPa]"
      ]
     },
     "execution_count": 406,
     "metadata": {},
     "output_type": "execute_result"
    }
   ],
   "source": [
    "pp.head()"
   ]
  },
  {
   "cell_type": "code",
   "execution_count": 407,
   "metadata": {},
   "outputs": [],
   "source": [
    "def recover_exrept(s):\n",
    "    if \"FROM\" in s:\n",
    "        return s.split(\"FROM: \")[0][1:-1]\n",
    "    else:\n",
    "        return s"
   ]
  },
  {
   "cell_type": "code",
   "execution_count": 408,
   "metadata": {},
   "outputs": [],
   "source": [
    "def extract_pressure(s):\n",
    "    r = recover_exrept(s)\n",
    "    if r in pp.exrept.unique():\n",
    "        return pp[pp.exrept == r].simple.values[0]\n",
    "    else:\n",
    "        return None"
   ]
  },
  {
   "cell_type": "code",
   "execution_count": 409,
   "metadata": {},
   "outputs": [
    {
     "data": {
      "text/plain": [
       "(299, 3)"
      ]
     },
     "execution_count": 409,
     "metadata": {},
     "output_type": "execute_result"
    }
   ],
   "source": [
    "pp.shape"
   ]
  },
  {
   "cell_type": "code",
   "execution_count": 410,
   "metadata": {},
   "outputs": [],
   "source": [
    "# df.drop([\"pressure\"], axis=1, inplace=True)"
   ]
  },
  {
   "cell_type": "code",
   "execution_count": 180,
   "metadata": {},
   "outputs": [],
   "source": [
    "df[\"pressure\"]=\"\""
   ]
  },
  {
   "cell_type": "code",
   "execution_count": 411,
   "metadata": {},
   "outputs": [],
   "source": [
    "# doing it via index was giving me weird stuff so went like this\n",
    "df[\"pressure\"] = df.exrept.apply(extract_pressure)"
   ]
  },
  {
   "cell_type": "code",
   "execution_count": 412,
   "metadata": {},
   "outputs": [
    {
     "data": {
      "text/html": [
       "<div>\n",
       "<style scoped>\n",
       "    .dataframe tbody tr th:only-of-type {\n",
       "        vertical-align: middle;\n",
       "    }\n",
       "\n",
       "    .dataframe tbody tr th {\n",
       "        vertical-align: top;\n",
       "    }\n",
       "\n",
       "    .dataframe thead th {\n",
       "        text-align: right;\n",
       "    }\n",
       "</style>\n",
       "<table border=\"1\" class=\"dataframe\">\n",
       "  <thead>\n",
       "    <tr style=\"text-align: right;\">\n",
       "      <th></th>\n",
       "      <th>compound_name</th>\n",
       "      <th>exrept</th>\n",
       "      <th>pressure</th>\n",
       "    </tr>\n",
       "  </thead>\n",
       "  <tbody>\n",
       "    <tr>\n",
       "      <th>540</th>\n",
       "      <td>['Sn1-xCuxSe']</td>\n",
       "      <td>(In another case of doping with Cu, Sn1-xCuxSe...</td>\n",
       "      <td>[6.0, GPa]</td>\n",
       "    </tr>\n",
       "    <tr>\n",
       "      <th>689</th>\n",
       "      <td>['metal diboride']</td>\n",
       "      <td>(The most popular and wide spread used metal d...</td>\n",
       "      <td>[33.0, GPa]</td>\n",
       "    </tr>\n",
       "    <tr>\n",
       "      <th>690</th>\n",
       "      <td>['Bi2Te3']</td>\n",
       "      <td>( the minimum total thermal conductivity of sy...</td>\n",
       "      <td>[2.0, GPa]</td>\n",
       "    </tr>\n",
       "    <tr>\n",
       "      <th>1083</th>\n",
       "      <td>['Fe9 wt %']</td>\n",
       "      <td>(Values of thermal conductivity for an Fe9 wt%...</td>\n",
       "      <td>[60.0, GPa]</td>\n",
       "    </tr>\n",
       "    <tr>\n",
       "      <th>1366</th>\n",
       "      <td>['BiSbTe3 bulk']</td>\n",
       "      <td>( the minimum thermal conductivity can be obse...</td>\n",
       "      <td>[2.5, GPa]</td>\n",
       "    </tr>\n",
       "  </tbody>\n",
       "</table>\n",
       "</div>"
      ],
      "text/plain": [
       "           compound_name                                             exrept     pressure\n",
       "540       ['Sn1-xCuxSe']  (In another case of doping with Cu, Sn1-xCuxSe...   [6.0, GPa]\n",
       "689   ['metal diboride']  (The most popular and wide spread used metal d...  [33.0, GPa]\n",
       "690           ['Bi2Te3']  ( the minimum total thermal conductivity of sy...   [2.0, GPa]\n",
       "1083        ['Fe9 wt %']  (Values of thermal conductivity for an Fe9 wt%...  [60.0, GPa]\n",
       "1366    ['BiSbTe3 bulk']  ( the minimum thermal conductivity can be obse...   [2.5, GPa]"
      ]
     },
     "execution_count": 412,
     "metadata": {},
     "output_type": "execute_result"
    }
   ],
   "source": [
    "df[~ df.pressure.isna()][\"compound_name exrept pressure\".split()].head()"
   ]
  },
  {
   "cell_type": "code",
   "execution_count": 413,
   "metadata": {},
   "outputs": [
    {
     "data": {
      "text/html": [
       "<div>\n",
       "<style scoped>\n",
       "    .dataframe tbody tr th:only-of-type {\n",
       "        vertical-align: middle;\n",
       "    }\n",
       "\n",
       "    .dataframe tbody tr th {\n",
       "        vertical-align: top;\n",
       "    }\n",
       "\n",
       "    .dataframe thead th {\n",
       "        text-align: right;\n",
       "    }\n",
       "</style>\n",
       "<table border=\"1\" class=\"dataframe\">\n",
       "  <thead>\n",
       "    <tr style=\"text-align: right;\">\n",
       "      <th></th>\n",
       "      <th>exrept</th>\n",
       "      <th>results</th>\n",
       "      <th>simple</th>\n",
       "    </tr>\n",
       "  </thead>\n",
       "  <tbody>\n",
       "    <tr>\n",
       "      <th>219</th>\n",
       "      <td>Chen et al. systematically studied the electri...</td>\n",
       "      <td>None</td>\n",
       "      <td>None</td>\n",
       "    </tr>\n",
       "    <tr>\n",
       "      <th>315</th>\n",
       "      <td>The 3D CNT network maintains an extremely low ...</td>\n",
       "      <td>None</td>\n",
       "      <td>None</td>\n",
       "    </tr>\n",
       "    <tr>\n",
       "      <th>540</th>\n",
       "      <td>In another case of doping with Cu, Sn1-xCuxSe ...</td>\n",
       "      <td>[{'Pressure': {'raw_value': '6.0', 'raw_units'...</td>\n",
       "      <td>[6.0, GPa]</td>\n",
       "    </tr>\n",
       "    <tr>\n",
       "      <th>689</th>\n",
       "      <td>The most popular and wide spread used metal di...</td>\n",
       "      <td>[{'Pressure': {'raw_value': '33', 'raw_units':...</td>\n",
       "      <td>[33.0, GPa]</td>\n",
       "    </tr>\n",
       "    <tr>\n",
       "      <th>690</th>\n",
       "      <td>the minimum total thermal conductivity of syn...</td>\n",
       "      <td>[{'Pressure': {'raw_value': '2', 'raw_units': ...</td>\n",
       "      <td>[2.0, GPa]</td>\n",
       "    </tr>\n",
       "  </tbody>\n",
       "</table>\n",
       "</div>"
      ],
      "text/plain": [
       "                                                exrept                                            results       simple\n",
       "219  Chen et al. systematically studied the electri...                                               None         None\n",
       "315  The 3D CNT network maintains an extremely low ...                                               None         None\n",
       "540  In another case of doping with Cu, Sn1-xCuxSe ...  [{'Pressure': {'raw_value': '6.0', 'raw_units'...   [6.0, GPa]\n",
       "689  The most popular and wide spread used metal di...  [{'Pressure': {'raw_value': '33', 'raw_units':...  [33.0, GPa]\n",
       "690   the minimum total thermal conductivity of syn...  [{'Pressure': {'raw_value': '2', 'raw_units': ...   [2.0, GPa]"
      ]
     },
     "execution_count": 413,
     "metadata": {},
     "output_type": "execute_result"
    }
   ],
   "source": [
    "pp.head()  # in agreement"
   ]
  },
  {
   "cell_type": "code",
   "execution_count": 414,
   "metadata": {},
   "outputs": [],
   "source": [
    "# STATE BACKUP\n",
    "df_with_pressure = df.copy()"
   ]
  },
  {
   "cell_type": "code",
   "execution_count": 415,
   "metadata": {},
   "outputs": [],
   "source": [
    "# recover\n",
    "df = df_with_pressure.copy()"
   ]
  },
  {
   "cell_type": "markdown",
   "metadata": {},
   "source": [
    "## ~ Normalising: ~"
   ]
  },
  {
   "cell_type": "markdown",
   "metadata": {},
   "source": [
    "### Getting real values"
   ]
  },
  {
   "cell_type": "code",
   "execution_count": 122,
   "metadata": {},
   "outputs": [],
   "source": [
    "def make_number_list2(x):\n",
    "    try:\n",
    "        x_list = x[1:-1].split(',')\n",
    "\n",
    "        return [float(n) for n in x_list]\n",
    "    except:\n",
    "        return np.nan"
   ]
  },
  {
   "cell_type": "code",
   "execution_count": 123,
   "metadata": {},
   "outputs": [],
   "source": [
    "def make_temp_number_list(x):\n",
    "    if x == '-':\n",
    "        # this is not sufficient, since it doesn't account for extractions where there are both room temp\n",
    "        # and value extractions. It's just a stepping stone\n",
    "        return [295] \n",
    "    else:\n",
    "        x_list = x[1:-1].split(',')\n",
    "        return [float(n) for n in x_list]"
   ]
  },
  {
   "cell_type": "code",
   "execution_count": 124,
   "metadata": {},
   "outputs": [],
   "source": [
    "def get_average_from_list(x):\n",
    "    return (sum(x) / len(x))"
   ]
  },
  {
   "cell_type": "code",
   "execution_count": 125,
   "metadata": {},
   "outputs": [],
   "source": [
    "df['temp_numbers'] = df.temp_value.apply(make_temp_number_list)  # just a stepping stone"
   ]
  },
  {
   "cell_type": "code",
   "execution_count": 126,
   "metadata": {},
   "outputs": [
    {
     "name": "stdout",
     "output_type": "stream",
     "text": [
      "5016\n"
     ]
    }
   ],
   "source": [
    "count_dashed = (df.room_temperature != \"-\").sum()\n",
    "if count_dashed == 0:\n",
    "    print(\"WAIT! there seem to be no dashes in room temperature, please check that normalising will work.\")\n",
    "else:\n",
    "    print(count_dashed)"
   ]
  },
  {
   "cell_type": "code",
   "execution_count": 127,
   "metadata": {},
   "outputs": [
    {
     "data": {
      "text/html": [
       "<div>\n",
       "<style scoped>\n",
       "    .dataframe tbody tr th:only-of-type {\n",
       "        vertical-align: middle;\n",
       "    }\n",
       "\n",
       "    .dataframe tbody tr th {\n",
       "        vertical-align: top;\n",
       "    }\n",
       "\n",
       "    .dataframe thead th {\n",
       "        text-align: right;\n",
       "    }\n",
       "</style>\n",
       "<table border=\"1\" class=\"dataframe\">\n",
       "  <thead>\n",
       "    <tr style=\"text-align: right;\">\n",
       "      <th></th>\n",
       "      <th>temp_value</th>\n",
       "      <th>temp_numbers</th>\n",
       "    </tr>\n",
       "  </thead>\n",
       "  <tbody>\n",
       "    <tr>\n",
       "      <th>0</th>\n",
       "      <td>[973.0]</td>\n",
       "      <td>[973.0]</td>\n",
       "    </tr>\n",
       "    <tr>\n",
       "      <th>1</th>\n",
       "      <td>[973.0]</td>\n",
       "      <td>[973.0]</td>\n",
       "    </tr>\n",
       "    <tr>\n",
       "      <th>2</th>\n",
       "      <td>-</td>\n",
       "      <td>[295]</td>\n",
       "    </tr>\n",
       "    <tr>\n",
       "      <th>3</th>\n",
       "      <td>[300.0]</td>\n",
       "      <td>[300.0]</td>\n",
       "    </tr>\n",
       "    <tr>\n",
       "      <th>4</th>\n",
       "      <td>-</td>\n",
       "      <td>[295]</td>\n",
       "    </tr>\n",
       "  </tbody>\n",
       "</table>\n",
       "</div>"
      ],
      "text/plain": [
       "  temp_value temp_numbers\n",
       "0    [973.0]      [973.0]\n",
       "1    [973.0]      [973.0]\n",
       "2          -        [295]\n",
       "3    [300.0]      [300.0]\n",
       "4          -        [295]"
      ]
     },
     "execution_count": 127,
     "metadata": {},
     "output_type": "execute_result"
    }
   ],
   "source": [
    "df['temp_value temp_numbers'.split()].head()\n",
    "# temp_value is just a string, while temp numbers is a list of numbers"
   ]
  },
  {
   "cell_type": "code",
   "execution_count": 128,
   "metadata": {},
   "outputs": [
    {
     "name": "stdout",
     "output_type": "stream",
     "text": [
      "<class 'str'>    22961\n",
      "Name: temp_value, dtype: int64\n",
      "<class 'list'>    22961\n",
      "Name: temp_numbers, dtype: int64\n"
     ]
    }
   ],
   "source": [
    "print(df.temp_value.apply(type).value_counts())\n",
    "print(df.temp_numbers.apply(type).value_counts())"
   ]
  },
  {
   "cell_type": "code",
   "execution_count": 129,
   "metadata": {},
   "outputs": [
    {
     "data": {
      "text/plain": [
       "Kelvin^(1.0)        16494\n",
       "-                    4481\n",
       "Celsius^(1.0)        1980\n",
       "Fahrenheit^(1.0)        6\n",
       "Name: temp_units, dtype: int64"
      ]
     },
     "execution_count": 129,
     "metadata": {},
     "output_type": "execute_result"
    }
   ],
   "source": [
    "df.temp_units.value_counts()"
   ]
  },
  {
   "cell_type": "markdown",
   "metadata": {},
   "source": [
    "### Normalising temperature"
   ]
  },
  {
   "cell_type": "code",
   "execution_count": 130,
   "metadata": {},
   "outputs": [],
   "source": [
    "#takes in full df, so apply axis=1\n",
    "def make_temp_normalised_list(df):\n",
    "    # prioritise room temperature in the case where there is both room temp mention and numerical value!\n",
    "    if df.room_temperature != \"-\":  # make sure we haven't replaced '-' with something else\n",
    "        return [295]\n",
    "    if df.temp_units == 'Celsius^(1.0)':\n",
    "        return [t + 273 for t in df.temp_numbers]\n",
    "    elif df.temp_units == 'Fahrenheit^(1.0)':\n",
    "        return [(t - 32) * 5/9 + 273 for t in df.temp_numbers]\n",
    "\n",
    "    else:  # if Kelvin\n",
    "        return df.temp_numbers\n"
   ]
  },
  {
   "cell_type": "code",
   "execution_count": 131,
   "metadata": {},
   "outputs": [],
   "source": [
    "df['normalised_temp_values'] = df.apply(make_temp_normalised_list, axis=1)"
   ]
  },
  {
   "cell_type": "code",
   "execution_count": 132,
   "metadata": {},
   "outputs": [
    {
     "data": {
      "text/plain": [
       "0    [973.0]\n",
       "1    [973.0]\n",
       "2      [295]\n",
       "3    [300.0]\n",
       "4      [295]\n",
       "Name: normalised_temp_values, dtype: object"
      ]
     },
     "execution_count": 132,
     "metadata": {},
     "output_type": "execute_result"
    }
   ],
   "source": [
    "df.normalised_temp_values.head()"
   ]
  },
  {
   "cell_type": "code",
   "execution_count": 133,
   "metadata": {},
   "outputs": [
    {
     "data": {
      "text/plain": [
       "1    22292\n",
       "2      669\n",
       "Name: normalised_temp_values, dtype: int64"
      ]
     },
     "execution_count": 133,
     "metadata": {},
     "output_type": "execute_result"
    }
   ],
   "source": [
    "df.normalised_temp_values.apply(len).value_counts()"
   ]
  },
  {
   "cell_type": "code",
   "execution_count": 134,
   "metadata": {},
   "outputs": [],
   "source": [
    "df[\"normalised_temp_avg\"] = df.normalised_temp_values.apply(get_average_from_list)"
   ]
  },
  {
   "cell_type": "code",
   "execution_count": 135,
   "metadata": {},
   "outputs": [
    {
     "data": {
      "text/html": [
       "<div>\n",
       "<style scoped>\n",
       "    .dataframe tbody tr th:only-of-type {\n",
       "        vertical-align: middle;\n",
       "    }\n",
       "\n",
       "    .dataframe tbody tr th {\n",
       "        vertical-align: top;\n",
       "    }\n",
       "\n",
       "    .dataframe thead th {\n",
       "        text-align: right;\n",
       "    }\n",
       "</style>\n",
       "<table border=\"1\" class=\"dataframe\">\n",
       "  <thead>\n",
       "    <tr style=\"text-align: right;\">\n",
       "      <th></th>\n",
       "      <th>temp_value</th>\n",
       "      <th>room_temperature</th>\n",
       "      <th>normalised_temp_values</th>\n",
       "      <th>normalised_temp_avg</th>\n",
       "    </tr>\n",
       "  </thead>\n",
       "  <tbody>\n",
       "    <tr>\n",
       "      <th>0</th>\n",
       "      <td>[973.0]</td>\n",
       "      <td>-</td>\n",
       "      <td>[973.0]</td>\n",
       "      <td>973.0</td>\n",
       "    </tr>\n",
       "    <tr>\n",
       "      <th>1</th>\n",
       "      <td>[973.0]</td>\n",
       "      <td>-</td>\n",
       "      <td>[973.0]</td>\n",
       "      <td>973.0</td>\n",
       "    </tr>\n",
       "    <tr>\n",
       "      <th>2</th>\n",
       "      <td>-</td>\n",
       "      <td>room temperature</td>\n",
       "      <td>[295]</td>\n",
       "      <td>295.0</td>\n",
       "    </tr>\n",
       "    <tr>\n",
       "      <th>3</th>\n",
       "      <td>[300.0]</td>\n",
       "      <td>-</td>\n",
       "      <td>[300.0]</td>\n",
       "      <td>300.0</td>\n",
       "    </tr>\n",
       "    <tr>\n",
       "      <th>4</th>\n",
       "      <td>-</td>\n",
       "      <td>room temperature</td>\n",
       "      <td>[295]</td>\n",
       "      <td>295.0</td>\n",
       "    </tr>\n",
       "  </tbody>\n",
       "</table>\n",
       "</div>"
      ],
      "text/plain": [
       "  temp_value  room_temperature normalised_temp_values  normalised_temp_avg\n",
       "0    [973.0]                 -                [973.0]                973.0\n",
       "1    [973.0]                 -                [973.0]                973.0\n",
       "2          -  room temperature                  [295]                295.0\n",
       "3    [300.0]                 -                [300.0]                300.0\n",
       "4          -  room temperature                  [295]                295.0"
      ]
     },
     "execution_count": 135,
     "metadata": {},
     "output_type": "execute_result"
    }
   ],
   "source": [
    "df[\"temp_value room_temperature normalised_temp_values normalised_temp_avg\".split()].head()\n",
    "# keep normalised_temp_values and normalised_temp_avg.\n",
    "# now 'temp_value', 'room_temperature', and 'temp_numbers' are redundant. 'temp_units' will soon be too"
   ]
  },
  {
   "cell_type": "code",
   "execution_count": 136,
   "metadata": {},
   "outputs": [
    {
     "name": "stdout",
     "output_type": "stream",
     "text": [
      "<class 'list'>    22961\n",
      "Name: normalised_temp_values, dtype: int64\n"
     ]
    }
   ],
   "source": [
    "# check\n",
    "print(df.normalised_temp_values.apply(type).value_counts())"
   ]
  },
  {
   "cell_type": "code",
   "execution_count": 137,
   "metadata": {},
   "outputs": [],
   "source": [
    "df[\"normalised_temp_units\"] = \"Kelvin^(1.0)\""
   ]
  },
  {
   "cell_type": "code",
   "execution_count": 138,
   "metadata": {},
   "outputs": [
    {
     "data": {
      "text/plain": [
       "Index(['compound_name', 'model', 'raw_value', 'raw_units', 'value', 'units',\n",
       "       'temp_value', 'temp_units', 'room_temperature', 'editing', 'exrept',\n",
       "       'doi', 'error', 'process', 'pressure_value', 'pressure_units',\n",
       "       'direction_of_measurement', 'labels', 'parser', 'specifier', 'title',\n",
       "       'publisher', 'yop', 'oa', 'clean_name', 'first_name',\n",
       "       'normalised_model', 'temp_numbers', 'normalised_temp_values',\n",
       "       'normalised_temp_avg', 'normalised_temp_units'],\n",
       "      dtype='object')"
      ]
     },
     "execution_count": 138,
     "metadata": {},
     "output_type": "execute_result"
    }
   ],
   "source": [
    "df.columns"
   ]
  },
  {
   "cell_type": "code",
   "execution_count": 139,
   "metadata": {},
   "outputs": [],
   "source": [
    "# STATE BACKUP\n",
    "df_normalised_temp = df.copy()"
   ]
  },
  {
   "cell_type": "code",
   "execution_count": 140,
   "metadata": {},
   "outputs": [],
   "source": [
    "# recover\n",
    "df = df_normalised_temp.copy()"
   ]
  },
  {
   "cell_type": "markdown",
   "metadata": {},
   "source": [
    "### Normalising models"
   ]
  },
  {
   "cell_type": "code",
   "execution_count": 141,
   "metadata": {},
   "outputs": [
    {
     "data": {
      "text/plain": [
       "Series([], Name: value, dtype: object)"
      ]
     },
     "execution_count": 141,
     "metadata": {},
     "output_type": "execute_result"
    }
   ],
   "source": [
    "#check for problems\n",
    "(df[df.value.apply(make_number_list2).isna()])['value']"
   ]
  },
  {
   "cell_type": "code",
   "execution_count": 142,
   "metadata": {},
   "outputs": [],
   "source": [
    "df['value_numbers'] = df.value.apply(make_number_list2)"
   ]
  },
  {
   "cell_type": "code",
   "execution_count": 143,
   "metadata": {},
   "outputs": [
    {
     "data": {
      "text/plain": [
       "1    22217\n",
       "2      742\n",
       "3        2\n",
       "Name: value_numbers, dtype: int64"
      ]
     },
     "execution_count": 143,
     "metadata": {},
     "output_type": "execute_result"
    }
   ],
   "source": [
    "df.value_numbers.apply(len).value_counts()"
   ]
  },
  {
   "cell_type": "code",
   "execution_count": 144,
   "metadata": {},
   "outputs": [
    {
     "data": {
      "text/plain": [
       "array(['ThermCond', 'ZT', 'Resistivity', 'Seebeck', 'PF', 'Conductivity',\n",
       "       'Conductivity2'], dtype=object)"
      ]
     },
     "execution_count": 144,
     "metadata": {},
     "output_type": "execute_result"
    }
   ],
   "source": [
    "df.model.unique()"
   ]
  },
  {
   "cell_type": "code",
   "execution_count": 145,
   "metadata": {},
   "outputs": [
    {
     "name": "stdout",
     "output_type": "stream",
     "text": [
      "ThermCond:\n",
      "['Kelvin^(-1.0)  Meter^(-1.0)  Watt^(1.0)'\n",
      " '(10^-1.0) * Kelvin^(-1.0)  Meter^(-1.0)  Watt^(1.0)'\n",
      " '(10^-4.0) * Kelvin^(-1.0)  Meter^(-1.0)  Watt^(1.0)'\n",
      " 'Celsius^(-1.0)  Meter^(-1.0)  Watt^(1.0)'\n",
      " '(10^2.0) * Kelvin^(-1.0)  Meter^(-1.0)  Watt^(1.0)'\n",
      " 'WattsOverMeterKelvin^(1.0)'\n",
      " '(10^-6.0) * Kelvin^(-1.0)  Meter^(-1.0)  Watt^(1.0)'\n",
      " '(10^2.0) * Joule^(1.0)  Kelvin^(-1.0)  Meter^(-1.0)  Second^(-1.0)'\n",
      " '(10^-3.0) * Kelvin^(-1.0)  Meter^(-1.0)  Watt^(1.0)']\n",
      "\n",
      "ZT:\n",
      "['-']\n",
      "\n",
      "Resistivity:\n",
      "['(10^-2.0) * Meter^(1.0)  Ohm^(1.0)' '(10^-6.0) * Meter^(1.0)  Ohm^(1.0)'\n",
      " '(10^-8.0) * Meter^(1.0)  Ohm^(1.0)' '(10^1.0) * Meter^(1.0)  Ohm^(1.0)'\n",
      " 'Meter^(1.0)  Ohm^(1.0)' '(10^4.0) * Meter^(1.0)  Ohm^(1.0)'\n",
      " '(10^-2.0) * MeterOhm^(1.0)' '(10^3.0) * Meter^(1.0)  Ohm^(1.0)'\n",
      " 'MeterOhm^(1.0)' '(10^7.0) * Meter^(1.0)  Ohm^(1.0)']\n",
      "\n",
      "Seebeck:\n",
      "['(10^-6.0) * Kelvin^(-1.0)  Volt^(1.0)'\n",
      " '(10^-9.0) * Kelvin^(-1.0)  Volt^(1.0)'\n",
      " '(10^-3.0) * Kelvin^(-1.0)  Volt^(1.0)' 'Kelvin^(-1.0)  Volt^(1.0)'\n",
      " '(10^-6.0) * Celsius^(-1.0)  Volt^(1.0)'\n",
      " '(10^-12.0) * Kelvin^(-1.0)  Volt^(1.0)']\n",
      "\n",
      "PF:\n",
      "['(10^-4.0) * Kelvin^(-2.0)  Meter^(-1.0)  Watt^(1.0)'\n",
      " '(10^-6.0) * Kelvin^(-2.0)  Meter^(-1.0)  Watt^(1.0)'\n",
      " 'Kelvin^(-2.0)  Meter^(-1.0)  Watt^(1.0)'\n",
      " '(10^-3.0) * Kelvin^(-2.0)  Meter^(-1.0)  Watt^(1.0)'\n",
      " '(10^6.0) * Kelvin^(-2.0)  Meter^(-1.0)  Watt^(1.0)'\n",
      " '(10^-1.0) * Kelvin^(-2.0)  Meter^(-1.0)  Watt^(1.0)'\n",
      " '(10^2.0) * Kelvin^(-2.0)  Meter^(-1.0)  Watt^(1.0)'\n",
      " '(10^3.0) * Kelvin^(-2.0)  Meter^(-1.0)  Watt^(1.0)'\n",
      " '(10^-9.0) * Kelvin^(-2.0)  Meter^(-1.0)  Watt^(1.0)']\n",
      "\n",
      "Conductivity:\n",
      "['(10^2.0) * Meter^(-1.0)  Ohm^(-1.0)' 'Meter^(-1.0)  Ohm^(-1.0)'\n",
      " '(10^6.0) * Meter^(-1.0)  Ohm^(-1.0)']\n",
      "\n",
      "Conductivity2:\n",
      "['(10^2.0) * Meter^(-1.0)  Siemens^(1.0)' 'Meter^(-1.0)  Siemens^(1.0)'\n",
      " '(10^-4.0) * Meter^(-1.0)  Siemens^(1.0)'\n",
      " '(10^-1.0) * Meter^(-1.0)  Siemens^(1.0)'\n",
      " '(10^-3.0) * Meter^(-1.0)  Siemens^(1.0)'\n",
      " '(10^-6.0) * Meter^(-1.0)  Siemens^(1.0)'\n",
      " '(10^3.0) * Meter^(-1.0)  Siemens^(1.0)'\n",
      " '(10^6.0) * Meter^(-1.0)  Siemens^(1.0)']\n",
      "\n"
     ]
    }
   ],
   "source": [
    "for mod in df.model.unique():\n",
    "    print(mod + ':')\n",
    "    units = df[df.model == mod].units.unique()\n",
    "    print(units)\n",
    "    #print([normalise_units_prefix(u) for u in units])\n",
    "    print()\n",
    "    \n",
    "# where there is temperature, everything is in Kelvin and Celsius, so we don't need any fancy conversions"
   ]
  },
  {
   "cell_type": "code",
   "execution_count": 146,
   "metadata": {},
   "outputs": [
    {
     "data": {
      "text/html": [
       "<div>\n",
       "<style scoped>\n",
       "    .dataframe tbody tr th:only-of-type {\n",
       "        vertical-align: middle;\n",
       "    }\n",
       "\n",
       "    .dataframe tbody tr th {\n",
       "        vertical-align: top;\n",
       "    }\n",
       "\n",
       "    .dataframe thead th {\n",
       "        text-align: right;\n",
       "    }\n",
       "</style>\n",
       "<table border=\"1\" class=\"dataframe\">\n",
       "  <thead>\n",
       "    <tr style=\"text-align: right;\">\n",
       "      <th></th>\n",
       "      <th>compound_name</th>\n",
       "      <th>value_numbers</th>\n",
       "      <th>units</th>\n",
       "    </tr>\n",
       "  </thead>\n",
       "  <tbody>\n",
       "    <tr>\n",
       "      <th>16591</th>\n",
       "      <td>['Bi90Sb10']</td>\n",
       "      <td>[-45.0]</td>\n",
       "      <td>(10^-6.0) * Celsius^(-1.0)  Volt^(1.0)</td>\n",
       "    </tr>\n",
       "    <tr>\n",
       "      <th>16795</th>\n",
       "      <td>['copper–nickel alloy']</td>\n",
       "      <td>[-35.0]</td>\n",
       "      <td>(10^-6.0) * Celsius^(-1.0)  Volt^(1.0)</td>\n",
       "    </tr>\n",
       "    <tr>\n",
       "      <th>16951</th>\n",
       "      <td>['MoTe2']</td>\n",
       "      <td>[-780.0]</td>\n",
       "      <td>(10^-6.0) * Celsius^(-1.0)  Volt^(1.0)</td>\n",
       "    </tr>\n",
       "    <tr>\n",
       "      <th>16952</th>\n",
       "      <td>['MoSe2']</td>\n",
       "      <td>[-900.0]</td>\n",
       "      <td>(10^-6.0) * Celsius^(-1.0)  Volt^(1.0)</td>\n",
       "    </tr>\n",
       "    <tr>\n",
       "      <th>16956</th>\n",
       "      <td>['In2O3']</td>\n",
       "      <td>[224.0]</td>\n",
       "      <td>(10^-6.0) * Celsius^(-1.0)  Volt^(1.0)</td>\n",
       "    </tr>\n",
       "    <tr>\n",
       "      <th>16957</th>\n",
       "      <td>['In2O3']</td>\n",
       "      <td>[162.0]</td>\n",
       "      <td>(10^-6.0) * Celsius^(-1.0)  Volt^(1.0)</td>\n",
       "    </tr>\n",
       "    <tr>\n",
       "      <th>17019</th>\n",
       "      <td>['bulk TlSbTe2']</td>\n",
       "      <td>[70.0]</td>\n",
       "      <td>(10^-6.0) * Celsius^(-1.0)  Volt^(1.0)</td>\n",
       "    </tr>\n",
       "    <tr>\n",
       "      <th>17497</th>\n",
       "      <td>['TlInSe2']</td>\n",
       "      <td>[107.0]</td>\n",
       "      <td>(10^-6.0) * Celsius^(-1.0)  Volt^(1.0)</td>\n",
       "    </tr>\n",
       "    <tr>\n",
       "      <th>17750</th>\n",
       "      <td>['Bi2Te3']</td>\n",
       "      <td>[35.5]</td>\n",
       "      <td>(10^-6.0) * Celsius^(-1.0)  Volt^(1.0)</td>\n",
       "    </tr>\n",
       "    <tr>\n",
       "      <th>17751</th>\n",
       "      <td>['Fe2O3']</td>\n",
       "      <td>[-54.5]</td>\n",
       "      <td>(10^-6.0) * Celsius^(-1.0)  Volt^(1.0)</td>\n",
       "    </tr>\n",
       "    <tr>\n",
       "      <th>17876</th>\n",
       "      <td>['Cu–Ni']</td>\n",
       "      <td>[17.81]</td>\n",
       "      <td>(10^-6.0) * Celsius^(-1.0)  Volt^(1.0)</td>\n",
       "    </tr>\n",
       "    <tr>\n",
       "      <th>17981</th>\n",
       "      <td>['In2O3']</td>\n",
       "      <td>[131.7]</td>\n",
       "      <td>(10^-6.0) * Celsius^(-1.0)  Volt^(1.0)</td>\n",
       "    </tr>\n",
       "    <tr>\n",
       "      <th>18224</th>\n",
       "      <td>['1019-boron doped polysilicon']</td>\n",
       "      <td>[350.0]</td>\n",
       "      <td>(10^-6.0) * Celsius^(-1.0)  Volt^(1.0)</td>\n",
       "    </tr>\n",
       "    <tr>\n",
       "      <th>18437</th>\n",
       "      <td>['In2O3']</td>\n",
       "      <td>[341.5]</td>\n",
       "      <td>(10^-6.0) * Celsius^(-1.0)  Volt^(1.0)</td>\n",
       "    </tr>\n",
       "    <tr>\n",
       "      <th>18452</th>\n",
       "      <td>['NiSbS']</td>\n",
       "      <td>[-9.0]</td>\n",
       "      <td>(10^-6.0) * Celsius^(-1.0)  Volt^(1.0)</td>\n",
       "    </tr>\n",
       "    <tr>\n",
       "      <th>18599</th>\n",
       "      <td>['n-type Bi2Te3 films']</td>\n",
       "      <td>[-195.0]</td>\n",
       "      <td>(10^-6.0) * Celsius^(-1.0)  Volt^(1.0)</td>\n",
       "    </tr>\n",
       "    <tr>\n",
       "      <th>18600</th>\n",
       "      <td>['p-type Sb2Te3 films']</td>\n",
       "      <td>[153.0]</td>\n",
       "      <td>(10^-6.0) * Celsius^(-1.0)  Volt^(1.0)</td>\n",
       "    </tr>\n",
       "    <tr>\n",
       "      <th>18602</th>\n",
       "      <td>['p-type (Pb0.74Sn0.4Cd0.02)Te']</td>\n",
       "      <td>[200.0]</td>\n",
       "      <td>(10^-6.0) * Celsius^(-1.0)  Volt^(1.0)</td>\n",
       "    </tr>\n",
       "    <tr>\n",
       "      <th>18662</th>\n",
       "      <td>['Bi2Te3']</td>\n",
       "      <td>[345.0]</td>\n",
       "      <td>(10^-6.0) * Celsius^(-1.0)  Volt^(1.0)</td>\n",
       "    </tr>\n",
       "  </tbody>\n",
       "</table>\n",
       "</div>"
      ],
      "text/plain": [
       "                          compound_name value_numbers  \\\n",
       "16591                      ['Bi90Sb10']       [-45.0]   \n",
       "16795           ['copper–nickel alloy']       [-35.0]   \n",
       "16951                         ['MoTe2']      [-780.0]   \n",
       "16952                         ['MoSe2']      [-900.0]   \n",
       "16956                         ['In2O3']       [224.0]   \n",
       "16957                         ['In2O3']       [162.0]   \n",
       "17019                  ['bulk TlSbTe2']        [70.0]   \n",
       "17497                       ['TlInSe2']       [107.0]   \n",
       "17750                        ['Bi2Te3']        [35.5]   \n",
       "17751                         ['Fe2O3']       [-54.5]   \n",
       "17876                         ['Cu–Ni']       [17.81]   \n",
       "17981                         ['In2O3']       [131.7]   \n",
       "18224  ['1019-boron doped polysilicon']       [350.0]   \n",
       "18437                         ['In2O3']       [341.5]   \n",
       "18452                         ['NiSbS']        [-9.0]   \n",
       "18599           ['n-type Bi2Te3 films']      [-195.0]   \n",
       "18600           ['p-type Sb2Te3 films']       [153.0]   \n",
       "18602  ['p-type (Pb0.74Sn0.4Cd0.02)Te']       [200.0]   \n",
       "18662                        ['Bi2Te3']       [345.0]   \n",
       "\n",
       "                                        units  \n",
       "16591  (10^-6.0) * Celsius^(-1.0)  Volt^(1.0)  \n",
       "16795  (10^-6.0) * Celsius^(-1.0)  Volt^(1.0)  \n",
       "16951  (10^-6.0) * Celsius^(-1.0)  Volt^(1.0)  \n",
       "16952  (10^-6.0) * Celsius^(-1.0)  Volt^(1.0)  \n",
       "16956  (10^-6.0) * Celsius^(-1.0)  Volt^(1.0)  \n",
       "16957  (10^-6.0) * Celsius^(-1.0)  Volt^(1.0)  \n",
       "17019  (10^-6.0) * Celsius^(-1.0)  Volt^(1.0)  \n",
       "17497  (10^-6.0) * Celsius^(-1.0)  Volt^(1.0)  \n",
       "17750  (10^-6.0) * Celsius^(-1.0)  Volt^(1.0)  \n",
       "17751  (10^-6.0) * Celsius^(-1.0)  Volt^(1.0)  \n",
       "17876  (10^-6.0) * Celsius^(-1.0)  Volt^(1.0)  \n",
       "17981  (10^-6.0) * Celsius^(-1.0)  Volt^(1.0)  \n",
       "18224  (10^-6.0) * Celsius^(-1.0)  Volt^(1.0)  \n",
       "18437  (10^-6.0) * Celsius^(-1.0)  Volt^(1.0)  \n",
       "18452  (10^-6.0) * Celsius^(-1.0)  Volt^(1.0)  \n",
       "18599  (10^-6.0) * Celsius^(-1.0)  Volt^(1.0)  \n",
       "18600  (10^-6.0) * Celsius^(-1.0)  Volt^(1.0)  \n",
       "18602  (10^-6.0) * Celsius^(-1.0)  Volt^(1.0)  \n",
       "18662  (10^-6.0) * Celsius^(-1.0)  Volt^(1.0)  "
      ]
     },
     "execution_count": 146,
     "metadata": {},
     "output_type": "execute_result"
    }
   ],
   "source": [
    "# Seebeck V/C is the same as V/K (change per kelvin = chenge per celsius)\n",
    "df[df.units == '(10^-6.0) * Celsius^(-1.0)  Volt^(1.0)']['compound_name value_numbers units'.split()]"
   ]
  },
  {
   "cell_type": "code",
   "execution_count": 147,
   "metadata": {},
   "outputs": [
    {
     "name": "stdout",
     "output_type": "stream",
     "text": [
      "ThermCond:\n",
      "Kelvin^(-1.0)  Meter^(-1.0)  Watt^(1.0) []\n",
      "(10^-1.0) * Kelvin^(-1.0)  Meter^(-1.0)  Watt^(1.0) ['-1']\n",
      "(10^-4.0) * Kelvin^(-1.0)  Meter^(-1.0)  Watt^(1.0) ['-4']\n",
      "Celsius^(-1.0)  Meter^(-1.0)  Watt^(1.0) []\n",
      "(10^2.0) * Kelvin^(-1.0)  Meter^(-1.0)  Watt^(1.0) ['2']\n",
      "WattsOverMeterKelvin^(1.0) []\n",
      "(10^-6.0) * Kelvin^(-1.0)  Meter^(-1.0)  Watt^(1.0) ['-6']\n",
      "(10^2.0) * Joule^(1.0)  Kelvin^(-1.0)  Meter^(-1.0)  Second^(-1.0) ['2']\n",
      "(10^-3.0) * Kelvin^(-1.0)  Meter^(-1.0)  Watt^(1.0) ['-3']\n",
      "\n",
      "ZT:\n",
      "- []\n",
      "\n",
      "Resistivity:\n",
      "(10^-2.0) * Meter^(1.0)  Ohm^(1.0) ['-2']\n",
      "(10^-6.0) * Meter^(1.0)  Ohm^(1.0) ['-6']\n",
      "(10^-8.0) * Meter^(1.0)  Ohm^(1.0) ['-8']\n",
      "(10^1.0) * Meter^(1.0)  Ohm^(1.0) ['1']\n",
      "Meter^(1.0)  Ohm^(1.0) []\n",
      "(10^4.0) * Meter^(1.0)  Ohm^(1.0) ['4']\n",
      "(10^-2.0) * MeterOhm^(1.0) ['-2']\n",
      "(10^3.0) * Meter^(1.0)  Ohm^(1.0) ['3']\n",
      "MeterOhm^(1.0) []\n",
      "(10^7.0) * Meter^(1.0)  Ohm^(1.0) ['7']\n",
      "\n",
      "Seebeck:\n",
      "(10^-6.0) * Kelvin^(-1.0)  Volt^(1.0) ['-6']\n",
      "(10^-9.0) * Kelvin^(-1.0)  Volt^(1.0) ['-9']\n",
      "(10^-3.0) * Kelvin^(-1.0)  Volt^(1.0) ['-3']\n",
      "Kelvin^(-1.0)  Volt^(1.0) []\n",
      "(10^-6.0) * Celsius^(-1.0)  Volt^(1.0) ['-6']\n",
      "(10^-12.0) * Kelvin^(-1.0)  Volt^(1.0) ['-12']\n",
      "\n",
      "PF:\n",
      "(10^-4.0) * Kelvin^(-2.0)  Meter^(-1.0)  Watt^(1.0) ['-4']\n",
      "(10^-6.0) * Kelvin^(-2.0)  Meter^(-1.0)  Watt^(1.0) ['-6']\n",
      "Kelvin^(-2.0)  Meter^(-1.0)  Watt^(1.0) []\n",
      "(10^-3.0) * Kelvin^(-2.0)  Meter^(-1.0)  Watt^(1.0) ['-3']\n",
      "(10^6.0) * Kelvin^(-2.0)  Meter^(-1.0)  Watt^(1.0) ['6']\n",
      "(10^-1.0) * Kelvin^(-2.0)  Meter^(-1.0)  Watt^(1.0) ['-1']\n",
      "(10^2.0) * Kelvin^(-2.0)  Meter^(-1.0)  Watt^(1.0) ['2']\n",
      "(10^3.0) * Kelvin^(-2.0)  Meter^(-1.0)  Watt^(1.0) ['3']\n",
      "(10^-9.0) * Kelvin^(-2.0)  Meter^(-1.0)  Watt^(1.0) ['-9']\n",
      "\n",
      "Conductivity:\n",
      "(10^2.0) * Meter^(-1.0)  Ohm^(-1.0) ['2']\n",
      "Meter^(-1.0)  Ohm^(-1.0) []\n",
      "(10^6.0) * Meter^(-1.0)  Ohm^(-1.0) ['6']\n",
      "\n",
      "Conductivity2:\n",
      "(10^2.0) * Meter^(-1.0)  Siemens^(1.0) ['2']\n",
      "Meter^(-1.0)  Siemens^(1.0) []\n",
      "(10^-4.0) * Meter^(-1.0)  Siemens^(1.0) ['-4']\n",
      "(10^-1.0) * Meter^(-1.0)  Siemens^(1.0) ['-1']\n",
      "(10^-3.0) * Meter^(-1.0)  Siemens^(1.0) ['-3']\n",
      "(10^-6.0) * Meter^(-1.0)  Siemens^(1.0) ['-6']\n",
      "(10^3.0) * Meter^(-1.0)  Siemens^(1.0) ['3']\n",
      "(10^6.0) * Meter^(-1.0)  Siemens^(1.0) ['6']\n",
      "\n"
     ]
    }
   ],
   "source": [
    "# check that our exponent extraction works\n",
    "\n",
    "for mod in df.model.unique():\n",
    "    print(mod + ':')\n",
    "    units_list = df[df.model == mod].units.unique()\n",
    "    for units in units_list:\n",
    "        exponent_list = re.findall('\\(10\\^(\\-?\\d\\d?).0\\)', units)\n",
    "        print(units, exponent_list)\n",
    "    #print([normalise_units_prefix(u) for u in units])\n",
    "    print()"
   ]
  },
  {
   "cell_type": "code",
   "execution_count": 148,
   "metadata": {},
   "outputs": [],
   "source": [
    "def normalise_units_prefix(df):\n",
    "    exponent_list = re.findall('\\(10\\^(\\-?\\d\\d?).0\\)', df.units) #find all the powers of 10 and return the exponent\n",
    "    if exponent_list:\n",
    "        return [v * 10**int(exponent_list[0]) for v in df.value_numbers]\n",
    "    else:\n",
    "        return df.value_numbers"
   ]
  },
  {
   "cell_type": "code",
   "execution_count": 149,
   "metadata": {},
   "outputs": [],
   "source": [
    "df['normalised_values'] = df.apply(normalise_units_prefix, axis=1)"
   ]
  },
  {
   "cell_type": "code",
   "execution_count": 150,
   "metadata": {},
   "outputs": [],
   "source": [
    "# fix the values for resistivity. What's the correct approach for ranges?\n",
    "# Inverse and then average? or the other way round? \n",
    "\n",
    "def normalise_resistivity_values(df):\n",
    "    try:\n",
    "        if df.model == 'Resistivity':\n",
    "            return [1.0 / v for v in df.normalised_values]\n",
    "        else:\n",
    "            return df.normalised_values\n",
    "    except:\n",
    "        return np.nan"
   ]
  },
  {
   "cell_type": "code",
   "execution_count": 151,
   "metadata": {},
   "outputs": [
    {
     "name": "stdout",
     "output_type": "stream",
     "text": [
      "22961\n",
      "22956\n"
     ]
    }
   ],
   "source": [
    "#drop some wrong zero values to avoid zero division\n",
    "print(len(df))\n",
    "# use apply to compare to list entry to list\n",
    "df = df[df.normalised_values.apply(lambda x: x != [0.0])]\n",
    "print(len(df))"
   ]
  },
  {
   "cell_type": "code",
   "execution_count": 152,
   "metadata": {},
   "outputs": [
    {
     "name": "stdout",
     "output_type": "stream",
     "text": [
      "True     22245\n",
      "False      711\n",
      "dtype: int64\n",
      "718\n",
      "7\n"
     ]
    }
   ],
   "source": [
    "#check how many changes, must match resistivity total. The small difference is from values = 1. Checked\n",
    "print((df.apply(normalise_resistivity_values, axis=1) == df.normalised_values).value_counts())\n",
    "print((df.model == 'Resistivity').sum())\n",
    "print(((df.model == 'Resistivity') & (df.normalised_values.apply(lambda x: x == [1.0]))).sum())"
   ]
  },
  {
   "cell_type": "code",
   "execution_count": 153,
   "metadata": {},
   "outputs": [],
   "source": [
    "df.normalised_values = df.apply(normalise_resistivity_values, axis=1)"
   ]
  },
  {
   "cell_type": "code",
   "execution_count": 154,
   "metadata": {
    "scrolled": true
   },
   "outputs": [
    {
     "data": {
      "text/plain": [
       "0    [1.47]\n",
       "1     [2.2]\n",
       "2     [1.2]\n",
       "3     [0.7]\n",
       "4    [1.15]\n",
       "Name: normalised_values, dtype: object"
      ]
     },
     "execution_count": 154,
     "metadata": {},
     "output_type": "execute_result"
    }
   ],
   "source": [
    "df.normalised_values.head()"
   ]
  },
  {
   "cell_type": "code",
   "execution_count": 155,
   "metadata": {},
   "outputs": [],
   "source": [
    "df['normalised_avg'] = df.normalised_values.apply(get_average_from_list)\n",
    "# average of inverse, for resistivity extractions"
   ]
  },
  {
   "cell_type": "code",
   "execution_count": 156,
   "metadata": {},
   "outputs": [
    {
     "data": {
      "text/html": [
       "<div>\n",
       "<style scoped>\n",
       "    .dataframe tbody tr th:only-of-type {\n",
       "        vertical-align: middle;\n",
       "    }\n",
       "\n",
       "    .dataframe tbody tr th {\n",
       "        vertical-align: top;\n",
       "    }\n",
       "\n",
       "    .dataframe thead th {\n",
       "        text-align: right;\n",
       "    }\n",
       "</style>\n",
       "<table border=\"1\" class=\"dataframe\">\n",
       "  <thead>\n",
       "    <tr style=\"text-align: right;\">\n",
       "      <th></th>\n",
       "      <th>value</th>\n",
       "      <th>value_numbers</th>\n",
       "      <th>units</th>\n",
       "      <th>normalised_values</th>\n",
       "      <th>normalised_avg</th>\n",
       "    </tr>\n",
       "  </thead>\n",
       "  <tbody>\n",
       "    <tr>\n",
       "      <th>0</th>\n",
       "      <td>[1.47]</td>\n",
       "      <td>[1.47]</td>\n",
       "      <td>Kelvin^(-1.0)  Meter^(-1.0)  Watt^(1.0)</td>\n",
       "      <td>[1.47]</td>\n",
       "      <td>1.470</td>\n",
       "    </tr>\n",
       "    <tr>\n",
       "      <th>1</th>\n",
       "      <td>[2.2]</td>\n",
       "      <td>[2.2]</td>\n",
       "      <td>Kelvin^(-1.0)  Meter^(-1.0)  Watt^(1.0)</td>\n",
       "      <td>[2.2]</td>\n",
       "      <td>2.200</td>\n",
       "    </tr>\n",
       "    <tr>\n",
       "      <th>2</th>\n",
       "      <td>[1.2]</td>\n",
       "      <td>[1.2]</td>\n",
       "      <td>Kelvin^(-1.0)  Meter^(-1.0)  Watt^(1.0)</td>\n",
       "      <td>[1.2]</td>\n",
       "      <td>1.200</td>\n",
       "    </tr>\n",
       "    <tr>\n",
       "      <th>3</th>\n",
       "      <td>[0.7]</td>\n",
       "      <td>[0.7]</td>\n",
       "      <td>Kelvin^(-1.0)  Meter^(-1.0)  Watt^(1.0)</td>\n",
       "      <td>[0.7]</td>\n",
       "      <td>0.700</td>\n",
       "    </tr>\n",
       "    <tr>\n",
       "      <th>4</th>\n",
       "      <td>[1.15]</td>\n",
       "      <td>[1.15]</td>\n",
       "      <td>Kelvin^(-1.0)  Meter^(-1.0)  Watt^(1.0)</td>\n",
       "      <td>[1.15]</td>\n",
       "      <td>1.150</td>\n",
       "    </tr>\n",
       "    <tr>\n",
       "      <th>...</th>\n",
       "      <td>...</td>\n",
       "      <td>...</td>\n",
       "      <td>...</td>\n",
       "      <td>...</td>\n",
       "      <td>...</td>\n",
       "    </tr>\n",
       "    <tr>\n",
       "      <th>23265</th>\n",
       "      <td>[2010.0]</td>\n",
       "      <td>[2010.0]</td>\n",
       "      <td>(10^2.0) * Meter^(-1.0)  Siemens^(1.0)</td>\n",
       "      <td>[201000.0]</td>\n",
       "      <td>201000.000</td>\n",
       "    </tr>\n",
       "    <tr>\n",
       "      <th>23266</th>\n",
       "      <td>[6.8]</td>\n",
       "      <td>[6.8]</td>\n",
       "      <td>(10^2.0) * Meter^(-1.0)  Siemens^(1.0)</td>\n",
       "      <td>[680.0]</td>\n",
       "      <td>680.000</td>\n",
       "    </tr>\n",
       "    <tr>\n",
       "      <th>23267</th>\n",
       "      <td>[0.15]</td>\n",
       "      <td>[0.15]</td>\n",
       "      <td>(10^-1.0) * Meter^(-1.0)  Siemens^(1.0)</td>\n",
       "      <td>[0.015]</td>\n",
       "      <td>0.015</td>\n",
       "    </tr>\n",
       "    <tr>\n",
       "      <th>23268</th>\n",
       "      <td>[40.0]</td>\n",
       "      <td>[40.0]</td>\n",
       "      <td>(10^2.0) * Meter^(-1.0)  Siemens^(1.0)</td>\n",
       "      <td>[4000.0]</td>\n",
       "      <td>4000.000</td>\n",
       "    </tr>\n",
       "    <tr>\n",
       "      <th>23269</th>\n",
       "      <td>[5490.0]</td>\n",
       "      <td>[5490.0]</td>\n",
       "      <td>Meter^(-1.0)  Siemens^(1.0)</td>\n",
       "      <td>[5490.0]</td>\n",
       "      <td>5490.000</td>\n",
       "    </tr>\n",
       "  </tbody>\n",
       "</table>\n",
       "<p>22956 rows × 5 columns</p>\n",
       "</div>"
      ],
      "text/plain": [
       "          value value_numbers                                    units  \\\n",
       "0        [1.47]        [1.47]  Kelvin^(-1.0)  Meter^(-1.0)  Watt^(1.0)   \n",
       "1         [2.2]         [2.2]  Kelvin^(-1.0)  Meter^(-1.0)  Watt^(1.0)   \n",
       "2         [1.2]         [1.2]  Kelvin^(-1.0)  Meter^(-1.0)  Watt^(1.0)   \n",
       "3         [0.7]         [0.7]  Kelvin^(-1.0)  Meter^(-1.0)  Watt^(1.0)   \n",
       "4        [1.15]        [1.15]  Kelvin^(-1.0)  Meter^(-1.0)  Watt^(1.0)   \n",
       "...         ...           ...                                      ...   \n",
       "23265  [2010.0]      [2010.0]   (10^2.0) * Meter^(-1.0)  Siemens^(1.0)   \n",
       "23266     [6.8]         [6.8]   (10^2.0) * Meter^(-1.0)  Siemens^(1.0)   \n",
       "23267    [0.15]        [0.15]  (10^-1.0) * Meter^(-1.0)  Siemens^(1.0)   \n",
       "23268    [40.0]        [40.0]   (10^2.0) * Meter^(-1.0)  Siemens^(1.0)   \n",
       "23269  [5490.0]      [5490.0]              Meter^(-1.0)  Siemens^(1.0)   \n",
       "\n",
       "      normalised_values  normalised_avg  \n",
       "0                [1.47]           1.470  \n",
       "1                 [2.2]           2.200  \n",
       "2                 [1.2]           1.200  \n",
       "3                 [0.7]           0.700  \n",
       "4                [1.15]           1.150  \n",
       "...                 ...             ...  \n",
       "23265        [201000.0]      201000.000  \n",
       "23266           [680.0]         680.000  \n",
       "23267           [0.015]           0.015  \n",
       "23268          [4000.0]        4000.000  \n",
       "23269          [5490.0]        5490.000  \n",
       "\n",
       "[22956 rows x 5 columns]"
      ]
     },
     "execution_count": 156,
     "metadata": {},
     "output_type": "execute_result"
    }
   ],
   "source": [
    "df[\"value value_numbers units normalised_values normalised_avg\".split()]\n",
    "\n",
    "# keep normalised_values and normalised_avg.\n",
    "# now 'value', and 'value_numbers' are redundant. 'units' will soon be too"
   ]
  },
  {
   "cell_type": "markdown",
   "metadata": {},
   "source": [
    "#### Normalise units (new in v8)"
   ]
  },
  {
   "cell_type": "code",
   "execution_count": 157,
   "metadata": {},
   "outputs": [
    {
     "data": {
      "text/plain": [
       "{'ThermCond': 'Kelvin^(-1.0)  Meter^(-1.0)  Watt^(1.0)',\n",
       " 'ZT': '-',\n",
       " 'Conductivity': 'Meter^(-1.0)  Siemens^(1.0)',\n",
       " 'Seebeck': 'Kelvin^(-1.0)  Volt^(1.0)',\n",
       " 'PF': 'Kelvin^(-2.0)  Meter^(-1.0)  Watt^(1.0)'}"
      ]
     },
     "execution_count": 157,
     "metadata": {},
     "output_type": "execute_result"
    }
   ],
   "source": [
    "norm_mod_dict = {'ThermCond': 'Kelvin^(-1.0)  Meter^(-1.0)  Watt^(1.0)',\n",
    " 'ZT': '-',\n",
    " 'Conductivity': 'Meter^(-1.0)  Siemens^(1.0)',\n",
    " 'Seebeck': 'Kelvin^(-1.0)  Volt^(1.0)',\n",
    " 'PF': 'Kelvin^(-2.0)  Meter^(-1.0)  Watt^(1.0)'}\n",
    "\n",
    "norm_mod_dict    "
   ]
  },
  {
   "cell_type": "code",
   "execution_count": 158,
   "metadata": {},
   "outputs": [
    {
     "data": {
      "text/plain": [
       "ZT              11710\n",
       "ThermCond        3715\n",
       "Conductivity     2768\n",
       "Seebeck          2518\n",
       "PF               2245\n",
       "Name: normalised_model, dtype: int64"
      ]
     },
     "execution_count": 158,
     "metadata": {},
     "output_type": "execute_result"
    }
   ],
   "source": [
    "df.normalised_model.value_counts()"
   ]
  },
  {
   "cell_type": "code",
   "execution_count": 159,
   "metadata": {},
   "outputs": [
    {
     "data": {
      "text/plain": [
       "-                                          11710\n",
       "Kelvin^(-1.0)  Meter^(-1.0)  Watt^(1.0)     3715\n",
       "Meter^(-1.0)  Siemens^(1.0)                 2768\n",
       "Kelvin^(-1.0)  Volt^(1.0)                   2518\n",
       "Kelvin^(-2.0)  Meter^(-1.0)  Watt^(1.0)     2245\n",
       "Name: normalised_model, dtype: int64"
      ]
     },
     "execution_count": 159,
     "metadata": {},
     "output_type": "execute_result"
    }
   ],
   "source": [
    "df.normalised_model.apply(lambda x: norm_mod_dict[x]).value_counts()  # must agree"
   ]
  },
  {
   "cell_type": "code",
   "execution_count": 160,
   "metadata": {},
   "outputs": [],
   "source": [
    "df['normalised_units'] = df.normalised_model.apply(lambda x: norm_mod_dict[x])"
   ]
  },
  {
   "cell_type": "code",
   "execution_count": 161,
   "metadata": {},
   "outputs": [
    {
     "data": {
      "text/html": [
       "<div>\n",
       "<style scoped>\n",
       "    .dataframe tbody tr th:only-of-type {\n",
       "        vertical-align: middle;\n",
       "    }\n",
       "\n",
       "    .dataframe tbody tr th {\n",
       "        vertical-align: top;\n",
       "    }\n",
       "\n",
       "    .dataframe thead th {\n",
       "        text-align: right;\n",
       "    }\n",
       "</style>\n",
       "<table border=\"1\" class=\"dataframe\">\n",
       "  <thead>\n",
       "    <tr style=\"text-align: right;\">\n",
       "      <th></th>\n",
       "      <th>compound_name</th>\n",
       "      <th>model</th>\n",
       "      <th>value</th>\n",
       "      <th>units</th>\n",
       "      <th>normalised_avg</th>\n",
       "      <th>normalised_units</th>\n",
       "    </tr>\n",
       "  </thead>\n",
       "  <tbody>\n",
       "    <tr>\n",
       "      <th>13277</th>\n",
       "      <td>['PbCl2 doped Ag10Pb100Bi10Se120']</td>\n",
       "      <td>ZT</td>\n",
       "      <td>[0.86]</td>\n",
       "      <td>-</td>\n",
       "      <td>0.860000</td>\n",
       "      <td>-</td>\n",
       "    </tr>\n",
       "    <tr>\n",
       "      <th>11652</th>\n",
       "      <td>['BiCu0.975SeO']</td>\n",
       "      <td>ZT</td>\n",
       "      <td>[0.8]</td>\n",
       "      <td>-</td>\n",
       "      <td>0.800000</td>\n",
       "      <td>-</td>\n",
       "    </tr>\n",
       "    <tr>\n",
       "      <th>1248</th>\n",
       "      <td>['Ag0.8Pb22.5SbTe12S8']</td>\n",
       "      <td>ThermCond</td>\n",
       "      <td>[0.83]</td>\n",
       "      <td>Kelvin^(-1.0)  Meter^(-1.0)  Watt^(1.0)</td>\n",
       "      <td>0.830000</td>\n",
       "      <td>Kelvin^(-1.0)  Meter^(-1.0)  Watt^(1.0)</td>\n",
       "    </tr>\n",
       "    <tr>\n",
       "      <th>3131</th>\n",
       "      <td>['monolayer MoS2']</td>\n",
       "      <td>ThermCond</td>\n",
       "      <td>[29.2]</td>\n",
       "      <td>Kelvin^(-1.0)  Meter^(-1.0)  Watt^(1.0)</td>\n",
       "      <td>29.200000</td>\n",
       "      <td>Kelvin^(-1.0)  Meter^(-1.0)  Watt^(1.0)</td>\n",
       "    </tr>\n",
       "    <tr>\n",
       "      <th>12408</th>\n",
       "      <td>['V2O5']</td>\n",
       "      <td>ZT</td>\n",
       "      <td>[0.45]</td>\n",
       "      <td>-</td>\n",
       "      <td>0.450000</td>\n",
       "      <td>-</td>\n",
       "    </tr>\n",
       "    <tr>\n",
       "      <th>2420</th>\n",
       "      <td>['CoSb3']</td>\n",
       "      <td>ThermCond</td>\n",
       "      <td>[10.0]</td>\n",
       "      <td>Kelvin^(-1.0)  Meter^(-1.0)  Watt^(1.0)</td>\n",
       "      <td>10.000000</td>\n",
       "      <td>Kelvin^(-1.0)  Meter^(-1.0)  Watt^(1.0)</td>\n",
       "    </tr>\n",
       "    <tr>\n",
       "      <th>14094</th>\n",
       "      <td>['Cu2Se']</td>\n",
       "      <td>ZT</td>\n",
       "      <td>[1.6]</td>\n",
       "      <td>-</td>\n",
       "      <td>1.600000</td>\n",
       "      <td>-</td>\n",
       "    </tr>\n",
       "    <tr>\n",
       "      <th>4622</th>\n",
       "      <td>['n-type Bi2Te3 nanowire']</td>\n",
       "      <td>ZT</td>\n",
       "      <td>[0.25]</td>\n",
       "      <td>-</td>\n",
       "      <td>0.250000</td>\n",
       "      <td>-</td>\n",
       "    </tr>\n",
       "    <tr>\n",
       "      <th>12590</th>\n",
       "      <td>['doped ZnO']</td>\n",
       "      <td>ZT</td>\n",
       "      <td>[0.65]</td>\n",
       "      <td>-</td>\n",
       "      <td>0.650000</td>\n",
       "      <td>-</td>\n",
       "    </tr>\n",
       "    <tr>\n",
       "      <th>14808</th>\n",
       "      <td>['pristine Ag2Te bulk']</td>\n",
       "      <td>ZT</td>\n",
       "      <td>[0.9]</td>\n",
       "      <td>-</td>\n",
       "      <td>0.900000</td>\n",
       "      <td>-</td>\n",
       "    </tr>\n",
       "    <tr>\n",
       "      <th>16811</th>\n",
       "      <td>['Cl− doped n-type SnSe2 nanosheets']</td>\n",
       "      <td>Seebeck</td>\n",
       "      <td>[-235.0]</td>\n",
       "      <td>(10^-6.0) * Kelvin^(-1.0)  Volt^(1.0)</td>\n",
       "      <td>-0.000235</td>\n",
       "      <td>Kelvin^(-1.0)  Volt^(1.0)</td>\n",
       "    </tr>\n",
       "    <tr>\n",
       "      <th>15006</th>\n",
       "      <td>['MoS2']</td>\n",
       "      <td>ZT</td>\n",
       "      <td>[0.1]</td>\n",
       "      <td>-</td>\n",
       "      <td>0.100000</td>\n",
       "      <td>-</td>\n",
       "    </tr>\n",
       "    <tr>\n",
       "      <th>13542</th>\n",
       "      <td>['polycrystalline p-type β-Zn4Sb3 bulk']</td>\n",
       "      <td>ZT</td>\n",
       "      <td>[1.0]</td>\n",
       "      <td>-</td>\n",
       "      <td>1.000000</td>\n",
       "      <td>-</td>\n",
       "    </tr>\n",
       "    <tr>\n",
       "      <th>757</th>\n",
       "      <td>['Bi2Te3']</td>\n",
       "      <td>ThermCond</td>\n",
       "      <td>[1.01]</td>\n",
       "      <td>Kelvin^(-1.0)  Meter^(-1.0)  Watt^(1.0)</td>\n",
       "      <td>1.010000</td>\n",
       "      <td>Kelvin^(-1.0)  Meter^(-1.0)  Watt^(1.0)</td>\n",
       "    </tr>\n",
       "    <tr>\n",
       "      <th>6661</th>\n",
       "      <td>['SnS']</td>\n",
       "      <td>ZT</td>\n",
       "      <td>[0.28]</td>\n",
       "      <td>-</td>\n",
       "      <td>0.280000</td>\n",
       "      <td>-</td>\n",
       "    </tr>\n",
       "    <tr>\n",
       "      <th>12477</th>\n",
       "      <td>['Sb3(Zn4−xCdx)']</td>\n",
       "      <td>ZT</td>\n",
       "      <td>[1.4]</td>\n",
       "      <td>-</td>\n",
       "      <td>1.400000</td>\n",
       "      <td>-</td>\n",
       "    </tr>\n",
       "    <tr>\n",
       "      <th>3506</th>\n",
       "      <td>['GaSb']</td>\n",
       "      <td>ThermCond</td>\n",
       "      <td>[34.0]</td>\n",
       "      <td>Kelvin^(-1.0)  Meter^(-1.0)  Watt^(1.0)</td>\n",
       "      <td>34.000000</td>\n",
       "      <td>Kelvin^(-1.0)  Meter^(-1.0)  Watt^(1.0)</td>\n",
       "    </tr>\n",
       "    <tr>\n",
       "      <th>16926</th>\n",
       "      <td>['Ca3Co2O6']</td>\n",
       "      <td>Seebeck</td>\n",
       "      <td>[450.0]</td>\n",
       "      <td>(10^-6.0) * Kelvin^(-1.0)  Volt^(1.0)</td>\n",
       "      <td>0.000450</td>\n",
       "      <td>Kelvin^(-1.0)  Volt^(1.0)</td>\n",
       "    </tr>\n",
       "    <tr>\n",
       "      <th>13618</th>\n",
       "      <td>['Cu2Se nanostructures']</td>\n",
       "      <td>ZT</td>\n",
       "      <td>[1.82]</td>\n",
       "      <td>-</td>\n",
       "      <td>1.820000</td>\n",
       "      <td>-</td>\n",
       "    </tr>\n",
       "    <tr>\n",
       "      <th>18056</th>\n",
       "      <td>['SCO film']</td>\n",
       "      <td>Seebeck</td>\n",
       "      <td>[46.61]</td>\n",
       "      <td>(10^-6.0) * Kelvin^(-1.0)  Volt^(1.0)</td>\n",
       "      <td>0.000047</td>\n",
       "      <td>Kelvin^(-1.0)  Volt^(1.0)</td>\n",
       "    </tr>\n",
       "    <tr>\n",
       "      <th>10906</th>\n",
       "      <td>['single crystalline SnSe']</td>\n",
       "      <td>ZT</td>\n",
       "      <td>[0.43]</td>\n",
       "      <td>-</td>\n",
       "      <td>0.430000</td>\n",
       "      <td>-</td>\n",
       "    </tr>\n",
       "    <tr>\n",
       "      <th>19408</th>\n",
       "      <td>['un-doped Cu4Mn2Te4']</td>\n",
       "      <td>PF</td>\n",
       "      <td>[20.0]</td>\n",
       "      <td>(10^-4.0) * Kelvin^(-2.0)  Meter^(-1.0)  Watt^...</td>\n",
       "      <td>0.002000</td>\n",
       "      <td>Kelvin^(-2.0)  Meter^(-1.0)  Watt^(1.0)</td>\n",
       "    </tr>\n",
       "  </tbody>\n",
       "</table>\n",
       "</div>"
      ],
      "text/plain": [
       "                                  compound_name      model     value  \\\n",
       "13277        ['PbCl2 doped Ag10Pb100Bi10Se120']         ZT    [0.86]   \n",
       "11652                          ['BiCu0.975SeO']         ZT     [0.8]   \n",
       "1248                    ['Ag0.8Pb22.5SbTe12S8']  ThermCond    [0.83]   \n",
       "3131                         ['monolayer MoS2']  ThermCond    [29.2]   \n",
       "12408                                  ['V2O5']         ZT    [0.45]   \n",
       "2420                                  ['CoSb3']  ThermCond    [10.0]   \n",
       "14094                                 ['Cu2Se']         ZT     [1.6]   \n",
       "4622                 ['n-type Bi2Te3 nanowire']         ZT    [0.25]   \n",
       "12590                             ['doped ZnO']         ZT    [0.65]   \n",
       "14808                   ['pristine Ag2Te bulk']         ZT     [0.9]   \n",
       "16811     ['Cl− doped n-type SnSe2 nanosheets']    Seebeck  [-235.0]   \n",
       "15006                                  ['MoS2']         ZT     [0.1]   \n",
       "13542  ['polycrystalline p-type β-Zn4Sb3 bulk']         ZT     [1.0]   \n",
       "757                                  ['Bi2Te3']  ThermCond    [1.01]   \n",
       "6661                                    ['SnS']         ZT    [0.28]   \n",
       "12477                         ['Sb3(Zn4−xCdx)']         ZT     [1.4]   \n",
       "3506                                   ['GaSb']  ThermCond    [34.0]   \n",
       "16926                              ['Ca3Co2O6']    Seebeck   [450.0]   \n",
       "13618                  ['Cu2Se nanostructures']         ZT    [1.82]   \n",
       "18056                              ['SCO film']    Seebeck   [46.61]   \n",
       "10906               ['single crystalline SnSe']         ZT    [0.43]   \n",
       "19408                    ['un-doped Cu4Mn2Te4']         PF    [20.0]   \n",
       "\n",
       "                                                   units  normalised_avg  \\\n",
       "13277                                                  -        0.860000   \n",
       "11652                                                  -        0.800000   \n",
       "1248             Kelvin^(-1.0)  Meter^(-1.0)  Watt^(1.0)        0.830000   \n",
       "3131             Kelvin^(-1.0)  Meter^(-1.0)  Watt^(1.0)       29.200000   \n",
       "12408                                                  -        0.450000   \n",
       "2420             Kelvin^(-1.0)  Meter^(-1.0)  Watt^(1.0)       10.000000   \n",
       "14094                                                  -        1.600000   \n",
       "4622                                                   -        0.250000   \n",
       "12590                                                  -        0.650000   \n",
       "14808                                                  -        0.900000   \n",
       "16811              (10^-6.0) * Kelvin^(-1.0)  Volt^(1.0)       -0.000235   \n",
       "15006                                                  -        0.100000   \n",
       "13542                                                  -        1.000000   \n",
       "757              Kelvin^(-1.0)  Meter^(-1.0)  Watt^(1.0)        1.010000   \n",
       "6661                                                   -        0.280000   \n",
       "12477                                                  -        1.400000   \n",
       "3506             Kelvin^(-1.0)  Meter^(-1.0)  Watt^(1.0)       34.000000   \n",
       "16926              (10^-6.0) * Kelvin^(-1.0)  Volt^(1.0)        0.000450   \n",
       "13618                                                  -        1.820000   \n",
       "18056              (10^-6.0) * Kelvin^(-1.0)  Volt^(1.0)        0.000047   \n",
       "10906                                                  -        0.430000   \n",
       "19408  (10^-4.0) * Kelvin^(-2.0)  Meter^(-1.0)  Watt^...        0.002000   \n",
       "\n",
       "                              normalised_units  \n",
       "13277                                        -  \n",
       "11652                                        -  \n",
       "1248   Kelvin^(-1.0)  Meter^(-1.0)  Watt^(1.0)  \n",
       "3131   Kelvin^(-1.0)  Meter^(-1.0)  Watt^(1.0)  \n",
       "12408                                        -  \n",
       "2420   Kelvin^(-1.0)  Meter^(-1.0)  Watt^(1.0)  \n",
       "14094                                        -  \n",
       "4622                                         -  \n",
       "12590                                        -  \n",
       "14808                                        -  \n",
       "16811                Kelvin^(-1.0)  Volt^(1.0)  \n",
       "15006                                        -  \n",
       "13542                                        -  \n",
       "757    Kelvin^(-1.0)  Meter^(-1.0)  Watt^(1.0)  \n",
       "6661                                         -  \n",
       "12477                                        -  \n",
       "3506   Kelvin^(-1.0)  Meter^(-1.0)  Watt^(1.0)  \n",
       "16926                Kelvin^(-1.0)  Volt^(1.0)  \n",
       "13618                                        -  \n",
       "18056                Kelvin^(-1.0)  Volt^(1.0)  \n",
       "10906                                        -  \n",
       "19408  Kelvin^(-2.0)  Meter^(-1.0)  Watt^(1.0)  "
      ]
     },
     "execution_count": 161,
     "metadata": {},
     "output_type": "execute_result"
    }
   ],
   "source": [
    "df['compound_name model value units normalised_avg normalised_units'.split()].sample(22)"
   ]
  },
  {
   "cell_type": "code",
   "execution_count": 162,
   "metadata": {},
   "outputs": [
    {
     "data": {
      "text/plain": [
       "ZT               11710\n",
       "ThermCond         3715\n",
       "Seebeck           2518\n",
       "PF                2245\n",
       "Conductivity2     1822\n",
       "Resistivity        718\n",
       "Conductivity       228\n",
       "Name: model, dtype: int64"
      ]
     },
     "execution_count": 162,
     "metadata": {},
     "output_type": "execute_result"
    }
   ],
   "source": [
    "df.model.value_counts()"
   ]
  },
  {
   "cell_type": "code",
   "execution_count": 163,
   "metadata": {},
   "outputs": [
    {
     "data": {
      "text/plain": [
       "ZT              11710\n",
       "ThermCond        3715\n",
       "Conductivity     2768\n",
       "Seebeck          2518\n",
       "PF               2245\n",
       "Name: normalised_model, dtype: int64"
      ]
     },
     "execution_count": 163,
     "metadata": {},
     "output_type": "execute_result"
    }
   ],
   "source": [
    "df.normalised_model.value_counts()"
   ]
  },
  {
   "cell_type": "code",
   "execution_count": 164,
   "metadata": {},
   "outputs": [],
   "source": [
    "df = df.replace('-', np.nan)"
   ]
  },
  {
   "cell_type": "code",
   "execution_count": null,
   "metadata": {},
   "outputs": [],
   "source": []
  },
  {
   "cell_type": "code",
   "execution_count": 165,
   "metadata": {},
   "outputs": [
    {
     "data": {
      "text/plain": [
       "0    Ca0.96Dy0.02Yb0.02MnO3\n",
       "1          Ca0.98Dy0.02MnO3\n",
       "2                    Bi2Te3\n",
       "3           Cu-doped Bi2Te3\n",
       "4                    Sb2Te3\n",
       "Name: first_name, dtype: object"
      ]
     },
     "execution_count": 165,
     "metadata": {},
     "output_type": "execute_result"
    }
   ],
   "source": [
    "df.first_name.head()"
   ]
  },
  {
   "cell_type": "markdown",
   "metadata": {},
   "source": [
    "### Thermal and ionic tagging"
   ]
  },
  {
   "cell_type": "code",
   "execution_count": 166,
   "metadata": {},
   "outputs": [
    {
     "data": {
      "text/plain": [
       "array(['thermal conductivity', 'κlat', 'lattice thermal conductivity',\n",
       "       'minimum κlat', 'thermal conductivities', 'κL', 'κ', 'κl',\n",
       "       'κtotal', 'κtot', 'phonon thermal conductivity', 'κPL', 'κlatt',\n",
       "       'minimum lattice thermal conductivity', 'highest κe',\n",
       "       'lattice thermal conductivities', 'highest κtotal', 'κT',\n",
       "       'minimum thermal conductivity', 'κPOA', 'highest κel', 'κe',\n",
       "       'highest thermal conductivity', 'κL+κB', 'Thermal conductivity',\n",
       "       'electronic thermal conductivity', 'κp', 'κph', 'κt',\n",
       "       'minimum lattice thermal conductivity κmin', 'minimum κ',\n",
       "       'averaged lattice thermal conductivity', 'κlattice', 'κele(x)',\n",
       "       'Thermal conductivities', 'highest κ', 'average κtot', 'λLC',\n",
       "       'peak κL', 'κcar', 'κTot', 'bulk thermal conductivity', 'κphonon',\n",
       "       'minimum thermal conductivity λmin', 'κlh+κbh', 'λL', 'bulk κl',\n",
       "       'average lattice thermal conductivity',\n",
       "       'phonon thermal conductivities', 'λT',\n",
       "       'maximum thermal conductivity', 'electron thermal conductivity',\n",
       "       'κel', 'lattice thermal conductivity determined', 'minimum κL',\n",
       "       'lattice thermal conductivities,κL', 'κLattice', 'maximum κtot',\n",
       "       'maximum κe', 'κL,f', 'λ', 'minimal thermal conductivity',\n",
       "       'minimum κph', 'bulk thermal conductivities', 'κele', 'highest κT',\n",
       "       'κcarr', 'λe', 'average κl', 'bulk κlat', 'κl,∥',\n",
       "       'lattice thermal conductivity diminishes', 'minimal κL',\n",
       "       'minimal κ', 'minimum κtot',\n",
       "       'maximum lattice thermal conductivity', 'κeff',\n",
       "       'electronic thermal conductivities',\n",
       "       'average thermal conductivity', 'κL+bi', 'κCu', 'κph(‖)',\n",
       "       'optimal thermal conductivity', 'averaged κl', 'κc',\n",
       "       'minimum κtotal', 'highest κtot', 'κlimit', 'λl', 'minimum κl',\n",
       "       'κelectron'], dtype=object)"
      ]
     },
     "execution_count": 166,
     "metadata": {},
     "output_type": "execute_result"
    }
   ],
   "source": [
    "df[df.model == 'ThermCond'].specifier.unique()"
   ]
  },
  {
   "cell_type": "code",
   "execution_count": 167,
   "metadata": {},
   "outputs": [],
   "source": [
    "def thermal_tagging(df):\n",
    "    if df.normalised_model == \"ThermCond\":\n",
    "        tag = \"total\"\n",
    "        x = df.specifier\n",
    "        \n",
    "        if ('el' in x) or ('κe' in x) or ('κ_e' in x) or ('λe' in x) or ('λ_e' in x) :\n",
    "            tag = 'electronic'\n",
    "        if ('p' in x) or ('L' in x) or ('la' in x) or ('κl' in x) or ('κ_l' in x):\n",
    "            tag = 'lattice'\n",
    "        return tag\n",
    "    else:\n",
    "        return np.nan"
   ]
  },
  {
   "cell_type": "code",
   "execution_count": 168,
   "metadata": {},
   "outputs": [
    {
     "data": {
      "text/plain": [
       "Index(['compound_name', 'model', 'raw_value', 'raw_units', 'value'], dtype='object')"
      ]
     },
     "execution_count": 168,
     "metadata": {},
     "output_type": "execute_result"
    }
   ],
   "source": [
    "df.columns[:5]"
   ]
  },
  {
   "cell_type": "code",
   "execution_count": 169,
   "metadata": {},
   "outputs": [],
   "source": [
    "df.insert(4, \"type\", df.apply(thermal_tagging, axis=1), True) #True is for inplace, but the paramter name ain't inplace"
   ]
  },
  {
   "cell_type": "code",
   "execution_count": 170,
   "metadata": {},
   "outputs": [
    {
     "data": {
      "text/plain": [
       "total         2299\n",
       "lattice       1338\n",
       "electronic      78\n",
       "Name: type, dtype: int64"
      ]
     },
     "execution_count": 170,
     "metadata": {},
     "output_type": "execute_result"
    }
   ],
   "source": [
    "df.type.value_counts()"
   ]
  },
  {
   "cell_type": "code",
   "execution_count": 171,
   "metadata": {},
   "outputs": [],
   "source": [
    "# Ionic conductivity tagging\n",
    "\n",
    "# df.loc[condition, column_label] = new_value\n",
    "# why does df.loc[condition].column_label = new_value not work?\n",
    "df.loc[df.specifier.str.contains(\"[Ii]on\"), \"type\"] = \"ionic\""
   ]
  },
  {
   "cell_type": "code",
   "execution_count": 172,
   "metadata": {},
   "outputs": [
    {
     "data": {
      "text/plain": [
       "total         2299\n",
       "lattice       1338\n",
       "ionic          112\n",
       "electronic      78\n",
       "Name: type, dtype: int64"
      ]
     },
     "execution_count": 172,
     "metadata": {},
     "output_type": "execute_result"
    }
   ],
   "source": [
    "df.type.value_counts()"
   ]
  },
  {
   "cell_type": "code",
   "execution_count": 173,
   "metadata": {},
   "outputs": [
    {
     "data": {
      "text/plain": [
       "array(['Conductivity'], dtype=object)"
      ]
     },
     "execution_count": 173,
     "metadata": {},
     "output_type": "execute_result"
    }
   ],
   "source": [
    "# check we have only tagged electronic conductivities\n",
    "df[df.type == \"ionic\"].normalised_model.unique()"
   ]
  },
  {
   "cell_type": "code",
   "execution_count": 174,
   "metadata": {},
   "outputs": [],
   "source": [
    "# STATE BACKUP (before columns ditching)\n",
    "df_polished_bckp = df.copy()"
   ]
  },
  {
   "cell_type": "code",
   "execution_count": 175,
   "metadata": {},
   "outputs": [],
   "source": [
    "# recover\n",
    "df = df_polished_bckp.copy()"
   ]
  },
  {
   "cell_type": "code",
   "execution_count": 182,
   "metadata": {},
   "outputs": [],
   "source": [
    "ordered_columns = 'compound_name first_name\\\n",
    " normalised_model model type\\\n",
    " normalised_temp_values normalised_temp_avg normalised_temp_units temp_value\\\n",
    " normalised_values normalised_avg normalised_units editing pressure\\\n",
    " exrept doi error process direction_of_measurement labels parser specifier title\\\n",
    " publisher yop oa'.split()  # ditch the original value extractions (keep only original model)\n",
    "\n",
    "# >>> KEPT TEMP VALUE because it is used in further cleaning "
   ]
  },
  {
   "cell_type": "code",
   "execution_count": 183,
   "metadata": {},
   "outputs": [
    {
     "name": "stdout",
     "output_type": "stream",
     "text": [
      "missing columns: ['raw_value', 'raw_units', 'value', 'units', 'temp_units', 'room_temperature', 'pressure_value', 'pressure_units', 'clean_name', 'temp_numbers', 'value_numbers'] \n",
      "\n",
      "extra columns: []\n"
     ]
    }
   ],
   "source": [
    "# check if anything important is left out. Keep the old model in order to distinguish if necessary\n",
    "check_columns(df.columns, ordered_columns)"
   ]
  },
  {
   "cell_type": "code",
   "execution_count": 184,
   "metadata": {},
   "outputs": [],
   "source": [
    "# this was just to get the dois for Cooley rerun\n",
    "# with open(\"/Users/ody/Desktop/SC/THESIS/py_tests/dois_with_records.json\", \"w\") as f:\n",
    "#    json.dump(db_extended.doi.unique().tolist(), f)"
   ]
  },
  {
   "cell_type": "code",
   "execution_count": 185,
   "metadata": {},
   "outputs": [],
   "source": [
    "# order\n",
    "df = df[ordered_columns].copy()"
   ]
  },
  {
   "cell_type": "code",
   "execution_count": 482,
   "metadata": {},
   "outputs": [
    {
     "data": {
      "text/plain": [
       "(22956, 27)"
      ]
     },
     "execution_count": 482,
     "metadata": {},
     "output_type": "execute_result"
    }
   ],
   "source": [
    "df.shape"
   ]
  },
  {
   "cell_type": "markdown",
   "metadata": {},
   "source": [
    "### Further Cleaning"
   ]
  },
  {
   "cell_type": "code",
   "execution_count": 188,
   "metadata": {},
   "outputs": [],
   "source": [
    "db = df.copy()"
   ]
  },
  {
   "cell_type": "code",
   "execution_count": 189,
   "metadata": {},
   "outputs": [],
   "source": [
    "def temperature_gradient_problem(df):\n",
    "    if re.search(\"(temperature (difference|gradient))|Δ\", str(df.exrept)) and (df.normalised_temp_avg < 290):\n",
    "        return True\n",
    "    return False"
   ]
  },
  {
   "cell_type": "code",
   "execution_count": 190,
   "metadata": {},
   "outputs": [],
   "source": [
    "def matching_temp_and_process(df):\n",
    "    if isinstance(df.temp_value, str) and isinstance(df.process, str):\n",
    "        temp_val = df.temp_value[1:-1].split(\",\")[0].split(\".\")[0]\n",
    "        if temp_val in df.process:\n",
    "            return True\n",
    "    return False"
   ]
  },
  {
   "cell_type": "code",
   "execution_count": null,
   "metadata": {},
   "outputs": [],
   "source": []
  },
  {
   "cell_type": "code",
   "execution_count": 191,
   "metadata": {},
   "outputs": [
    {
     "data": {
      "text/html": [
       "<div>\n",
       "<style scoped>\n",
       "    .dataframe tbody tr th:only-of-type {\n",
       "        vertical-align: middle;\n",
       "    }\n",
       "\n",
       "    .dataframe tbody tr th {\n",
       "        vertical-align: top;\n",
       "    }\n",
       "\n",
       "    .dataframe thead th {\n",
       "        text-align: right;\n",
       "    }\n",
       "</style>\n",
       "<table border=\"1\" class=\"dataframe\">\n",
       "  <thead>\n",
       "    <tr style=\"text-align: right;\">\n",
       "      <th></th>\n",
       "      <th>compound_name</th>\n",
       "      <th>first_name</th>\n",
       "      <th>normalised_model</th>\n",
       "      <th>model</th>\n",
       "      <th>type</th>\n",
       "      <th>normalised_temp_values</th>\n",
       "      <th>normalised_temp_avg</th>\n",
       "      <th>normalised_temp_units</th>\n",
       "      <th>temp_value</th>\n",
       "      <th>normalised_values</th>\n",
       "      <th>...</th>\n",
       "      <th>error</th>\n",
       "      <th>process</th>\n",
       "      <th>direction_of_measurement</th>\n",
       "      <th>labels</th>\n",
       "      <th>parser</th>\n",
       "      <th>specifier</th>\n",
       "      <th>title</th>\n",
       "      <th>publisher</th>\n",
       "      <th>yop</th>\n",
       "      <th>oa</th>\n",
       "    </tr>\n",
       "  </thead>\n",
       "  <tbody>\n",
       "    <tr>\n",
       "      <th>0</th>\n",
       "      <td>['Ca0.96Dy0.02Yb0.02MnO3']</td>\n",
       "      <td>Ca0.96Dy0.02Yb0.02MnO3</td>\n",
       "      <td>ThermCond</td>\n",
       "      <td>ThermCond</td>\n",
       "      <td>total</td>\n",
       "      <td>[973.0]</td>\n",
       "      <td>973.0</td>\n",
       "      <td>Kelvin^(1.0)</td>\n",
       "      <td>[973.0]</td>\n",
       "      <td>[1.47]</td>\n",
       "      <td>...</td>\n",
       "      <td>NaN</td>\n",
       "      <td>NaN</td>\n",
       "      <td>NaN</td>\n",
       "      <td>NaN</td>\n",
       "      <td>comma-level</td>\n",
       "      <td>thermal conductivity</td>\n",
       "      <td>Influence of rare-earth elements doping on the...</td>\n",
       "      <td>Elsevier</td>\n",
       "      <td>2015</td>\n",
       "      <td>no</td>\n",
       "    </tr>\n",
       "    <tr>\n",
       "      <th>1</th>\n",
       "      <td>['Ca0.98Dy0.02MnO3']</td>\n",
       "      <td>Ca0.98Dy0.02MnO3</td>\n",
       "      <td>ThermCond</td>\n",
       "      <td>ThermCond</td>\n",
       "      <td>total</td>\n",
       "      <td>[973.0]</td>\n",
       "      <td>973.0</td>\n",
       "      <td>Kelvin^(1.0)</td>\n",
       "      <td>[973.0]</td>\n",
       "      <td>[2.2]</td>\n",
       "      <td>...</td>\n",
       "      <td>NaN</td>\n",
       "      <td>NaN</td>\n",
       "      <td>NaN</td>\n",
       "      <td>NaN</td>\n",
       "      <td>comma-level</td>\n",
       "      <td>thermal conductivity</td>\n",
       "      <td>Influence of rare-earth elements doping on the...</td>\n",
       "      <td>Elsevier</td>\n",
       "      <td>2015</td>\n",
       "      <td>no</td>\n",
       "    </tr>\n",
       "  </tbody>\n",
       "</table>\n",
       "<p>2 rows × 26 columns</p>\n",
       "</div>"
      ],
      "text/plain": [
       "                compound_name              first_name normalised_model  \\\n",
       "0  ['Ca0.96Dy0.02Yb0.02MnO3']  Ca0.96Dy0.02Yb0.02MnO3        ThermCond   \n",
       "1        ['Ca0.98Dy0.02MnO3']        Ca0.98Dy0.02MnO3        ThermCond   \n",
       "\n",
       "       model   type normalised_temp_values  normalised_temp_avg  \\\n",
       "0  ThermCond  total                [973.0]                973.0   \n",
       "1  ThermCond  total                [973.0]                973.0   \n",
       "\n",
       "  normalised_temp_units temp_value normalised_values  ...  error process  \\\n",
       "0          Kelvin^(1.0)    [973.0]            [1.47]  ...    NaN     NaN   \n",
       "1          Kelvin^(1.0)    [973.0]             [2.2]  ...    NaN     NaN   \n",
       "\n",
       "  direction_of_measurement labels       parser             specifier  \\\n",
       "0                      NaN    NaN  comma-level  thermal conductivity   \n",
       "1                      NaN    NaN  comma-level  thermal conductivity   \n",
       "\n",
       "                                               title publisher   yop  oa  \n",
       "0  Influence of rare-earth elements doping on the...  Elsevier  2015  no  \n",
       "1  Influence of rare-earth elements doping on the...  Elsevier  2015  no  \n",
       "\n",
       "[2 rows x 26 columns]"
      ]
     },
     "execution_count": 191,
     "metadata": {},
     "output_type": "execute_result"
    }
   ],
   "source": [
    "db.head(2)"
   ]
  },
  {
   "cell_type": "code",
   "execution_count": 192,
   "metadata": {},
   "outputs": [
    {
     "data": {
      "text/plain": [
       "(22956, 26)"
      ]
     },
     "execution_count": 192,
     "metadata": {},
     "output_type": "execute_result"
    }
   ],
   "source": [
    "db.shape"
   ]
  },
  {
   "cell_type": "code",
   "execution_count": 193,
   "metadata": {},
   "outputs": [
    {
     "name": "stdout",
     "output_type": "stream",
     "text": [
      "original length:  22956\n",
      "length after gradient problem removal:  22925\n",
      "length after temp name removal:  22925\n",
      "length after matching temp and process problem removal:  22820\n"
     ]
    }
   ],
   "source": [
    "original_shape = db.shape\n",
    "print(\"original length: \", original_shape[0])\n",
    "db = db[~ db.apply(temperature_gradient_problem, axis=1)].copy()\n",
    "print(\"length after gradient problem removal: \", db.shape[0])\n",
    "db = db[~ db.compound_name.str.contains(\"temp\", na=False)].copy()\n",
    "print(\"length after temp name removal: \", db.shape[0])\n",
    "db = db[~ db.apply(matching_temp_and_process, axis=1)].copy()\n",
    "print(\"length after matching temp and process problem removal: \", db.shape[0])"
   ]
  },
  {
   "cell_type": "code",
   "execution_count": 194,
   "metadata": {},
   "outputs": [],
   "source": [
    "db = db[~((db.normalised_temp_avg < 0) | (db.normalised_temp_avg > 2500))]"
   ]
  },
  {
   "cell_type": "code",
   "execution_count": 195,
   "metadata": {},
   "outputs": [
    {
     "data": {
      "text/plain": [
       "(22812, 26)"
      ]
     },
     "execution_count": 195,
     "metadata": {},
     "output_type": "execute_result"
    }
   ],
   "source": [
    "db.shape"
   ]
  },
  {
   "cell_type": "code",
   "execution_count": 196,
   "metadata": {},
   "outputs": [
    {
     "data": {
      "text/html": [
       "<div>\n",
       "<style scoped>\n",
       "    .dataframe tbody tr th:only-of-type {\n",
       "        vertical-align: middle;\n",
       "    }\n",
       "\n",
       "    .dataframe tbody tr th {\n",
       "        vertical-align: top;\n",
       "    }\n",
       "\n",
       "    .dataframe thead th {\n",
       "        text-align: right;\n",
       "    }\n",
       "</style>\n",
       "<table border=\"1\" class=\"dataframe\">\n",
       "  <thead>\n",
       "    <tr style=\"text-align: right;\">\n",
       "      <th></th>\n",
       "      <th>first_name</th>\n",
       "      <th>normalised_model</th>\n",
       "      <th>normalised_avg</th>\n",
       "    </tr>\n",
       "  </thead>\n",
       "  <tbody>\n",
       "    <tr>\n",
       "      <th>15754</th>\n",
       "      <td>Zinc oxide</td>\n",
       "      <td>Conductivity</td>\n",
       "      <td>-12.450593</td>\n",
       "    </tr>\n",
       "    <tr>\n",
       "      <th>15975</th>\n",
       "      <td>Ru2Ge3+x</td>\n",
       "      <td>Conductivity</td>\n",
       "      <td>-33.333333</td>\n",
       "    </tr>\n",
       "    <tr>\n",
       "      <th>16142</th>\n",
       "      <td>undoped CaMnO3 nanoparticle</td>\n",
       "      <td>Conductivity</td>\n",
       "      <td>-9.433962</td>\n",
       "    </tr>\n",
       "    <tr>\n",
       "      <th>16159</th>\n",
       "      <td>Zinc oxide</td>\n",
       "      <td>Conductivity</td>\n",
       "      <td>-12.450593</td>\n",
       "    </tr>\n",
       "    <tr>\n",
       "      <th>20982</th>\n",
       "      <td>Co3O4</td>\n",
       "      <td>PF</td>\n",
       "      <td>-4.000000</td>\n",
       "    </tr>\n",
       "    <tr>\n",
       "      <th>21011</th>\n",
       "      <td>ScNiSb</td>\n",
       "      <td>PF</td>\n",
       "      <td>-1.100000</td>\n",
       "    </tr>\n",
       "    <tr>\n",
       "      <th>21272</th>\n",
       "      <td>orthorhombic AlMgB14</td>\n",
       "      <td>Conductivity</td>\n",
       "      <td>-11.000000</td>\n",
       "    </tr>\n",
       "    <tr>\n",
       "      <th>21861</th>\n",
       "      <td>CY,,exp</td>\n",
       "      <td>Conductivity</td>\n",
       "      <td>-2.000000</td>\n",
       "    </tr>\n",
       "    <tr>\n",
       "      <th>22529</th>\n",
       "      <td>Phosphoric acid doped polyaniline</td>\n",
       "      <td>Conductivity</td>\n",
       "      <td>-1000.000000</td>\n",
       "    </tr>\n",
       "    <tr>\n",
       "      <th>22819</th>\n",
       "      <td>vanadium tellurite</td>\n",
       "      <td>Conductivity</td>\n",
       "      <td>-350.000000</td>\n",
       "    </tr>\n",
       "  </tbody>\n",
       "</table>\n",
       "</div>"
      ],
      "text/plain": [
       "                              first_name normalised_model  normalised_avg\n",
       "15754                         Zinc oxide     Conductivity      -12.450593\n",
       "15975                           Ru2Ge3+x     Conductivity      -33.333333\n",
       "16142        undoped CaMnO3 nanoparticle     Conductivity       -9.433962\n",
       "16159                         Zinc oxide     Conductivity      -12.450593\n",
       "20982                              Co3O4               PF       -4.000000\n",
       "21011                             ScNiSb               PF       -1.100000\n",
       "21272               orthorhombic AlMgB14     Conductivity      -11.000000\n",
       "21861                            CY,,exp     Conductivity       -2.000000\n",
       "22529  Phosphoric acid doped polyaniline     Conductivity    -1000.000000\n",
       "22819                 vanadium tellurite     Conductivity     -350.000000"
      ]
     },
     "execution_count": 196,
     "metadata": {},
     "output_type": "execute_result"
    }
   ],
   "source": [
    "db[(db.normalised_model != \"Seebeck\") & (db.normalised_avg < 0)][\"first_name normalised_model normalised_avg\".split()]"
   ]
  },
  {
   "cell_type": "code",
   "execution_count": 197,
   "metadata": {},
   "outputs": [],
   "source": [
    "mod_names = \"ZT ThermCond Conductivity PF Seebeck\".split()"
   ]
  },
  {
   "cell_type": "code",
   "execution_count": 198,
   "metadata": {},
   "outputs": [
    {
     "name": "stdout",
     "output_type": "stream",
     "text": [
      "ZT :\t 2.9999999999999995e-21\n",
      "ThermCond :\t 0.0001\n",
      "Conductivity :\t -1000.0\n",
      "PF :\t -4.0\n",
      "Seebeck :\t -30000000.0\n"
     ]
    }
   ],
   "source": [
    "for mn in mod_names:\n",
    "    print(mn, \":\\t\", db[db.normalised_model == mn].normalised_avg.min())\n",
    "# is it okay to have neg values?"
   ]
  },
  {
   "cell_type": "code",
   "execution_count": 199,
   "metadata": {
    "scrolled": false
   },
   "outputs": [
    {
     "data": {
      "text/html": [
       "<div>\n",
       "<style scoped>\n",
       "    .dataframe tbody tr th:only-of-type {\n",
       "        vertical-align: middle;\n",
       "    }\n",
       "\n",
       "    .dataframe tbody tr th {\n",
       "        vertical-align: top;\n",
       "    }\n",
       "\n",
       "    .dataframe thead th {\n",
       "        text-align: right;\n",
       "    }\n",
       "</style>\n",
       "<table border=\"1\" class=\"dataframe\">\n",
       "  <thead>\n",
       "    <tr style=\"text-align: right;\">\n",
       "      <th></th>\n",
       "      <th>compound_name</th>\n",
       "      <th>first_name</th>\n",
       "      <th>normalised_model</th>\n",
       "      <th>model</th>\n",
       "      <th>type</th>\n",
       "      <th>normalised_temp_values</th>\n",
       "      <th>normalised_temp_avg</th>\n",
       "      <th>normalised_temp_units</th>\n",
       "      <th>temp_value</th>\n",
       "      <th>normalised_values</th>\n",
       "      <th>...</th>\n",
       "      <th>error</th>\n",
       "      <th>process</th>\n",
       "      <th>direction_of_measurement</th>\n",
       "      <th>labels</th>\n",
       "      <th>parser</th>\n",
       "      <th>specifier</th>\n",
       "      <th>title</th>\n",
       "      <th>publisher</th>\n",
       "      <th>yop</th>\n",
       "      <th>oa</th>\n",
       "    </tr>\n",
       "  </thead>\n",
       "  <tbody>\n",
       "    <tr>\n",
       "      <th>0</th>\n",
       "      <td>['Ca0.96Dy0.02Yb0.02MnO3']</td>\n",
       "      <td>Ca0.96Dy0.02Yb0.02MnO3</td>\n",
       "      <td>ThermCond</td>\n",
       "      <td>ThermCond</td>\n",
       "      <td>total</td>\n",
       "      <td>[973.0]</td>\n",
       "      <td>973.0</td>\n",
       "      <td>Kelvin^(1.0)</td>\n",
       "      <td>[973.0]</td>\n",
       "      <td>[1.47]</td>\n",
       "      <td>...</td>\n",
       "      <td>NaN</td>\n",
       "      <td>NaN</td>\n",
       "      <td>NaN</td>\n",
       "      <td>NaN</td>\n",
       "      <td>comma-level</td>\n",
       "      <td>thermal conductivity</td>\n",
       "      <td>Influence of rare-earth elements doping on the...</td>\n",
       "      <td>Elsevier</td>\n",
       "      <td>2015</td>\n",
       "      <td>no</td>\n",
       "    </tr>\n",
       "    <tr>\n",
       "      <th>1</th>\n",
       "      <td>['Ca0.98Dy0.02MnO3']</td>\n",
       "      <td>Ca0.98Dy0.02MnO3</td>\n",
       "      <td>ThermCond</td>\n",
       "      <td>ThermCond</td>\n",
       "      <td>total</td>\n",
       "      <td>[973.0]</td>\n",
       "      <td>973.0</td>\n",
       "      <td>Kelvin^(1.0)</td>\n",
       "      <td>[973.0]</td>\n",
       "      <td>[2.2]</td>\n",
       "      <td>...</td>\n",
       "      <td>NaN</td>\n",
       "      <td>NaN</td>\n",
       "      <td>NaN</td>\n",
       "      <td>NaN</td>\n",
       "      <td>comma-level</td>\n",
       "      <td>thermal conductivity</td>\n",
       "      <td>Influence of rare-earth elements doping on the...</td>\n",
       "      <td>Elsevier</td>\n",
       "      <td>2015</td>\n",
       "      <td>no</td>\n",
       "    </tr>\n",
       "    <tr>\n",
       "      <th>2</th>\n",
       "      <td>['Bi2Te3']</td>\n",
       "      <td>Bi2Te3</td>\n",
       "      <td>ThermCond</td>\n",
       "      <td>ThermCond</td>\n",
       "      <td>lattice</td>\n",
       "      <td>[295]</td>\n",
       "      <td>295.0</td>\n",
       "      <td>Kelvin^(1.0)</td>\n",
       "      <td>NaN</td>\n",
       "      <td>[1.2]</td>\n",
       "      <td>...</td>\n",
       "      <td>NaN</td>\n",
       "      <td>NaN</td>\n",
       "      <td>NaN</td>\n",
       "      <td>NaN</td>\n",
       "      <td>comma-level</td>\n",
       "      <td>κlat</td>\n",
       "      <td>Layered materials with 2D connectivity for the...</td>\n",
       "      <td>RSC</td>\n",
       "      <td>2020</td>\n",
       "      <td>no</td>\n",
       "    </tr>\n",
       "    <tr>\n",
       "      <th>3</th>\n",
       "      <td>['Cu-doped Bi2Te3']</td>\n",
       "      <td>Cu-doped Bi2Te3</td>\n",
       "      <td>ThermCond</td>\n",
       "      <td>ThermCond</td>\n",
       "      <td>lattice</td>\n",
       "      <td>[300.0]</td>\n",
       "      <td>300.0</td>\n",
       "      <td>Kelvin^(1.0)</td>\n",
       "      <td>[300.0]</td>\n",
       "      <td>[0.7]</td>\n",
       "      <td>...</td>\n",
       "      <td>NaN</td>\n",
       "      <td>NaN</td>\n",
       "      <td>parallel directions</td>\n",
       "      <td>NaN</td>\n",
       "      <td>comma-level</td>\n",
       "      <td>κlat</td>\n",
       "      <td>Layered materials with 2D connectivity for the...</td>\n",
       "      <td>RSC</td>\n",
       "      <td>2020</td>\n",
       "      <td>no</td>\n",
       "    </tr>\n",
       "    <tr>\n",
       "      <th>4</th>\n",
       "      <td>['Sb2Te3']</td>\n",
       "      <td>Sb2Te3</td>\n",
       "      <td>ThermCond</td>\n",
       "      <td>ThermCond</td>\n",
       "      <td>lattice</td>\n",
       "      <td>[295]</td>\n",
       "      <td>295.0</td>\n",
       "      <td>Kelvin^(1.0)</td>\n",
       "      <td>NaN</td>\n",
       "      <td>[1.15]</td>\n",
       "      <td>...</td>\n",
       "      <td>NaN</td>\n",
       "      <td>NaN</td>\n",
       "      <td>in-plane direction</td>\n",
       "      <td>NaN</td>\n",
       "      <td>comma-level</td>\n",
       "      <td>κlat</td>\n",
       "      <td>Layered materials with 2D connectivity for the...</td>\n",
       "      <td>RSC</td>\n",
       "      <td>2020</td>\n",
       "      <td>no</td>\n",
       "    </tr>\n",
       "    <tr>\n",
       "      <th>...</th>\n",
       "      <td>...</td>\n",
       "      <td>...</td>\n",
       "      <td>...</td>\n",
       "      <td>...</td>\n",
       "      <td>...</td>\n",
       "      <td>...</td>\n",
       "      <td>...</td>\n",
       "      <td>...</td>\n",
       "      <td>...</td>\n",
       "      <td>...</td>\n",
       "      <td>...</td>\n",
       "      <td>...</td>\n",
       "      <td>...</td>\n",
       "      <td>...</td>\n",
       "      <td>...</td>\n",
       "      <td>...</td>\n",
       "      <td>...</td>\n",
       "      <td>...</td>\n",
       "      <td>...</td>\n",
       "      <td>...</td>\n",
       "      <td>...</td>\n",
       "    </tr>\n",
       "    <tr>\n",
       "      <th>23265</th>\n",
       "      <td>['FeSb1.8']</td>\n",
       "      <td>FeSb1.8</td>\n",
       "      <td>Conductivity</td>\n",
       "      <td>Conductivity2</td>\n",
       "      <td>NaN</td>\n",
       "      <td>[100.0]</td>\n",
       "      <td>100.0</td>\n",
       "      <td>Kelvin^(1.0)</td>\n",
       "      <td>[100.0]</td>\n",
       "      <td>[201000.0]</td>\n",
       "      <td>...</td>\n",
       "      <td>NaN</td>\n",
       "      <td>NaN</td>\n",
       "      <td>NaN</td>\n",
       "      <td>NaN</td>\n",
       "      <td>comma-level</td>\n",
       "      <td>σ</td>\n",
       "      <td>Enhancement in thermoelectric properties of Fe...</td>\n",
       "      <td>Elsevier</td>\n",
       "      <td>2015</td>\n",
       "      <td>yes</td>\n",
       "    </tr>\n",
       "    <tr>\n",
       "      <th>23266</th>\n",
       "      <td>['PPy / g-C3N4']</td>\n",
       "      <td>PPy / g-C3N4</td>\n",
       "      <td>Conductivity</td>\n",
       "      <td>Conductivity2</td>\n",
       "      <td>NaN</td>\n",
       "      <td>[298.0]</td>\n",
       "      <td>298.0</td>\n",
       "      <td>Kelvin^(1.0)</td>\n",
       "      <td>[25.0]</td>\n",
       "      <td>[680.0]</td>\n",
       "      <td>...</td>\n",
       "      <td>NaN</td>\n",
       "      <td>NaN</td>\n",
       "      <td>NaN</td>\n",
       "      <td>NaN</td>\n",
       "      <td>comma-level</td>\n",
       "      <td>electrical conductivity</td>\n",
       "      <td>High Performance Supercapacitor Applications a...</td>\n",
       "      <td>Springer</td>\n",
       "      <td>2019</td>\n",
       "      <td>no</td>\n",
       "    </tr>\n",
       "    <tr>\n",
       "      <th>23267</th>\n",
       "      <td>['CuAlO2']</td>\n",
       "      <td>CuAlO2</td>\n",
       "      <td>Conductivity</td>\n",
       "      <td>Conductivity2</td>\n",
       "      <td>NaN</td>\n",
       "      <td>[295]</td>\n",
       "      <td>295.0</td>\n",
       "      <td>Kelvin^(1.0)</td>\n",
       "      <td>NaN</td>\n",
       "      <td>[0.015]</td>\n",
       "      <td>...</td>\n",
       "      <td>NaN</td>\n",
       "      <td>sintered at 900 °C</td>\n",
       "      <td>NaN</td>\n",
       "      <td>NaN</td>\n",
       "      <td>comma-level</td>\n",
       "      <td>conductivity</td>\n",
       "      <td>Synthesis of CuAlO2 from chemically precipitat...</td>\n",
       "      <td>Elsevier</td>\n",
       "      <td>2015</td>\n",
       "      <td>no</td>\n",
       "    </tr>\n",
       "    <tr>\n",
       "      <th>23268</th>\n",
       "      <td>['SiO2 / Si']</td>\n",
       "      <td>SiO2 / Si</td>\n",
       "      <td>Conductivity</td>\n",
       "      <td>Conductivity2</td>\n",
       "      <td>NaN</td>\n",
       "      <td>[295]</td>\n",
       "      <td>295.0</td>\n",
       "      <td>Kelvin^(1.0)</td>\n",
       "      <td>NaN</td>\n",
       "      <td>[4000.0]</td>\n",
       "      <td>...</td>\n",
       "      <td>NaN</td>\n",
       "      <td>process</td>\n",
       "      <td>NaN</td>\n",
       "      <td>NaN</td>\n",
       "      <td>comma-level</td>\n",
       "      <td>conductivity</td>\n",
       "      <td>Surface-supported metal–organic framework thin...</td>\n",
       "      <td>RSC</td>\n",
       "      <td>2017</td>\n",
       "      <td>no</td>\n",
       "    </tr>\n",
       "    <tr>\n",
       "      <th>23269</th>\n",
       "      <td>['p-type Sn0.9Yb0.1Te : Te film']</td>\n",
       "      <td>p-type Sn0.9Yb0.1Te : Te film</td>\n",
       "      <td>Conductivity</td>\n",
       "      <td>Conductivity2</td>\n",
       "      <td>NaN</td>\n",
       "      <td>[300.0]</td>\n",
       "      <td>300.0</td>\n",
       "      <td>Kelvin^(1.0)</td>\n",
       "      <td>[300.0]</td>\n",
       "      <td>[5490.0]</td>\n",
       "      <td>...</td>\n",
       "      <td>NaN</td>\n",
       "      <td>NaN</td>\n",
       "      <td>NaN</td>\n",
       "      <td>NaN</td>\n",
       "      <td>comma-level</td>\n",
       "      <td>σ</td>\n",
       "      <td>Thin-film thermoelectric device of semimetals ...</td>\n",
       "      <td>Elsevier</td>\n",
       "      <td>2019</td>\n",
       "      <td>no</td>\n",
       "    </tr>\n",
       "  </tbody>\n",
       "</table>\n",
       "<p>22810 rows × 26 columns</p>\n",
       "</div>"
      ],
      "text/plain": [
       "                           compound_name                     first_name  \\\n",
       "0             ['Ca0.96Dy0.02Yb0.02MnO3']         Ca0.96Dy0.02Yb0.02MnO3   \n",
       "1                   ['Ca0.98Dy0.02MnO3']               Ca0.98Dy0.02MnO3   \n",
       "2                             ['Bi2Te3']                         Bi2Te3   \n",
       "3                    ['Cu-doped Bi2Te3']                Cu-doped Bi2Te3   \n",
       "4                             ['Sb2Te3']                         Sb2Te3   \n",
       "...                                  ...                            ...   \n",
       "23265                        ['FeSb1.8']                        FeSb1.8   \n",
       "23266                   ['PPy / g-C3N4']                   PPy / g-C3N4   \n",
       "23267                         ['CuAlO2']                         CuAlO2   \n",
       "23268                      ['SiO2 / Si']                      SiO2 / Si   \n",
       "23269  ['p-type Sn0.9Yb0.1Te : Te film']  p-type Sn0.9Yb0.1Te : Te film   \n",
       "\n",
       "      normalised_model          model     type normalised_temp_values  \\\n",
       "0            ThermCond      ThermCond    total                [973.0]   \n",
       "1            ThermCond      ThermCond    total                [973.0]   \n",
       "2            ThermCond      ThermCond  lattice                  [295]   \n",
       "3            ThermCond      ThermCond  lattice                [300.0]   \n",
       "4            ThermCond      ThermCond  lattice                  [295]   \n",
       "...                ...            ...      ...                    ...   \n",
       "23265     Conductivity  Conductivity2      NaN                [100.0]   \n",
       "23266     Conductivity  Conductivity2      NaN                [298.0]   \n",
       "23267     Conductivity  Conductivity2      NaN                  [295]   \n",
       "23268     Conductivity  Conductivity2      NaN                  [295]   \n",
       "23269     Conductivity  Conductivity2      NaN                [300.0]   \n",
       "\n",
       "       normalised_temp_avg normalised_temp_units temp_value normalised_values  \\\n",
       "0                    973.0          Kelvin^(1.0)    [973.0]            [1.47]   \n",
       "1                    973.0          Kelvin^(1.0)    [973.0]             [2.2]   \n",
       "2                    295.0          Kelvin^(1.0)        NaN             [1.2]   \n",
       "3                    300.0          Kelvin^(1.0)    [300.0]             [0.7]   \n",
       "4                    295.0          Kelvin^(1.0)        NaN            [1.15]   \n",
       "...                    ...                   ...        ...               ...   \n",
       "23265                100.0          Kelvin^(1.0)    [100.0]        [201000.0]   \n",
       "23266                298.0          Kelvin^(1.0)     [25.0]           [680.0]   \n",
       "23267                295.0          Kelvin^(1.0)        NaN           [0.015]   \n",
       "23268                295.0          Kelvin^(1.0)        NaN          [4000.0]   \n",
       "23269                300.0          Kelvin^(1.0)    [300.0]          [5490.0]   \n",
       "\n",
       "       ...  error             process direction_of_measurement labels  \\\n",
       "0      ...    NaN                 NaN                      NaN    NaN   \n",
       "1      ...    NaN                 NaN                      NaN    NaN   \n",
       "2      ...    NaN                 NaN                      NaN    NaN   \n",
       "3      ...    NaN                 NaN      parallel directions    NaN   \n",
       "4      ...    NaN                 NaN       in-plane direction    NaN   \n",
       "...    ...    ...                 ...                      ...    ...   \n",
       "23265  ...    NaN                 NaN                      NaN    NaN   \n",
       "23266  ...    NaN                 NaN                      NaN    NaN   \n",
       "23267  ...    NaN  sintered at 900 °C                      NaN    NaN   \n",
       "23268  ...    NaN             process                      NaN    NaN   \n",
       "23269  ...    NaN                 NaN                      NaN    NaN   \n",
       "\n",
       "            parser                specifier  \\\n",
       "0      comma-level     thermal conductivity   \n",
       "1      comma-level     thermal conductivity   \n",
       "2      comma-level                     κlat   \n",
       "3      comma-level                     κlat   \n",
       "4      comma-level                     κlat   \n",
       "...            ...                      ...   \n",
       "23265  comma-level                        σ   \n",
       "23266  comma-level  electrical conductivity   \n",
       "23267  comma-level             conductivity   \n",
       "23268  comma-level             conductivity   \n",
       "23269  comma-level                        σ   \n",
       "\n",
       "                                                   title publisher   yop   oa  \n",
       "0      Influence of rare-earth elements doping on the...  Elsevier  2015   no  \n",
       "1      Influence of rare-earth elements doping on the...  Elsevier  2015   no  \n",
       "2      Layered materials with 2D connectivity for the...       RSC  2020   no  \n",
       "3      Layered materials with 2D connectivity for the...       RSC  2020   no  \n",
       "4      Layered materials with 2D connectivity for the...       RSC  2020   no  \n",
       "...                                                  ...       ...   ...  ...  \n",
       "23265  Enhancement in thermoelectric properties of Fe...  Elsevier  2015  yes  \n",
       "23266  High Performance Supercapacitor Applications a...  Springer  2019   no  \n",
       "23267  Synthesis of CuAlO2 from chemically precipitat...  Elsevier  2015   no  \n",
       "23268  Surface-supported metal–organic framework thin...       RSC  2017   no  \n",
       "23269  Thin-film thermoelectric device of semimetals ...  Elsevier  2019   no  \n",
       "\n",
       "[22810 rows x 26 columns]"
      ]
     },
     "execution_count": 199,
     "metadata": {},
     "output_type": "execute_result"
    }
   ],
   "source": [
    "# remove PF neg values\n",
    "db[~((db.normalised_model == \"PF\") & (db.normalised_avg < 0))]"
   ]
  },
  {
   "cell_type": "code",
   "execution_count": 200,
   "metadata": {},
   "outputs": [
    {
     "data": {
      "text/plain": [
       "(22812, 26)"
      ]
     },
     "execution_count": 200,
     "metadata": {},
     "output_type": "execute_result"
    }
   ],
   "source": [
    "db.shape"
   ]
  },
  {
   "cell_type": "code",
   "execution_count": 201,
   "metadata": {},
   "outputs": [],
   "source": [
    "db = db[~((db.normalised_model == \"PF\") & (db.normalised_avg < 0))].copy()"
   ]
  },
  {
   "cell_type": "code",
   "execution_count": 202,
   "metadata": {},
   "outputs": [
    {
     "data": {
      "text/plain": [
       "(22810, 26)"
      ]
     },
     "execution_count": 202,
     "metadata": {},
     "output_type": "execute_result"
    }
   ],
   "source": [
    "db.shape"
   ]
  },
  {
   "cell_type": "code",
   "execution_count": 203,
   "metadata": {},
   "outputs": [],
   "source": [
    "db = db[~((db.normalised_model == \"ZT\") & (db.normalised_avg < 10**(-18)))]\n",
    "# drop too small ZT values"
   ]
  },
  {
   "cell_type": "code",
   "execution_count": 204,
   "metadata": {},
   "outputs": [
    {
     "data": {
      "text/plain": [
       "(22805, 26)"
      ]
     },
     "execution_count": 204,
     "metadata": {},
     "output_type": "execute_result"
    }
   ],
   "source": [
    "db.shape"
   ]
  },
  {
   "cell_type": "code",
   "execution_count": 206,
   "metadata": {},
   "outputs": [],
   "source": [
    "letters = \"abcdefghijklmnopqrstuvwxyzABCDEFGHIJKLMNOPQRSTUVWXYZ\"\n",
    "def check(s):\n",
    "    cc = 0\n",
    "    for c in s:\n",
    "        if c in letters:\n",
    "            cc += 1\n",
    "    if cc > 1:\n",
    "        return False\n",
    "    return True"
   ]
  },
  {
   "cell_type": "code",
   "execution_count": 207,
   "metadata": {
    "scrolled": true
   },
   "outputs": [
    {
     "data": {
      "text/html": [
       "<div>\n",
       "<style scoped>\n",
       "    .dataframe tbody tr th:only-of-type {\n",
       "        vertical-align: middle;\n",
       "    }\n",
       "\n",
       "    .dataframe tbody tr th {\n",
       "        vertical-align: top;\n",
       "    }\n",
       "\n",
       "    .dataframe thead th {\n",
       "        text-align: right;\n",
       "    }\n",
       "</style>\n",
       "<table border=\"1\" class=\"dataframe\">\n",
       "  <thead>\n",
       "    <tr style=\"text-align: right;\">\n",
       "      <th></th>\n",
       "      <th>compound_name</th>\n",
       "      <th>first_name</th>\n",
       "      <th>normalised_model</th>\n",
       "      <th>model</th>\n",
       "      <th>type</th>\n",
       "      <th>normalised_temp_values</th>\n",
       "      <th>normalised_temp_avg</th>\n",
       "      <th>normalised_temp_units</th>\n",
       "      <th>temp_value</th>\n",
       "      <th>normalised_values</th>\n",
       "      <th>...</th>\n",
       "      <th>error</th>\n",
       "      <th>process</th>\n",
       "      <th>direction_of_measurement</th>\n",
       "      <th>labels</th>\n",
       "      <th>parser</th>\n",
       "      <th>specifier</th>\n",
       "      <th>title</th>\n",
       "      <th>publisher</th>\n",
       "      <th>yop</th>\n",
       "      <th>oa</th>\n",
       "    </tr>\n",
       "  </thead>\n",
       "  <tbody>\n",
       "  </tbody>\n",
       "</table>\n",
       "<p>0 rows × 26 columns</p>\n",
       "</div>"
      ],
      "text/plain": [
       "Empty DataFrame\n",
       "Columns: [compound_name, first_name, normalised_model, model, type, normalised_temp_values, normalised_temp_avg, normalised_temp_units, temp_value, normalised_values, normalised_avg, normalised_units, editing, pressure, exrept, doi, error, process, direction_of_measurement, labels, parser, specifier, title, publisher, yop, oa]\n",
       "Index: []\n",
       "\n",
       "[0 rows x 26 columns]"
      ]
     },
     "execution_count": 207,
     "metadata": {},
     "output_type": "execute_result"
    }
   ],
   "source": [
    "db[((db.normalised_model == \"PF\") & (db.normalised_avg < 0))]"
   ]
  },
  {
   "cell_type": "code",
   "execution_count": 208,
   "metadata": {},
   "outputs": [],
   "source": [
    "db.to_excel(\"normalised_database.xlsx\")"
   ]
  },
  {
   "cell_type": "code",
   "execution_count": null,
   "metadata": {},
   "outputs": [],
   "source": []
  },
  {
   "cell_type": "code",
   "execution_count": null,
   "metadata": {},
   "outputs": [],
   "source": []
  }
 ],
 "metadata": {
  "kernelspec": {
   "display_name": "Python 3",
   "language": "python",
   "name": "python3"
  },
  "language_info": {
   "codemirror_mode": {
    "name": "ipython",
    "version": 3
   },
   "file_extension": ".py",
   "mimetype": "text/x-python",
   "name": "python",
   "nbconvert_exporter": "python",
   "pygments_lexer": "ipython3",
   "version": "3.6.10"
  }
 },
 "nbformat": 4,
 "nbformat_minor": 4
}
