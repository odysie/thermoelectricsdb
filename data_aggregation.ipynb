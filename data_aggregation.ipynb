{
 "cells": [
  {
   "cell_type": "markdown",
   "metadata": {},
   "source": [
    "### Data Aggregation"
   ]
  },
  {
   "cell_type": "code",
   "execution_count": 502,
   "metadata": {},
   "outputs": [],
   "source": [
    "dd = pd.read_excel(\"normalised_database.xlsx\")"
   ]
  },
  {
   "cell_type": "code",
   "execution_count": 503,
   "metadata": {},
   "outputs": [],
   "source": [
    "therm = dd[dd.normalised_model == \"ThermCond\"].copy()"
   ]
  },
  {
   "cell_type": "code",
   "execution_count": 504,
   "metadata": {},
   "outputs": [
    {
     "data": {
      "text/plain": [
       "total         2255\n",
       "lattice       1316\n",
       "electronic      75\n",
       "Name: type, dtype: int64"
      ]
     },
     "execution_count": 504,
     "metadata": {},
     "output_type": "execute_result"
    }
   ],
   "source": [
    "therm.type.value_counts()"
   ]
  },
  {
   "cell_type": "code",
   "execution_count": 505,
   "metadata": {},
   "outputs": [
    {
     "data": {
      "text/html": [
       "<div>\n",
       "<style scoped>\n",
       "    .dataframe tbody tr th:only-of-type {\n",
       "        vertical-align: middle;\n",
       "    }\n",
       "\n",
       "    .dataframe tbody tr th {\n",
       "        vertical-align: top;\n",
       "    }\n",
       "\n",
       "    .dataframe thead th {\n",
       "        text-align: right;\n",
       "    }\n",
       "</style>\n",
       "<table border=\"1\" class=\"dataframe\">\n",
       "  <thead>\n",
       "    <tr style=\"text-align: right;\">\n",
       "      <th></th>\n",
       "      <th>Unnamed: 0</th>\n",
       "      <th>merged_name</th>\n",
       "      <th>compound_name</th>\n",
       "      <th>first_name</th>\n",
       "      <th>normalised_model</th>\n",
       "      <th>model</th>\n",
       "      <th>type</th>\n",
       "      <th>normalised_temp_values</th>\n",
       "      <th>normalised_temp_avg</th>\n",
       "      <th>normalised_temp_units</th>\n",
       "      <th>temp_value</th>\n",
       "      <th>normalised_values</th>\n",
       "      <th>normalised_avg</th>\n",
       "      <th>normalised_units</th>\n",
       "      <th>editing</th>\n",
       "      <th>pressure</th>\n",
       "      <th>exrept</th>\n",
       "      <th>doi</th>\n",
       "      <th>error</th>\n",
       "      <th>process</th>\n",
       "      <th>direction_of_measurement</th>\n",
       "      <th>labels</th>\n",
       "      <th>parser</th>\n",
       "      <th>specifier</th>\n",
       "      <th>title</th>\n",
       "      <th>publisher</th>\n",
       "      <th>yop</th>\n",
       "      <th>oa</th>\n",
       "    </tr>\n",
       "  </thead>\n",
       "  <tbody>\n",
       "    <tr>\n",
       "      <th>1656</th>\n",
       "      <td>1677</td>\n",
       "      <td>NaN</td>\n",
       "      <td>['Pb0.98Na0.02S']</td>\n",
       "      <td>Pb0.98Na0.02S</td>\n",
       "      <td>ThermCond</td>\n",
       "      <td>ThermCond</td>\n",
       "      <td>lattice</td>\n",
       "      <td>[310.0]</td>\n",
       "      <td>310.0</td>\n",
       "      <td>Kelvin^(1.0)</td>\n",
       "      <td>[310.0]</td>\n",
       "      <td>[1.7]</td>\n",
       "      <td>1.70</td>\n",
       "      <td>Kelvin^(-1.0)  Meter^(-1.0)  Watt^(1.0)</td>\n",
       "      <td>NaN</td>\n",
       "      <td>NaN</td>\n",
       "      <td>( which results in high κele of ∼1.7 W m−1 K−1...</td>\n",
       "      <td>10.1016-j.jallcom.2019.153453.xml</td>\n",
       "      <td>NaN</td>\n",
       "      <td>NaN</td>\n",
       "      <td>NaN</td>\n",
       "      <td>NaN</td>\n",
       "      <td>comma-level</td>\n",
       "      <td>κele</td>\n",
       "      <td>An approach of enhancing thermoelectric perfor...</td>\n",
       "      <td>Elsevier</td>\n",
       "      <td>2020</td>\n",
       "      <td>no</td>\n",
       "    </tr>\n",
       "    <tr>\n",
       "      <th>1657</th>\n",
       "      <td>1678</td>\n",
       "      <td>NaN</td>\n",
       "      <td>['Pb0.98Na0.02S']</td>\n",
       "      <td>Pb0.98Na0.02S</td>\n",
       "      <td>ThermCond</td>\n",
       "      <td>ThermCond</td>\n",
       "      <td>lattice</td>\n",
       "      <td>[295]</td>\n",
       "      <td>295.0</td>\n",
       "      <td>Kelvin^(1.0)</td>\n",
       "      <td>NaN</td>\n",
       "      <td>[4.0]</td>\n",
       "      <td>4.00</td>\n",
       "      <td>Kelvin^(-1.0)  Meter^(-1.0)  Watt^(1.0)</td>\n",
       "      <td>NaN</td>\n",
       "      <td>NaN</td>\n",
       "      <td>({  at room temperature }: It is found that κt...</td>\n",
       "      <td>10.1016-j.jallcom.2019.153453.xml</td>\n",
       "      <td>NaN</td>\n",
       "      <td>NaN</td>\n",
       "      <td>NaN</td>\n",
       "      <td>NaN</td>\n",
       "      <td>comma-level</td>\n",
       "      <td>κtot</td>\n",
       "      <td>An approach of enhancing thermoelectric perfor...</td>\n",
       "      <td>Elsevier</td>\n",
       "      <td>2020</td>\n",
       "      <td>no</td>\n",
       "    </tr>\n",
       "    <tr>\n",
       "      <th>1660</th>\n",
       "      <td>1681</td>\n",
       "      <td>NaN</td>\n",
       "      <td>['Pb0.98Na0.02S']</td>\n",
       "      <td>Pb0.98Na0.02S</td>\n",
       "      <td>ThermCond</td>\n",
       "      <td>ThermCond</td>\n",
       "      <td>lattice</td>\n",
       "      <td>[823.0]</td>\n",
       "      <td>823.0</td>\n",
       "      <td>Kelvin^(1.0)</td>\n",
       "      <td>[823.0]</td>\n",
       "      <td>[1.4]</td>\n",
       "      <td>1.40</td>\n",
       "      <td>Kelvin^(-1.0)  Meter^(-1.0)  Watt^(1.0)</td>\n",
       "      <td>NaN</td>\n",
       "      <td>NaN</td>\n",
       "      <td>({ κtot }: ∼1.4 W m−1 K−1 at 823 K for Pb0.98N...</td>\n",
       "      <td>10.1016-j.jallcom.2019.153453.xml</td>\n",
       "      <td>NaN</td>\n",
       "      <td>NaN</td>\n",
       "      <td>NaN</td>\n",
       "      <td>NaN</td>\n",
       "      <td>comma-level</td>\n",
       "      <td>κtot</td>\n",
       "      <td>An approach of enhancing thermoelectric perfor...</td>\n",
       "      <td>Elsevier</td>\n",
       "      <td>2020</td>\n",
       "      <td>no</td>\n",
       "    </tr>\n",
       "    <tr>\n",
       "      <th>1662</th>\n",
       "      <td>1683</td>\n",
       "      <td>NaN</td>\n",
       "      <td>['Pb0.98Na0.02S']</td>\n",
       "      <td>Pb0.98Na0.02S</td>\n",
       "      <td>ThermCond</td>\n",
       "      <td>ThermCond</td>\n",
       "      <td>total</td>\n",
       "      <td>[823.0]</td>\n",
       "      <td>823.0</td>\n",
       "      <td>Kelvin^(1.0)</td>\n",
       "      <td>[823.0]</td>\n",
       "      <td>[0.53]</td>\n",
       "      <td>0.53</td>\n",
       "      <td>Kelvin^(-1.0)  Meter^(-1.0)  Watt^(1.0)</td>\n",
       "      <td>NaN</td>\n",
       "      <td>NaN</td>\n",
       "      <td>({ κele at 823 K }: ∼0.53 W m−1 K−1 for Pb0.98...</td>\n",
       "      <td>10.1016-j.jallcom.2019.153453.xml</td>\n",
       "      <td>NaN</td>\n",
       "      <td>NaN</td>\n",
       "      <td>NaN</td>\n",
       "      <td>NaN</td>\n",
       "      <td>comma-level</td>\n",
       "      <td>κele</td>\n",
       "      <td>An approach of enhancing thermoelectric perfor...</td>\n",
       "      <td>Elsevier</td>\n",
       "      <td>2020</td>\n",
       "      <td>no</td>\n",
       "    </tr>\n",
       "    <tr>\n",
       "      <th>1663</th>\n",
       "      <td>1684</td>\n",
       "      <td>NaN</td>\n",
       "      <td>['Pb0.98Na0.02S']</td>\n",
       "      <td>Pb0.98Na0.02S</td>\n",
       "      <td>ThermCond</td>\n",
       "      <td>ThermCond</td>\n",
       "      <td>lattice</td>\n",
       "      <td>[823.0]</td>\n",
       "      <td>823.0</td>\n",
       "      <td>Kelvin^(1.0)</td>\n",
       "      <td>[823.0]</td>\n",
       "      <td>[0.9]</td>\n",
       "      <td>0.90</td>\n",
       "      <td>Kelvin^(-1.0)  Meter^(-1.0)  Watt^(1.0)</td>\n",
       "      <td>NaN</td>\n",
       "      <td>NaN</td>\n",
       "      <td>(The κlat at 823 K decreases from ∼0.9 W m−1 K...</td>\n",
       "      <td>10.1016-j.jallcom.2019.153453.xml</td>\n",
       "      <td>NaN</td>\n",
       "      <td>NaN</td>\n",
       "      <td>NaN</td>\n",
       "      <td>NaN</td>\n",
       "      <td>comma-level</td>\n",
       "      <td>κlat</td>\n",
       "      <td>An approach of enhancing thermoelectric perfor...</td>\n",
       "      <td>Elsevier</td>\n",
       "      <td>2020</td>\n",
       "      <td>no</td>\n",
       "    </tr>\n",
       "  </tbody>\n",
       "</table>\n",
       "</div>"
      ],
      "text/plain": [
       "      Unnamed: 0 merged_name      compound_name     first_name normalised_model      model     type normalised_temp_values  normalised_temp_avg normalised_temp_units temp_value normalised_values  normalised_avg                         normalised_units editing pressure                                             exrept                                doi  error process direction_of_measurement labels       parser specifier                                              title publisher   yop  oa\n",
       "1656        1677         NaN  ['Pb0.98Na0.02S']  Pb0.98Na0.02S        ThermCond  ThermCond  lattice                [310.0]                310.0          Kelvin^(1.0)    [310.0]             [1.7]            1.70  Kelvin^(-1.0)  Meter^(-1.0)  Watt^(1.0)     NaN      NaN  ( which results in high κele of ∼1.7 W m−1 K−1...  10.1016-j.jallcom.2019.153453.xml    NaN     NaN                      NaN    NaN  comma-level      κele  An approach of enhancing thermoelectric perfor...  Elsevier  2020  no\n",
       "1657        1678         NaN  ['Pb0.98Na0.02S']  Pb0.98Na0.02S        ThermCond  ThermCond  lattice                  [295]                295.0          Kelvin^(1.0)        NaN             [4.0]            4.00  Kelvin^(-1.0)  Meter^(-1.0)  Watt^(1.0)     NaN      NaN  ({  at room temperature }: It is found that κt...  10.1016-j.jallcom.2019.153453.xml    NaN     NaN                      NaN    NaN  comma-level      κtot  An approach of enhancing thermoelectric perfor...  Elsevier  2020  no\n",
       "1660        1681         NaN  ['Pb0.98Na0.02S']  Pb0.98Na0.02S        ThermCond  ThermCond  lattice                [823.0]                823.0          Kelvin^(1.0)    [823.0]             [1.4]            1.40  Kelvin^(-1.0)  Meter^(-1.0)  Watt^(1.0)     NaN      NaN  ({ κtot }: ∼1.4 W m−1 K−1 at 823 K for Pb0.98N...  10.1016-j.jallcom.2019.153453.xml    NaN     NaN                      NaN    NaN  comma-level      κtot  An approach of enhancing thermoelectric perfor...  Elsevier  2020  no\n",
       "1662        1683         NaN  ['Pb0.98Na0.02S']  Pb0.98Na0.02S        ThermCond  ThermCond    total                [823.0]                823.0          Kelvin^(1.0)    [823.0]            [0.53]            0.53  Kelvin^(-1.0)  Meter^(-1.0)  Watt^(1.0)     NaN      NaN  ({ κele at 823 K }: ∼0.53 W m−1 K−1 for Pb0.98...  10.1016-j.jallcom.2019.153453.xml    NaN     NaN                      NaN    NaN  comma-level      κele  An approach of enhancing thermoelectric perfor...  Elsevier  2020  no\n",
       "1663        1684         NaN  ['Pb0.98Na0.02S']  Pb0.98Na0.02S        ThermCond  ThermCond  lattice                [823.0]                823.0          Kelvin^(1.0)    [823.0]             [0.9]            0.90  Kelvin^(-1.0)  Meter^(-1.0)  Watt^(1.0)     NaN      NaN  (The κlat at 823 K decreases from ∼0.9 W m−1 K...  10.1016-j.jallcom.2019.153453.xml    NaN     NaN                      NaN    NaN  comma-level      κlat  An approach of enhancing thermoelectric perfor...  Elsevier  2020  no"
      ]
     },
     "execution_count": 505,
     "metadata": {},
     "output_type": "execute_result"
    }
   ],
   "source": [
    "# known example\n",
    "therm[therm.first_name.str.contains(\"^Pb0.98Na0.02S$\")]"
   ]
  },
  {
   "cell_type": "code",
   "execution_count": 506,
   "metadata": {},
   "outputs": [],
   "source": [
    "tot = therm[therm.type == 'total'].copy()\n",
    "ele = therm[therm.type == 'electronic'].copy()\n",
    "lat = therm[therm.type == 'lattice'].copy()"
   ]
  },
  {
   "cell_type": "code",
   "execution_count": 507,
   "metadata": {},
   "outputs": [],
   "source": [
    "ele.rename({'normalised_avg' : 'EleThermCond_value'}, axis=1, inplace = True)\n",
    "ele.drop(columns=['normalised_model','type', 'specifier'], inplace = True)\n",
    "lat.rename({'normalised_avg' : 'LatThermCond_value'}, axis=1, inplace = True)\n",
    "lat.drop(columns=['normalised_model','type'], inplace = True)\n",
    "tot.rename({'normalised_avg' : 'ThermCond_value'}, axis=1, inplace = True)\n",
    "tot.drop(columns=['normalised_model','type'], inplace = True)"
   ]
  },
  {
   "cell_type": "code",
   "execution_count": 508,
   "metadata": {},
   "outputs": [
    {
     "name": "stdout",
     "output_type": "stream",
     "text": [
      "(75, 1316, 2255)\n"
     ]
    }
   ],
   "source": [
    "print((len(ele), len(lat), len(tot)))"
   ]
  },
  {
   "cell_type": "code",
   "execution_count": 509,
   "metadata": {},
   "outputs": [
    {
     "data": {
      "text/html": [
       "<div>\n",
       "<style scoped>\n",
       "    .dataframe tbody tr th:only-of-type {\n",
       "        vertical-align: middle;\n",
       "    }\n",
       "\n",
       "    .dataframe tbody tr th {\n",
       "        vertical-align: top;\n",
       "    }\n",
       "\n",
       "    .dataframe thead th {\n",
       "        text-align: right;\n",
       "    }\n",
       "</style>\n",
       "<table border=\"1\" class=\"dataframe\">\n",
       "  <thead>\n",
       "    <tr style=\"text-align: right;\">\n",
       "      <th></th>\n",
       "      <th>Unnamed: 0</th>\n",
       "      <th>merged_name</th>\n",
       "      <th>compound_name</th>\n",
       "      <th>first_name</th>\n",
       "      <th>model</th>\n",
       "      <th>normalised_temp_values</th>\n",
       "      <th>normalised_temp_avg</th>\n",
       "      <th>normalised_temp_units</th>\n",
       "      <th>temp_value</th>\n",
       "      <th>normalised_values</th>\n",
       "      <th>EleThermCond_value</th>\n",
       "      <th>normalised_units</th>\n",
       "      <th>editing</th>\n",
       "      <th>pressure</th>\n",
       "      <th>exrept</th>\n",
       "      <th>doi</th>\n",
       "      <th>error</th>\n",
       "      <th>process</th>\n",
       "      <th>direction_of_measurement</th>\n",
       "      <th>labels</th>\n",
       "      <th>parser</th>\n",
       "      <th>title</th>\n",
       "      <th>publisher</th>\n",
       "      <th>yop</th>\n",
       "      <th>oa</th>\n",
       "    </tr>\n",
       "  </thead>\n",
       "  <tbody>\n",
       "    <tr>\n",
       "      <th>170</th>\n",
       "      <td>172</td>\n",
       "      <td>NaN</td>\n",
       "      <td>['PEDOT : PSS / graphene']</td>\n",
       "      <td>PEDOT : PSS / graphene</td>\n",
       "      <td>ThermCond</td>\n",
       "      <td>[295]</td>\n",
       "      <td>295.0</td>\n",
       "      <td>Kelvin^(1.0)</td>\n",
       "      <td>NaN</td>\n",
       "      <td>[0.3]</td>\n",
       "      <td>0.30</td>\n",
       "      <td>Kelvin^(-1.0)  Meter^(-1.0)  Watt^(1.0)</td>\n",
       "      <td>NaN</td>\n",
       "      <td>NaN</td>\n",
       "      <td>({ thermal conductivity at room temperature }:...</td>\n",
       "      <td>10.1039-c6ta00305b.html</td>\n",
       "      <td>NaN</td>\n",
       "      <td>NaN</td>\n",
       "      <td>NaN</td>\n",
       "      <td>NaN</td>\n",
       "      <td>comma-level</td>\n",
       "      <td>Use of organic solvent-assisted exfoliated MoS...</td>\n",
       "      <td>RSC</td>\n",
       "      <td>2016</td>\n",
       "      <td>no</td>\n",
       "    </tr>\n",
       "    <tr>\n",
       "      <th>297</th>\n",
       "      <td>300</td>\n",
       "      <td>NaN</td>\n",
       "      <td>['SrVO3−δ']</td>\n",
       "      <td>SrVO3−δ</td>\n",
       "      <td>ThermCond</td>\n",
       "      <td>[1023.0]</td>\n",
       "      <td>1023.0</td>\n",
       "      <td>Kelvin^(1.0)</td>\n",
       "      <td>[1023.0]</td>\n",
       "      <td>[5.0]</td>\n",
       "      <td>5.00</td>\n",
       "      <td>Kelvin^(-1.0)  Meter^(-1.0)  Watt^(1.0)</td>\n",
       "      <td>NaN</td>\n",
       "      <td>NaN</td>\n",
       "      <td>(Although the thermal conductivity decreases w...</td>\n",
       "      <td>10.1016-j.jallcom.2006.02.026.xml</td>\n",
       "      <td>NaN</td>\n",
       "      <td>NaN</td>\n",
       "      <td>NaN</td>\n",
       "      <td>NaN</td>\n",
       "      <td>comma-level</td>\n",
       "      <td>Physical properties of polycrystalline SrVO3−δ\\n</td>\n",
       "      <td>Elsevier</td>\n",
       "      <td>2006</td>\n",
       "      <td>no</td>\n",
       "    </tr>\n",
       "    <tr>\n",
       "      <th>383</th>\n",
       "      <td>387</td>\n",
       "      <td>NaN</td>\n",
       "      <td>['white petroleum jelly']</td>\n",
       "      <td>white petroleum jelly</td>\n",
       "      <td>ThermCond</td>\n",
       "      <td>[309.0, 333.0]</td>\n",
       "      <td>321.0</td>\n",
       "      <td>Kelvin^(1.0)</td>\n",
       "      <td>[36.0, 60.0]</td>\n",
       "      <td>[91.0]</td>\n",
       "      <td>91.00</td>\n",
       "      <td>Kelvin^(-1.0)  Meter^(-1.0)  Watt^(1.0)</td>\n",
       "      <td>NaN</td>\n",
       "      <td>NaN</td>\n",
       "      <td>( (iii) a PV panel with a container of combine...</td>\n",
       "      <td>10.1016-j.enbuild.2019.109743.xml</td>\n",
       "      <td>NaN</td>\n",
       "      <td>NaN</td>\n",
       "      <td>NaN</td>\n",
       "      <td>NaN</td>\n",
       "      <td>comma-level</td>\n",
       "      <td>Can movable PCM-filled TES units be used to im...</td>\n",
       "      <td>Elsevier</td>\n",
       "      <td>2020</td>\n",
       "      <td>no</td>\n",
       "    </tr>\n",
       "    <tr>\n",
       "      <th>418</th>\n",
       "      <td>423</td>\n",
       "      <td>NaN</td>\n",
       "      <td>['CsAg5Te3']</td>\n",
       "      <td>CsAg5Te3</td>\n",
       "      <td>ThermCond</td>\n",
       "      <td>[727.0]</td>\n",
       "      <td>727.0</td>\n",
       "      <td>Kelvin^(1.0)</td>\n",
       "      <td>[727.0]</td>\n",
       "      <td>[0.14]</td>\n",
       "      <td>0.14</td>\n",
       "      <td>Kelvin^(-1.0)  Meter^(-1.0)  Watt^(1.0)</td>\n",
       "      <td>NaN</td>\n",
       "      <td>NaN</td>\n",
       "      <td>(This concerted rattling phenomenon was also o...</td>\n",
       "      <td>10.1039-c9tc02029b.html</td>\n",
       "      <td>NaN</td>\n",
       "      <td>NaN</td>\n",
       "      <td>NaN</td>\n",
       "      <td>NaN</td>\n",
       "      <td>comma-level</td>\n",
       "      <td>Ultralow thermal conductivity of Tl4Ag18Te11</td>\n",
       "      <td>RSC</td>\n",
       "      <td>2019</td>\n",
       "      <td>no</td>\n",
       "    </tr>\n",
       "    <tr>\n",
       "      <th>441</th>\n",
       "      <td>446</td>\n",
       "      <td>NaN</td>\n",
       "      <td>['CCO single crystal']</td>\n",
       "      <td>CCO single crystal</td>\n",
       "      <td>ThermCond</td>\n",
       "      <td>[800.0]</td>\n",
       "      <td>800.0</td>\n",
       "      <td>Kelvin^(1.0)</td>\n",
       "      <td>[800.0]</td>\n",
       "      <td>[3.0]</td>\n",
       "      <td>3.00</td>\n",
       "      <td>Kelvin^(-1.0)  Meter^(-1.0)  Watt^(1.0)</td>\n",
       "      <td>NaN</td>\n",
       "      <td>NaN</td>\n",
       "      <td>(The in-plane κ value of CCO single crystal is...</td>\n",
       "      <td>10.1016-j.mattod.2019.07.003.xml</td>\n",
       "      <td>NaN</td>\n",
       "      <td>NaN</td>\n",
       "      <td>NaN</td>\n",
       "      <td>NaN</td>\n",
       "      <td>comma-level</td>\n",
       "      <td>Layered oxygen-containing thermoelectric mater...</td>\n",
       "      <td>Elsevier</td>\n",
       "      <td>2019</td>\n",
       "      <td>no</td>\n",
       "    </tr>\n",
       "  </tbody>\n",
       "</table>\n",
       "</div>"
      ],
      "text/plain": [
       "     Unnamed: 0 merged_name               compound_name              first_name      model normalised_temp_values  normalised_temp_avg normalised_temp_units    temp_value normalised_values  EleThermCond_value                         normalised_units editing pressure                                             exrept                                doi  error process direction_of_measurement labels       parser                                              title publisher   yop  oa\n",
       "170         172         NaN  ['PEDOT : PSS / graphene']  PEDOT : PSS / graphene  ThermCond                  [295]                295.0          Kelvin^(1.0)           NaN             [0.3]                0.30  Kelvin^(-1.0)  Meter^(-1.0)  Watt^(1.0)     NaN      NaN  ({ thermal conductivity at room temperature }:...            10.1039-c6ta00305b.html    NaN     NaN                      NaN    NaN  comma-level  Use of organic solvent-assisted exfoliated MoS...       RSC  2016  no\n",
       "297         300         NaN                 ['SrVO3−δ']                 SrVO3−δ  ThermCond               [1023.0]               1023.0          Kelvin^(1.0)      [1023.0]             [5.0]                5.00  Kelvin^(-1.0)  Meter^(-1.0)  Watt^(1.0)     NaN      NaN  (Although the thermal conductivity decreases w...  10.1016-j.jallcom.2006.02.026.xml    NaN     NaN                      NaN    NaN  comma-level   Physical properties of polycrystalline SrVO3−δ\\n  Elsevier  2006  no\n",
       "383         387         NaN   ['white petroleum jelly']   white petroleum jelly  ThermCond         [309.0, 333.0]                321.0          Kelvin^(1.0)  [36.0, 60.0]            [91.0]               91.00  Kelvin^(-1.0)  Meter^(-1.0)  Watt^(1.0)     NaN      NaN  ( (iii) a PV panel with a container of combine...  10.1016-j.enbuild.2019.109743.xml    NaN     NaN                      NaN    NaN  comma-level  Can movable PCM-filled TES units be used to im...  Elsevier  2020  no\n",
       "418         423         NaN                ['CsAg5Te3']                CsAg5Te3  ThermCond                [727.0]                727.0          Kelvin^(1.0)       [727.0]            [0.14]                0.14  Kelvin^(-1.0)  Meter^(-1.0)  Watt^(1.0)     NaN      NaN  (This concerted rattling phenomenon was also o...            10.1039-c9tc02029b.html    NaN     NaN                      NaN    NaN  comma-level       Ultralow thermal conductivity of Tl4Ag18Te11       RSC  2019  no\n",
       "441         446         NaN      ['CCO single crystal']      CCO single crystal  ThermCond                [800.0]                800.0          Kelvin^(1.0)       [800.0]             [3.0]                3.00  Kelvin^(-1.0)  Meter^(-1.0)  Watt^(1.0)     NaN      NaN  (The in-plane κ value of CCO single crystal is...   10.1016-j.mattod.2019.07.003.xml    NaN     NaN                      NaN    NaN  comma-level  Layered oxygen-containing thermoelectric mater...  Elsevier  2019  no"
      ]
     },
     "execution_count": 509,
     "metadata": {},
     "output_type": "execute_result"
    }
   ],
   "source": [
    "ele.head()"
   ]
  },
  {
   "cell_type": "code",
   "execution_count": 510,
   "metadata": {},
   "outputs": [
    {
     "data": {
      "text/plain": [
       "Index(['Unnamed: 0', 'merged_name', 'compound_name', 'first_name', 'normalised_model', 'model', 'type', 'normalised_temp_values', 'normalised_temp_avg', 'normalised_temp_units', 'temp_value', 'normalised_values', 'normalised_avg', 'normalised_units', 'editing', 'pressure', 'exrept', 'doi', 'error', 'process', 'direction_of_measurement', 'labels', 'parser', 'specifier', 'title', 'publisher', 'yop', 'oa'], dtype='object')"
      ]
     },
     "execution_count": 510,
     "metadata": {},
     "output_type": "execute_result"
    }
   ],
   "source": [
    "dd.columns"
   ]
  },
  {
   "cell_type": "code",
   "execution_count": 511,
   "metadata": {},
   "outputs": [],
   "source": [
    "#use inner merging to get only the entries which have both an electronic and lattice component\n",
    "ele_lat = pd.merge(ele, lat, on=['first_name','normalised_temp_avg','doi',\n",
    "                                'parser', 'oa', 'publisher', 'editing', 'pressure', 'error', 'process',\n",
    "                                'labels', 'direction_of_measurement'], how='inner') # new additon keep open and pub"
   ]
  },
  {
   "cell_type": "code",
   "execution_count": 512,
   "metadata": {},
   "outputs": [
    {
     "data": {
      "text/html": [
       "<div>\n",
       "<style scoped>\n",
       "    .dataframe tbody tr th:only-of-type {\n",
       "        vertical-align: middle;\n",
       "    }\n",
       "\n",
       "    .dataframe tbody tr th {\n",
       "        vertical-align: top;\n",
       "    }\n",
       "\n",
       "    .dataframe thead th {\n",
       "        text-align: right;\n",
       "    }\n",
       "</style>\n",
       "<table border=\"1\" class=\"dataframe\">\n",
       "  <thead>\n",
       "    <tr style=\"text-align: right;\">\n",
       "      <th></th>\n",
       "      <th>first_name</th>\n",
       "      <th>EleThermCond_value</th>\n",
       "      <th>LatThermCond_value</th>\n",
       "      <th>normalised_temp_avg</th>\n",
       "    </tr>\n",
       "  </thead>\n",
       "  <tbody>\n",
       "    <tr>\n",
       "      <th>0</th>\n",
       "      <td>Bi1.995Cu0.005S3</td>\n",
       "      <td>0.43</td>\n",
       "      <td>0.52</td>\n",
       "      <td>573.0</td>\n",
       "    </tr>\n",
       "    <tr>\n",
       "      <th>1</th>\n",
       "      <td>PbS+4 % CaS+1 % PbCl2</td>\n",
       "      <td>1.20</td>\n",
       "      <td>0.40</td>\n",
       "      <td>300.0</td>\n",
       "    </tr>\n",
       "    <tr>\n",
       "      <th>2</th>\n",
       "      <td>Sn0.8Ge0.2Te</td>\n",
       "      <td>3.70</td>\n",
       "      <td>3.10</td>\n",
       "      <td>300.0</td>\n",
       "    </tr>\n",
       "    <tr>\n",
       "      <th>3</th>\n",
       "      <td>BiSbTe matrix</td>\n",
       "      <td>1.29</td>\n",
       "      <td>0.78</td>\n",
       "      <td>303.0</td>\n",
       "    </tr>\n",
       "  </tbody>\n",
       "</table>\n",
       "</div>"
      ],
      "text/plain": [
       "              first_name  EleThermCond_value  LatThermCond_value  normalised_temp_avg\n",
       "0       Bi1.995Cu0.005S3                0.43                0.52                573.0\n",
       "1  PbS+4 % CaS+1 % PbCl2                1.20                0.40                300.0\n",
       "2           Sn0.8Ge0.2Te                3.70                3.10                300.0\n",
       "3          BiSbTe matrix                1.29                0.78                303.0"
      ]
     },
     "execution_count": 512,
     "metadata": {},
     "output_type": "execute_result"
    }
   ],
   "source": [
    "ele_lat[\"first_name EleThermCond_value LatThermCond_value normalised_temp_avg\".split()].head()"
   ]
  },
  {
   "cell_type": "code",
   "execution_count": 513,
   "metadata": {},
   "outputs": [
    {
     "data": {
      "text/plain": [
       "(71, 27)"
      ]
     },
     "execution_count": 513,
     "metadata": {},
     "output_type": "execute_result"
    }
   ],
   "source": [
    "#try and find metals: resistvity between 10-6 and 10-8.\n",
    "#but use normalised Conductivity\n",
    "metals_check = df[(df.normalised_model == 'Conductivity') & (df.normalised_avg < (10.0**(8)))\n",
    "   & (df.normalised_avg > (10.0**(6)))][ordered_columns]\n",
    "\n",
    "metals_check.shape\n",
    "# only 70 metals based on this criterion... too few :/"
   ]
  },
  {
   "cell_type": "code",
   "execution_count": 514,
   "metadata": {},
   "outputs": [],
   "source": [
    "def add_ele_and_lat(df):\n",
    "    return (df.EleThermCond_value + df.LatThermCond_value)"
   ]
  },
  {
   "cell_type": "code",
   "execution_count": 515,
   "metadata": {},
   "outputs": [],
   "source": [
    "ele_lat['SUMThermCond_value'] = ele_lat.apply(add_ele_and_lat, axis=1)"
   ]
  },
  {
   "cell_type": "code",
   "execution_count": 516,
   "metadata": {},
   "outputs": [],
   "source": [
    "compare = pd.merge(tot, ele_lat, on=['first_name','normalised_temp_avg','doi'], how='inner')"
   ]
  },
  {
   "cell_type": "code",
   "execution_count": 517,
   "metadata": {},
   "outputs": [],
   "source": [
    "#rename for presentability\n",
    "compare.rename({'ThermCond_value':'k_tot', 'EleThermCond_value':'k_e', 'LatThermCond_value':'k_lat', 'SUMThermCond_value':'SUM'},axis=1,inplace=True)"
   ]
  },
  {
   "cell_type": "code",
   "execution_count": 518,
   "metadata": {},
   "outputs": [],
   "source": [
    "#reorder\n",
    "compare = compare[['first_name','k_e','k_lat','SUM','k_tot','normalised_temp_values','doi']]"
   ]
  },
  {
   "cell_type": "code",
   "execution_count": 519,
   "metadata": {},
   "outputs": [
    {
     "data": {
      "text/html": [
       "<div>\n",
       "<style scoped>\n",
       "    .dataframe tbody tr th:only-of-type {\n",
       "        vertical-align: middle;\n",
       "    }\n",
       "\n",
       "    .dataframe tbody tr th {\n",
       "        vertical-align: top;\n",
       "    }\n",
       "\n",
       "    .dataframe thead th {\n",
       "        text-align: right;\n",
       "    }\n",
       "</style>\n",
       "<table border=\"1\" class=\"dataframe\">\n",
       "  <thead>\n",
       "    <tr style=\"text-align: right;\">\n",
       "      <th></th>\n",
       "      <th>first_name</th>\n",
       "      <th>k_e</th>\n",
       "      <th>k_lat</th>\n",
       "      <th>SUM</th>\n",
       "      <th>k_tot</th>\n",
       "      <th>normalised_temp_values</th>\n",
       "      <th>doi</th>\n",
       "    </tr>\n",
       "  </thead>\n",
       "  <tbody>\n",
       "    <tr>\n",
       "      <th>0</th>\n",
       "      <td>Sn0.8Ge0.2Te</td>\n",
       "      <td>3.7</td>\n",
       "      <td>3.1</td>\n",
       "      <td>6.8</td>\n",
       "      <td>5.4</td>\n",
       "      <td>[300.0]</td>\n",
       "      <td>10.1039-c7cp04931e.html</td>\n",
       "    </tr>\n",
       "  </tbody>\n",
       "</table>\n",
       "</div>"
      ],
      "text/plain": [
       "     first_name  k_e  k_lat  SUM  k_tot normalised_temp_values                      doi\n",
       "0  Sn0.8Ge0.2Te  3.7    3.1  6.8    5.4                [300.0]  10.1039-c7cp04931e.html"
      ]
     },
     "execution_count": 519,
     "metadata": {},
     "output_type": "execute_result"
    }
   ],
   "source": [
    "compare  # too few, used to be more"
   ]
  },
  {
   "cell_type": "code",
   "execution_count": 520,
   "metadata": {},
   "outputs": [
    {
     "data": {
      "text/plain": [
       "array(['ThermCond', 'ZT', 'Conductivity', 'Seebeck', 'PF'], dtype=object)"
      ]
     },
     "execution_count": 520,
     "metadata": {},
     "output_type": "execute_result"
    }
   ],
   "source": [
    "dd.normalised_model.unique()"
   ]
  },
  {
   "cell_type": "code",
   "execution_count": 521,
   "metadata": {},
   "outputs": [],
   "source": [
    "tot_th = therm[therm.type == 'total']"
   ]
  },
  {
   "cell_type": "code",
   "execution_count": 522,
   "metadata": {},
   "outputs": [],
   "source": [
    "tot_th = tot_th.drop(['type','specifier'], axis=1)"
   ]
  },
  {
   "cell_type": "code",
   "execution_count": 523,
   "metadata": {},
   "outputs": [
    {
     "data": {
      "text/plain": [
       "Index(['Unnamed: 0', 'merged_name', 'compound_name', 'first_name', 'normalised_model', 'model', 'normalised_temp_values', 'normalised_temp_avg', 'normalised_temp_units', 'temp_value', 'normalised_values', 'normalised_avg', 'normalised_units', 'editing', 'pressure', 'exrept', 'doi', 'error', 'process', 'direction_of_measurement', 'labels', 'parser', 'title', 'publisher', 'yop', 'oa'], dtype='object')"
      ]
     },
     "execution_count": 523,
     "metadata": {},
     "output_type": "execute_result"
    }
   ],
   "source": [
    "tot_th.columns"
   ]
  },
  {
   "cell_type": "code",
   "execution_count": 524,
   "metadata": {},
   "outputs": [],
   "source": [
    "#some reason tot_th.columns didn't work\n",
    "cols = ['first_name',\n",
    "       'normalised_avg', 'normalised_temp_values', 'parser', 'doi', 'oa', 'yop', 'publisher',\n",
    "       'editing', 'pressure', 'error', 'process', 'labels', 'direction_of_measurement']  # new additon keep open and pub, and now yop"
   ]
  },
  {
   "cell_type": "markdown",
   "metadata": {},
   "source": [
    "### make changes to include k_e and k_p as well"
   ]
  },
  {
   "cell_type": "code",
   "execution_count": 658,
   "metadata": {},
   "outputs": [],
   "source": [
    "tot_th = therm[therm.type == 'total'][cols].rename({\"normalised_avg\":\"k\"}, axis=1).copy()\n",
    "e_th = therm[therm.type == 'electronic'][cols].rename({\"normalised_avg\":\"k_e\"}, axis=1).copy()\n",
    "p_th = therm[therm.type == 'lattice'][cols].rename({\"normalised_avg\":\"k_p\"}, axis=1).copy()\n",
    "zt = dd[dd.normalised_model == 'ZT'][cols].rename({\"normalised_avg\":\"ZT\"}, axis=1).copy()\n",
    "pf = dd[dd.normalised_model == 'PF'][cols].rename({\"normalised_avg\":\"PF\"}, axis=1).copy()\n",
    "s = dd[dd.normalised_model == 'Seebeck'][cols].rename({\"normalised_avg\":\"S\"}, axis=1).copy()\n",
    "el = dd[dd.normalised_model == 'Conductivity'][cols].rename({\"normalised_avg\":\"s\"}, axis=1).copy()"
   ]
  },
  {
   "cell_type": "code",
   "execution_count": 659,
   "metadata": {},
   "outputs": [],
   "source": [
    "dfs = [tot_th, e_th, p_th, pf, s, el, zt]"
   ]
  },
  {
   "cell_type": "code",
   "execution_count": 660,
   "metadata": {},
   "outputs": [
    {
     "name": "stdout",
     "output_type": "stream",
     "text": [
      "Index(['first_name', 'k', 'normalised_temp_values', 'parser', 'doi', 'oa', 'yop', 'publisher', 'editing', 'pressure', 'error', 'process', 'labels', 'direction_of_measurement'], dtype='object')\n",
      "Index(['first_name', 'k_e', 'normalised_temp_values', 'parser', 'doi', 'oa', 'yop', 'publisher', 'editing', 'pressure', 'error', 'process', 'labels', 'direction_of_measurement'], dtype='object')\n",
      "Index(['first_name', 'k_p', 'normalised_temp_values', 'parser', 'doi', 'oa', 'yop', 'publisher', 'editing', 'pressure', 'error', 'process', 'labels', 'direction_of_measurement'], dtype='object')\n",
      "Index(['first_name', 'PF', 'normalised_temp_values', 'parser', 'doi', 'oa', 'yop', 'publisher', 'editing', 'pressure', 'error', 'process', 'labels', 'direction_of_measurement'], dtype='object')\n",
      "Index(['first_name', 'S', 'normalised_temp_values', 'parser', 'doi', 'oa', 'yop', 'publisher', 'editing', 'pressure', 'error', 'process', 'labels', 'direction_of_measurement'], dtype='object')\n",
      "Index(['first_name', 's', 'normalised_temp_values', 'parser', 'doi', 'oa', 'yop', 'publisher', 'editing', 'pressure', 'error', 'process', 'labels', 'direction_of_measurement'], dtype='object')\n",
      "Index(['first_name', 'ZT', 'normalised_temp_values', 'parser', 'doi', 'oa', 'yop', 'publisher', 'editing', 'pressure', 'error', 'process', 'labels', 'direction_of_measurement'], dtype='object')\n"
     ]
    }
   ],
   "source": [
    "for entry in dfs:\n",
    "    print(entry.columns)"
   ]
  },
  {
   "cell_type": "code",
   "execution_count": 661,
   "metadata": {},
   "outputs": [],
   "source": [
    "# STATE BACKUP\n",
    "df_thermcond_setup_bckp = dd.copy()"
   ]
  },
  {
   "cell_type": "code",
   "execution_count": 662,
   "metadata": {},
   "outputs": [],
   "source": [
    "# RECOVER (db or dd????)\n",
    "# db = df_thermcond_setup_bckp.copy()"
   ]
  },
  {
   "cell_type": "code",
   "execution_count": 663,
   "metadata": {},
   "outputs": [],
   "source": [
    "# most of these combinations have a unique value, but about 200+ (for ZT) have more than one\n",
    "\n",
    "# db.groupby([\"first_name\", \"normalised_temp_values\", \"doi\"]).ZT.apply(lambda S: S.dropna().unique()).reset_index().ZT.apply(len).value_counts()"
   ]
  },
  {
   "cell_type": "code",
   "execution_count": 664,
   "metadata": {},
   "outputs": [],
   "source": [
    "merge_columns = [\n",
    " 'first_name',\n",
    " 'normalised_temp_values',\n",
    " 'doi',\n",
    " 'oa', 'yop',\n",
    " 'parser',\n",
    " 'publisher',\n",
    " 'editing', 'pressure', 'process', 'labels', 'direction_of_measurement']\n",
    "\n",
    "# added new cols which include nan values, so need to groupby with dropna = False\n",
    "# added yop as well\n",
    "# had error by mistake,\n",
    "# but removed it, because it doesn't make sense to merge on error, it doesn't describe the compound"
   ]
  },
  {
   "cell_type": "code",
   "execution_count": null,
   "metadata": {},
   "outputs": [],
   "source": []
  },
  {
   "cell_type": "code",
   "execution_count": 665,
   "metadata": {},
   "outputs": [],
   "source": [
    "def collect(s):\n",
    "    l = []\n",
    "    for x in s:\n",
    "        if has(x):\n",
    "            l.append(x)\n",
    "    return l"
   ]
  },
  {
   "cell_type": "code",
   "execution_count": 666,
   "metadata": {},
   "outputs": [
    {
     "name": "stdout",
     "output_type": "stream",
     "text": [
      "Statsitcs Error\n"
     ]
    }
   ],
   "source": [
    "from statistics import mode, StatisticsError\n",
    "try:\n",
    "    mode([3,3,4,4])\n",
    "except StatisticsError:\n",
    "    print(\"Statsitcs Error\")"
   ]
  },
  {
   "cell_type": "code",
   "execution_count": 667,
   "metadata": {},
   "outputs": [],
   "source": [
    "dfs_copy = dfs.copy()\n",
    "dfs_collect = []"
   ]
  },
  {
   "cell_type": "code",
   "execution_count": 668,
   "metadata": {},
   "outputs": [],
   "source": [
    "#for brevity. Return False for both [] and np.nan. Unfortunately bool(np.nan) evaluates to True\n",
    "def has(x):\n",
    "    if x == []:\n",
    "        return False\n",
    "    return not (x is np.nan)\n"
   ]
  },
  {
   "cell_type": "code",
   "execution_count": 669,
   "metadata": {},
   "outputs": [],
   "source": [
    "dfs_mods = \"k k_e k_p ZT PF S s\".split()\n",
    "\n",
    "# collect mutliple entries for same merge columns (e.g. same compound, same temp, diff value averages)\n",
    "for dfc in dfs_copy:\n",
    "    df_mod = [m for m in dfs_mods if m in dfc.columns][0]\n",
    "    dfs_collect.append(dfc.groupby(merge_columns, dropna = False)[df_mod].apply(collect).reset_index())"
   ]
  },
  {
   "cell_type": "code",
   "execution_count": 670,
   "metadata": {},
   "outputs": [],
   "source": [
    "#dfs_collect[0][dfs_collect[0].k.apply(lambda l: True if len(l) > 1 else False)]"
   ]
  },
  {
   "cell_type": "code",
   "execution_count": 671,
   "metadata": {},
   "outputs": [
    {
     "data": {
      "text/html": [
       "<div>\n",
       "<style scoped>\n",
       "    .dataframe tbody tr th:only-of-type {\n",
       "        vertical-align: middle;\n",
       "    }\n",
       "\n",
       "    .dataframe tbody tr th {\n",
       "        vertical-align: top;\n",
       "    }\n",
       "\n",
       "    .dataframe thead th {\n",
       "        text-align: right;\n",
       "    }\n",
       "</style>\n",
       "<table border=\"1\" class=\"dataframe\">\n",
       "  <thead>\n",
       "    <tr style=\"text-align: right;\">\n",
       "      <th></th>\n",
       "      <th>first_name</th>\n",
       "      <th>normalised_temp_values</th>\n",
       "      <th>doi</th>\n",
       "      <th>oa</th>\n",
       "      <th>yop</th>\n",
       "      <th>parser</th>\n",
       "      <th>publisher</th>\n",
       "      <th>editing</th>\n",
       "      <th>pressure</th>\n",
       "      <th>process</th>\n",
       "      <th>labels</th>\n",
       "      <th>direction_of_measurement</th>\n",
       "      <th>k</th>\n",
       "    </tr>\n",
       "  </thead>\n",
       "  <tbody>\n",
       "    <tr>\n",
       "      <th>0</th>\n",
       "      <td>(Bi,Sb)2-xSnxSe3–4xCl4x</td>\n",
       "      <td>[773.0]</td>\n",
       "      <td>10.1016-j.mssp.2019.01.021.xml</td>\n",
       "      <td>no</td>\n",
       "      <td>2019</td>\n",
       "      <td>comma-level</td>\n",
       "      <td>Elsevier</td>\n",
       "      <td>NaN</td>\n",
       "      <td>NaN</td>\n",
       "      <td>NaN</td>\n",
       "      <td>NaN</td>\n",
       "      <td>NaN</td>\n",
       "      <td>[0.475]</td>\n",
       "    </tr>\n",
       "    <tr>\n",
       "      <th>1</th>\n",
       "      <td>(BiS)1.2(TiS2)2</td>\n",
       "      <td>[700.0]</td>\n",
       "      <td>10.1016-j.rser.2018.10.006.xml</td>\n",
       "      <td>no</td>\n",
       "      <td>2019</td>\n",
       "      <td>comma-level</td>\n",
       "      <td>Elsevier</td>\n",
       "      <td>NaN</td>\n",
       "      <td>NaN</td>\n",
       "      <td>NaN</td>\n",
       "      <td>NaN</td>\n",
       "      <td>NaN</td>\n",
       "      <td>[0.3]</td>\n",
       "    </tr>\n",
       "    <tr>\n",
       "      <th>2</th>\n",
       "      <td>(Ce0.2Zr0.2Hf0.2Sn0.2Ti0.2)O2</td>\n",
       "      <td>[295]</td>\n",
       "      <td>10.1039-c9ta05698j.html</td>\n",
       "      <td>yes</td>\n",
       "      <td>2019</td>\n",
       "      <td>comma-level</td>\n",
       "      <td>RSC</td>\n",
       "      <td>NaN</td>\n",
       "      <td>NaN</td>\n",
       "      <td>NaN</td>\n",
       "      <td>NaN</td>\n",
       "      <td>NaN</td>\n",
       "      <td>[1.28]</td>\n",
       "    </tr>\n",
       "    <tr>\n",
       "      <th>3</th>\n",
       "      <td>(CrSi2)0.90(WSi2)0.10</td>\n",
       "      <td>[300.0]</td>\n",
       "      <td>10.1016-j.jallcom.2016.08.185.xml</td>\n",
       "      <td>no</td>\n",
       "      <td>2017</td>\n",
       "      <td>comma-level</td>\n",
       "      <td>Elsevier</td>\n",
       "      <td>WSi2 addition</td>\n",
       "      <td>NaN</td>\n",
       "      <td>sintered</td>\n",
       "      <td>NaN</td>\n",
       "      <td>NaN</td>\n",
       "      <td>[4.8]</td>\n",
       "    </tr>\n",
       "    <tr>\n",
       "      <th>4</th>\n",
       "      <td>(Cu0.93Ag0.07)2Se</td>\n",
       "      <td>[773.0]</td>\n",
       "      <td>10.1016-j.susmat.2018.e00076.xml</td>\n",
       "      <td>no</td>\n",
       "      <td>2018</td>\n",
       "      <td>comma-level</td>\n",
       "      <td>Elsevier</td>\n",
       "      <td>NaN</td>\n",
       "      <td>NaN</td>\n",
       "      <td>NaN</td>\n",
       "      <td>NaN</td>\n",
       "      <td>NaN</td>\n",
       "      <td>[0.23]</td>\n",
       "    </tr>\n",
       "    <tr>\n",
       "      <th>...</th>\n",
       "      <td>...</td>\n",
       "      <td>...</td>\n",
       "      <td>...</td>\n",
       "      <td>...</td>\n",
       "      <td>...</td>\n",
       "      <td>...</td>\n",
       "      <td>...</td>\n",
       "      <td>...</td>\n",
       "      <td>...</td>\n",
       "      <td>...</td>\n",
       "      <td>...</td>\n",
       "      <td>...</td>\n",
       "      <td>...</td>\n",
       "    </tr>\n",
       "    <tr>\n",
       "      <th>2137</th>\n",
       "      <td>γ-Cu2S</td>\n",
       "      <td>[800.0]</td>\n",
       "      <td>10.1016-j.vacuum.2019.108964.xml</td>\n",
       "      <td>no</td>\n",
       "      <td>2019</td>\n",
       "      <td>comma-level</td>\n",
       "      <td>Elsevier</td>\n",
       "      <td>NaN</td>\n",
       "      <td>NaN</td>\n",
       "      <td>high temperature</td>\n",
       "      <td>NaN</td>\n",
       "      <td>NaN</td>\n",
       "      <td>[0.19]</td>\n",
       "    </tr>\n",
       "    <tr>\n",
       "      <th>2138</th>\n",
       "      <td>γ-ThC2</td>\n",
       "      <td>[443.0]</td>\n",
       "      <td>10.1016-B978-0-08-056033-5.00011-2.xml</td>\n",
       "      <td>no</td>\n",
       "      <td>2012</td>\n",
       "      <td>comma-level</td>\n",
       "      <td>Elsevier</td>\n",
       "      <td>NaN</td>\n",
       "      <td>NaN</td>\n",
       "      <td>NaN</td>\n",
       "      <td>NaN</td>\n",
       "      <td>NaN</td>\n",
       "      <td>[24.1]</td>\n",
       "    </tr>\n",
       "    <tr>\n",
       "      <th>2139</th>\n",
       "      <td>δ-Cu2S monolayer</td>\n",
       "      <td>[295]</td>\n",
       "      <td>10.1039-c9nr01501a.html</td>\n",
       "      <td>no</td>\n",
       "      <td>2019</td>\n",
       "      <td>comma-level</td>\n",
       "      <td>RSC</td>\n",
       "      <td>NaN</td>\n",
       "      <td>NaN</td>\n",
       "      <td>NaN</td>\n",
       "      <td>NaN</td>\n",
       "      <td>NaN</td>\n",
       "      <td>[0.27]</td>\n",
       "    </tr>\n",
       "    <tr>\n",
       "      <th>2140</th>\n",
       "      <td>δ-Cu2S monolayer</td>\n",
       "      <td>[800.0]</td>\n",
       "      <td>10.1016-j.vacuum.2019.108964.xml</td>\n",
       "      <td>no</td>\n",
       "      <td>2019</td>\n",
       "      <td>comma-level</td>\n",
       "      <td>Elsevier</td>\n",
       "      <td>NaN</td>\n",
       "      <td>NaN</td>\n",
       "      <td>NaN</td>\n",
       "      <td>NaN</td>\n",
       "      <td>NaN</td>\n",
       "      <td>[0.1]</td>\n",
       "    </tr>\n",
       "    <tr>\n",
       "      <th>2141</th>\n",
       "      <td>δ-Cu2S monolayer</td>\n",
       "      <td>[800.0]</td>\n",
       "      <td>10.1039-c9nr01501a.html</td>\n",
       "      <td>no</td>\n",
       "      <td>2019</td>\n",
       "      <td>comma-level</td>\n",
       "      <td>RSC</td>\n",
       "      <td>NaN</td>\n",
       "      <td>NaN</td>\n",
       "      <td>NaN</td>\n",
       "      <td>NaN</td>\n",
       "      <td>NaN</td>\n",
       "      <td>[0.1]</td>\n",
       "    </tr>\n",
       "  </tbody>\n",
       "</table>\n",
       "<p>2142 rows × 13 columns</p>\n",
       "</div>"
      ],
      "text/plain": [
       "                         first_name normalised_temp_values                                     doi   oa   yop       parser publisher        editing pressure           process labels direction_of_measurement        k\n",
       "0           (Bi,Sb)2-xSnxSe3–4xCl4x                [773.0]          10.1016-j.mssp.2019.01.021.xml   no  2019  comma-level  Elsevier            NaN      NaN               NaN    NaN                      NaN  [0.475]\n",
       "1                   (BiS)1.2(TiS2)2                [700.0]          10.1016-j.rser.2018.10.006.xml   no  2019  comma-level  Elsevier            NaN      NaN               NaN    NaN                      NaN    [0.3]\n",
       "2     (Ce0.2Zr0.2Hf0.2Sn0.2Ti0.2)O2                  [295]                 10.1039-c9ta05698j.html  yes  2019  comma-level       RSC            NaN      NaN               NaN    NaN                      NaN   [1.28]\n",
       "3             (CrSi2)0.90(WSi2)0.10                [300.0]       10.1016-j.jallcom.2016.08.185.xml   no  2017  comma-level  Elsevier  WSi2 addition      NaN          sintered    NaN                      NaN    [4.8]\n",
       "4                 (Cu0.93Ag0.07)2Se                [773.0]        10.1016-j.susmat.2018.e00076.xml   no  2018  comma-level  Elsevier            NaN      NaN               NaN    NaN                      NaN   [0.23]\n",
       "...                             ...                    ...                                     ...  ...   ...          ...       ...            ...      ...               ...    ...                      ...      ...\n",
       "2137                         γ-Cu2S                [800.0]        10.1016-j.vacuum.2019.108964.xml   no  2019  comma-level  Elsevier            NaN      NaN  high temperature    NaN                      NaN   [0.19]\n",
       "2138                         γ-ThC2                [443.0]  10.1016-B978-0-08-056033-5.00011-2.xml   no  2012  comma-level  Elsevier            NaN      NaN               NaN    NaN                      NaN   [24.1]\n",
       "2139               δ-Cu2S monolayer                  [295]                 10.1039-c9nr01501a.html   no  2019  comma-level       RSC            NaN      NaN               NaN    NaN                      NaN   [0.27]\n",
       "2140               δ-Cu2S monolayer                [800.0]        10.1016-j.vacuum.2019.108964.xml   no  2019  comma-level  Elsevier            NaN      NaN               NaN    NaN                      NaN    [0.1]\n",
       "2141               δ-Cu2S monolayer                [800.0]                 10.1039-c9nr01501a.html   no  2019  comma-level       RSC            NaN      NaN               NaN    NaN                      NaN    [0.1]\n",
       "\n",
       "[2142 rows x 13 columns]"
      ]
     },
     "execution_count": 671,
     "metadata": {},
     "output_type": "execute_result"
    }
   ],
   "source": [
    "dfs_collect[0]"
   ]
  },
  {
   "cell_type": "code",
   "execution_count": 672,
   "metadata": {},
   "outputs": [
    {
     "data": {
      "text/html": [
       "<div>\n",
       "<style scoped>\n",
       "    .dataframe tbody tr th:only-of-type {\n",
       "        vertical-align: middle;\n",
       "    }\n",
       "\n",
       "    .dataframe tbody tr th {\n",
       "        vertical-align: top;\n",
       "    }\n",
       "\n",
       "    .dataframe thead th {\n",
       "        text-align: right;\n",
       "    }\n",
       "</style>\n",
       "<table border=\"1\" class=\"dataframe\">\n",
       "  <thead>\n",
       "    <tr style=\"text-align: right;\">\n",
       "      <th></th>\n",
       "      <th>first_name</th>\n",
       "      <th>normalised_temp_values</th>\n",
       "      <th>doi</th>\n",
       "      <th>oa</th>\n",
       "      <th>yop</th>\n",
       "      <th>parser</th>\n",
       "      <th>publisher</th>\n",
       "      <th>editing</th>\n",
       "      <th>pressure</th>\n",
       "      <th>process</th>\n",
       "      <th>labels</th>\n",
       "      <th>direction_of_measurement</th>\n",
       "      <th>S</th>\n",
       "    </tr>\n",
       "  </thead>\n",
       "  <tbody>\n",
       "    <tr>\n",
       "      <th>0</th>\n",
       "      <td>( 0 0 l )</td>\n",
       "      <td>[393.0]</td>\n",
       "      <td>10.1016-j.cplett.2013.08.084.xml</td>\n",
       "      <td>no</td>\n",
       "      <td>2013</td>\n",
       "      <td>comma-level</td>\n",
       "      <td>Elsevier</td>\n",
       "      <td>NaN</td>\n",
       "      <td>NaN</td>\n",
       "      <td>NaN</td>\n",
       "      <td>NaN</td>\n",
       "      <td>NaN</td>\n",
       "      <td>[0.000243]</td>\n",
       "    </tr>\n",
       "    <tr>\n",
       "      <th>1</th>\n",
       "      <td>( 0 0 l )</td>\n",
       "      <td>[493.0, 613.0]</td>\n",
       "      <td>10.1016-j.jallcom.2014.07.018.xml</td>\n",
       "      <td>no</td>\n",
       "      <td>2014</td>\n",
       "      <td>comma-level</td>\n",
       "      <td>Elsevier</td>\n",
       "      <td>NaN</td>\n",
       "      <td>NaN</td>\n",
       "      <td>NaN</td>\n",
       "      <td>NaN</td>\n",
       "      <td>NaN</td>\n",
       "      <td>[0.00018125]</td>\n",
       "    </tr>\n",
       "    <tr>\n",
       "      <th>2</th>\n",
       "      <td>( 0.01 wt % ) of Tl doped PbSe</td>\n",
       "      <td>[295]</td>\n",
       "      <td>10.1016-j.mtener.2018.06.010.xml</td>\n",
       "      <td>no</td>\n",
       "      <td>2018</td>\n",
       "      <td>comma-level</td>\n",
       "      <td>Elsevier</td>\n",
       "      <td>NaN</td>\n",
       "      <td>NaN</td>\n",
       "      <td>NaN</td>\n",
       "      <td>NaN</td>\n",
       "      <td>NaN</td>\n",
       "      <td>[8.28e-05]</td>\n",
       "    </tr>\n",
       "    <tr>\n",
       "      <th>3</th>\n",
       "      <td>( 0.5 % Mg</td>\n",
       "      <td>[295]</td>\n",
       "      <td>10.1016-j.ssc.2013.08.023.xml</td>\n",
       "      <td>no</td>\n",
       "      <td>2013</td>\n",
       "      <td>comma-level</td>\n",
       "      <td>Elsevier</td>\n",
       "      <td>NaN</td>\n",
       "      <td>NaN</td>\n",
       "      <td>NaN</td>\n",
       "      <td>NaN</td>\n",
       "      <td>NaN</td>\n",
       "      <td>[0.000102]</td>\n",
       "    </tr>\n",
       "    <tr>\n",
       "      <th>4</th>\n",
       "      <td>( 1 1 1 )-oriented γ-CuI films</td>\n",
       "      <td>[300.0]</td>\n",
       "      <td>10.1016-j.solener.2020.10.081.xml</td>\n",
       "      <td>no</td>\n",
       "      <td>2020</td>\n",
       "      <td>comma-level</td>\n",
       "      <td>Elsevier</td>\n",
       "      <td>NaN</td>\n",
       "      <td>NaN</td>\n",
       "      <td>deposited</td>\n",
       "      <td>NaN</td>\n",
       "      <td>NaN</td>\n",
       "      <td>[0.00022]</td>\n",
       "    </tr>\n",
       "    <tr>\n",
       "      <th>...</th>\n",
       "      <td>...</td>\n",
       "      <td>...</td>\n",
       "      <td>...</td>\n",
       "      <td>...</td>\n",
       "      <td>...</td>\n",
       "      <td>...</td>\n",
       "      <td>...</td>\n",
       "      <td>...</td>\n",
       "      <td>...</td>\n",
       "      <td>...</td>\n",
       "      <td>...</td>\n",
       "      <td>...</td>\n",
       "      <td>...</td>\n",
       "    </tr>\n",
       "    <tr>\n",
       "      <th>2391</th>\n",
       "      <td>β-Zn4Sb3</td>\n",
       "      <td>[300.0]</td>\n",
       "      <td>10.1039-c5ta01778e.html</td>\n",
       "      <td>no</td>\n",
       "      <td>2015</td>\n",
       "      <td>comma-level</td>\n",
       "      <td>RSC</td>\n",
       "      <td>Gd doping</td>\n",
       "      <td>NaN</td>\n",
       "      <td>NaN</td>\n",
       "      <td>NaN</td>\n",
       "      <td>NaN</td>\n",
       "      <td>[4.1e-05]</td>\n",
       "    </tr>\n",
       "    <tr>\n",
       "      <th>2392</th>\n",
       "      <td>β-Zn4Sb3</td>\n",
       "      <td>[300.0]</td>\n",
       "      <td>10.1557-JMR.2009.0058.txt</td>\n",
       "      <td>no</td>\n",
       "      <td>2009</td>\n",
       "      <td>comma-level</td>\n",
       "      <td>Springer</td>\n",
       "      <td>NaN</td>\n",
       "      <td>NaN</td>\n",
       "      <td>NaN</td>\n",
       "      <td>NaN</td>\n",
       "      <td>NaN</td>\n",
       "      <td>[0.000117]</td>\n",
       "    </tr>\n",
       "    <tr>\n",
       "      <th>2393</th>\n",
       "      <td>β-Zn4Sb3</td>\n",
       "      <td>[430.0]</td>\n",
       "      <td>10.1016-j.matchar.2009.01.013.xml</td>\n",
       "      <td>no</td>\n",
       "      <td>2009</td>\n",
       "      <td>comma-level</td>\n",
       "      <td>Elsevier</td>\n",
       "      <td>NaN</td>\n",
       "      <td>NaN</td>\n",
       "      <td>NaN</td>\n",
       "      <td>NaN</td>\n",
       "      <td>NaN</td>\n",
       "      <td>[0.0001275]</td>\n",
       "    </tr>\n",
       "    <tr>\n",
       "      <th>2394</th>\n",
       "      <td>β-Zn4Sb3</td>\n",
       "      <td>[573.0]</td>\n",
       "      <td>10.1016-j.apsusc.2013.12.056.xml</td>\n",
       "      <td>no</td>\n",
       "      <td>2014</td>\n",
       "      <td>comma-level</td>\n",
       "      <td>Elsevier</td>\n",
       "      <td>NaN</td>\n",
       "      <td>NaN</td>\n",
       "      <td>NaN</td>\n",
       "      <td>NaN</td>\n",
       "      <td>NaN</td>\n",
       "      <td>[0.00036]</td>\n",
       "    </tr>\n",
       "    <tr>\n",
       "      <th>2395</th>\n",
       "      <td>β-Zn4Sb3</td>\n",
       "      <td>[573.0]</td>\n",
       "      <td>10.1016-j.jallcom.2014.01.133.xml</td>\n",
       "      <td>no</td>\n",
       "      <td>2014</td>\n",
       "      <td>comma-level</td>\n",
       "      <td>Elsevier</td>\n",
       "      <td>NaN</td>\n",
       "      <td>NaN</td>\n",
       "      <td>NaN</td>\n",
       "      <td>NaN</td>\n",
       "      <td>NaN</td>\n",
       "      <td>[0.000188, 0.000188]</td>\n",
       "    </tr>\n",
       "  </tbody>\n",
       "</table>\n",
       "<p>2396 rows × 13 columns</p>\n",
       "</div>"
      ],
      "text/plain": [
       "                          first_name normalised_temp_values                                doi  oa   yop       parser publisher    editing pressure    process labels direction_of_measurement                     S\n",
       "0                          ( 0 0 l )                [393.0]   10.1016-j.cplett.2013.08.084.xml  no  2013  comma-level  Elsevier        NaN      NaN        NaN    NaN                      NaN            [0.000243]\n",
       "1                          ( 0 0 l )         [493.0, 613.0]  10.1016-j.jallcom.2014.07.018.xml  no  2014  comma-level  Elsevier        NaN      NaN        NaN    NaN                      NaN          [0.00018125]\n",
       "2     ( 0.01 wt % ) of Tl doped PbSe                  [295]   10.1016-j.mtener.2018.06.010.xml  no  2018  comma-level  Elsevier        NaN      NaN        NaN    NaN                      NaN            [8.28e-05]\n",
       "3                         ( 0.5 % Mg                  [295]      10.1016-j.ssc.2013.08.023.xml  no  2013  comma-level  Elsevier        NaN      NaN        NaN    NaN                      NaN            [0.000102]\n",
       "4     ( 1 1 1 )-oriented γ-CuI films                [300.0]  10.1016-j.solener.2020.10.081.xml  no  2020  comma-level  Elsevier        NaN      NaN  deposited    NaN                      NaN             [0.00022]\n",
       "...                              ...                    ...                                ...  ..   ...          ...       ...        ...      ...        ...    ...                      ...                   ...\n",
       "2391                        β-Zn4Sb3                [300.0]            10.1039-c5ta01778e.html  no  2015  comma-level       RSC  Gd doping      NaN        NaN    NaN                      NaN             [4.1e-05]\n",
       "2392                        β-Zn4Sb3                [300.0]          10.1557-JMR.2009.0058.txt  no  2009  comma-level  Springer        NaN      NaN        NaN    NaN                      NaN            [0.000117]\n",
       "2393                        β-Zn4Sb3                [430.0]  10.1016-j.matchar.2009.01.013.xml  no  2009  comma-level  Elsevier        NaN      NaN        NaN    NaN                      NaN           [0.0001275]\n",
       "2394                        β-Zn4Sb3                [573.0]   10.1016-j.apsusc.2013.12.056.xml  no  2014  comma-level  Elsevier        NaN      NaN        NaN    NaN                      NaN             [0.00036]\n",
       "2395                        β-Zn4Sb3                [573.0]  10.1016-j.jallcom.2014.01.133.xml  no  2014  comma-level  Elsevier        NaN      NaN        NaN    NaN                      NaN  [0.000188, 0.000188]\n",
       "\n",
       "[2396 rows x 13 columns]"
      ]
     },
     "execution_count": 672,
     "metadata": {},
     "output_type": "execute_result"
    }
   ],
   "source": [
    "dfs_collect[4]"
   ]
  },
  {
   "cell_type": "markdown",
   "metadata": {},
   "source": [
    "# Aggregate"
   ]
  },
  {
   "cell_type": "code",
   "execution_count": 673,
   "metadata": {},
   "outputs": [],
   "source": [
    "from functools import reduce\n",
    "import math"
   ]
  },
  {
   "cell_type": "code",
   "execution_count": 674,
   "metadata": {},
   "outputs": [],
   "source": [
    "#where the magic happends: Merges the databases in pairs, on common compound, labels, doi, and temperature values\n",
    "#if a value does not exist, it is populated by NaN\n",
    "db = reduce(lambda df_left,df_right: pd.merge(df_left, df_right, how='outer',\n",
    "                                              on=merge_columns), dfs_collect)  # new add open and publisher\n",
    "\n",
    "# NB If there were multiple values, then they are chosen indiscriminantly, addressed this via dfs_collect"
   ]
  },
  {
   "cell_type": "code",
   "execution_count": 675,
   "metadata": {},
   "outputs": [],
   "source": [
    "#db = db['compound_name first_name normalised_temp ZT S s k PF doi'.split()]"
   ]
  },
  {
   "cell_type": "code",
   "execution_count": 676,
   "metadata": {},
   "outputs": [
    {
     "data": {
      "text/plain": [
       "108927"
      ]
     },
     "execution_count": 676,
     "metadata": {},
     "output_type": "execute_result"
    }
   ],
   "source": [
    "#get total number of NaNs\n",
    "model_columns = ['k', 'k_e', 'k_p', 'PF', 'S', 's', 'ZT']\n",
    "def count_nans(df):\n",
    "    return df[model_columns].isnull().sum().sum()\n",
    "\n",
    "count_nans(db)  # this has gone up since adding the k_e and k_p columns... could just get a slice and then count?"
   ]
  },
  {
   "cell_type": "code",
   "execution_count": 677,
   "metadata": {},
   "outputs": [
    {
     "data": {
      "text/html": [
       "<div>\n",
       "<style scoped>\n",
       "    .dataframe tbody tr th:only-of-type {\n",
       "        vertical-align: middle;\n",
       "    }\n",
       "\n",
       "    .dataframe tbody tr th {\n",
       "        vertical-align: top;\n",
       "    }\n",
       "\n",
       "    .dataframe thead th {\n",
       "        text-align: right;\n",
       "    }\n",
       "</style>\n",
       "<table border=\"1\" class=\"dataframe\">\n",
       "  <thead>\n",
       "    <tr style=\"text-align: right;\">\n",
       "      <th></th>\n",
       "      <th>first_name</th>\n",
       "      <th>normalised_temp_values</th>\n",
       "      <th>k</th>\n",
       "      <th>k_e</th>\n",
       "      <th>k_p</th>\n",
       "      <th>PF</th>\n",
       "      <th>S</th>\n",
       "      <th>s</th>\n",
       "      <th>ZT</th>\n",
       "    </tr>\n",
       "  </thead>\n",
       "  <tbody>\n",
       "    <tr>\n",
       "      <th>0</th>\n",
       "      <td>(Bi,Sb)2-xSnxSe3–4xCl4x</td>\n",
       "      <td>[773.0]</td>\n",
       "      <td>[0.475]</td>\n",
       "      <td>NaN</td>\n",
       "      <td>NaN</td>\n",
       "      <td>[0.0004]</td>\n",
       "      <td>NaN</td>\n",
       "      <td>NaN</td>\n",
       "      <td>[0.61]</td>\n",
       "    </tr>\n",
       "    <tr>\n",
       "      <th>1</th>\n",
       "      <td>(BiS)1.2(TiS2)2</td>\n",
       "      <td>[700.0]</td>\n",
       "      <td>[0.3]</td>\n",
       "      <td>NaN</td>\n",
       "      <td>NaN</td>\n",
       "      <td>NaN</td>\n",
       "      <td>NaN</td>\n",
       "      <td>NaN</td>\n",
       "      <td>NaN</td>\n",
       "    </tr>\n",
       "    <tr>\n",
       "      <th>2</th>\n",
       "      <td>(Ce0.2Zr0.2Hf0.2Sn0.2Ti0.2)O2</td>\n",
       "      <td>[295]</td>\n",
       "      <td>[1.28]</td>\n",
       "      <td>NaN</td>\n",
       "      <td>NaN</td>\n",
       "      <td>NaN</td>\n",
       "      <td>NaN</td>\n",
       "      <td>NaN</td>\n",
       "      <td>NaN</td>\n",
       "    </tr>\n",
       "    <tr>\n",
       "      <th>3</th>\n",
       "      <td>(CrSi2)0.90(WSi2)0.10</td>\n",
       "      <td>[300.0]</td>\n",
       "      <td>[4.8]</td>\n",
       "      <td>NaN</td>\n",
       "      <td>NaN</td>\n",
       "      <td>NaN</td>\n",
       "      <td>NaN</td>\n",
       "      <td>NaN</td>\n",
       "      <td>NaN</td>\n",
       "    </tr>\n",
       "    <tr>\n",
       "      <th>4</th>\n",
       "      <td>(Cu0.93Ag0.07)2Se</td>\n",
       "      <td>[773.0]</td>\n",
       "      <td>[0.23]</td>\n",
       "      <td>NaN</td>\n",
       "      <td>NaN</td>\n",
       "      <td>NaN</td>\n",
       "      <td>NaN</td>\n",
       "      <td>[9100.0]</td>\n",
       "      <td>NaN</td>\n",
       "    </tr>\n",
       "    <tr>\n",
       "      <th>...</th>\n",
       "      <td>...</td>\n",
       "      <td>...</td>\n",
       "      <td>...</td>\n",
       "      <td>...</td>\n",
       "      <td>...</td>\n",
       "      <td>...</td>\n",
       "      <td>...</td>\n",
       "      <td>...</td>\n",
       "      <td>...</td>\n",
       "    </tr>\n",
       "    <tr>\n",
       "      <th>18504</th>\n",
       "      <td>β-Zn4Sb3 with 5 vol. % of Cu3SbSe4</td>\n",
       "      <td>[648.0]</td>\n",
       "      <td>NaN</td>\n",
       "      <td>NaN</td>\n",
       "      <td>NaN</td>\n",
       "      <td>NaN</td>\n",
       "      <td>NaN</td>\n",
       "      <td>NaN</td>\n",
       "      <td>[1.37]</td>\n",
       "    </tr>\n",
       "    <tr>\n",
       "      <th>18505</th>\n",
       "      <td>β-Zn4Sb3-based materials</td>\n",
       "      <td>[673.0]</td>\n",
       "      <td>NaN</td>\n",
       "      <td>NaN</td>\n",
       "      <td>NaN</td>\n",
       "      <td>NaN</td>\n",
       "      <td>NaN</td>\n",
       "      <td>NaN</td>\n",
       "      <td>[1.3]</td>\n",
       "    </tr>\n",
       "    <tr>\n",
       "      <th>18506</th>\n",
       "      <td>γ-Cu2S</td>\n",
       "      <td>[500.0]</td>\n",
       "      <td>NaN</td>\n",
       "      <td>NaN</td>\n",
       "      <td>NaN</td>\n",
       "      <td>NaN</td>\n",
       "      <td>NaN</td>\n",
       "      <td>NaN</td>\n",
       "      <td>[1.2]</td>\n",
       "    </tr>\n",
       "    <tr>\n",
       "      <th>18507</th>\n",
       "      <td>γ-La3–δS4</td>\n",
       "      <td>[1000.0]</td>\n",
       "      <td>NaN</td>\n",
       "      <td>NaN</td>\n",
       "      <td>NaN</td>\n",
       "      <td>NaN</td>\n",
       "      <td>NaN</td>\n",
       "      <td>NaN</td>\n",
       "      <td>[0.33]</td>\n",
       "    </tr>\n",
       "    <tr>\n",
       "      <th>18508</th>\n",
       "      <td>δ-Ti–Ru–B</td>\n",
       "      <td>[773.0]</td>\n",
       "      <td>NaN</td>\n",
       "      <td>NaN</td>\n",
       "      <td>NaN</td>\n",
       "      <td>NaN</td>\n",
       "      <td>NaN</td>\n",
       "      <td>NaN</td>\n",
       "      <td>[0.008, 0.008]</td>\n",
       "    </tr>\n",
       "  </tbody>\n",
       "</table>\n",
       "<p>18509 rows × 9 columns</p>\n",
       "</div>"
      ],
      "text/plain": [
       "                               first_name normalised_temp_values        k  k_e  k_p        PF    S         s              ZT\n",
       "0                 (Bi,Sb)2-xSnxSe3–4xCl4x                [773.0]  [0.475]  NaN  NaN  [0.0004]  NaN       NaN          [0.61]\n",
       "1                         (BiS)1.2(TiS2)2                [700.0]    [0.3]  NaN  NaN       NaN  NaN       NaN             NaN\n",
       "2           (Ce0.2Zr0.2Hf0.2Sn0.2Ti0.2)O2                  [295]   [1.28]  NaN  NaN       NaN  NaN       NaN             NaN\n",
       "3                   (CrSi2)0.90(WSi2)0.10                [300.0]    [4.8]  NaN  NaN       NaN  NaN       NaN             NaN\n",
       "4                       (Cu0.93Ag0.07)2Se                [773.0]   [0.23]  NaN  NaN       NaN  NaN  [9100.0]             NaN\n",
       "...                                   ...                    ...      ...  ...  ...       ...  ...       ...             ...\n",
       "18504  β-Zn4Sb3 with 5 vol. % of Cu3SbSe4                [648.0]      NaN  NaN  NaN       NaN  NaN       NaN          [1.37]\n",
       "18505            β-Zn4Sb3-based materials                [673.0]      NaN  NaN  NaN       NaN  NaN       NaN           [1.3]\n",
       "18506                              γ-Cu2S                [500.0]      NaN  NaN  NaN       NaN  NaN       NaN           [1.2]\n",
       "18507                           γ-La3–δS4               [1000.0]      NaN  NaN  NaN       NaN  NaN       NaN          [0.33]\n",
       "18508                           δ-Ti–Ru–B                [773.0]      NaN  NaN  NaN       NaN  NaN       NaN  [0.008, 0.008]\n",
       "\n",
       "[18509 rows x 9 columns]"
      ]
     },
     "execution_count": 677,
     "metadata": {},
     "output_type": "execute_result"
    }
   ],
   "source": [
    "db[['first_name', 'normalised_temp_values', 'k', 'k_e', 'k_p', 'PF', 'S', 's', 'ZT']]"
   ]
  },
  {
   "cell_type": "code",
   "execution_count": 678,
   "metadata": {},
   "outputs": [
    {
     "name": "stdout",
     "output_type": "stream",
     "text": [
      "20636\n"
     ]
    },
    {
     "data": {
      "text/plain": [
       "20636"
      ]
     },
     "execution_count": 678,
     "metadata": {},
     "output_type": "execute_result"
    }
   ],
   "source": [
    "length = 0\n",
    "for dfc in dfs_collect:\n",
    "    length += len(dfc)\n",
    "print(length)\n",
    "\n",
    "# sanity check two numbers must agree (the rows before aggregate, and the non nan entries in the aggregate db)\n",
    "db[model_columns].size - count_nans(db)\n",
    "# db[model_columns].notna().sum().sum()  # otherwise"
   ]
  },
  {
   "cell_type": "code",
   "execution_count": 679,
   "metadata": {},
   "outputs": [
    {
     "name": "stdout",
     "output_type": "stream",
     "text": [
      "False\n",
      "True\n"
     ]
    }
   ],
   "source": [
    "print(np.nan == np.nan)\n",
    "print(np.nan is np.nan)"
   ]
  },
  {
   "cell_type": "code",
   "execution_count": 680,
   "metadata": {},
   "outputs": [],
   "source": [
    "def count_quantities(df):\n",
    "    c=0\n",
    "    if has(df.ZT):\n",
    "        c+=1\n",
    "    if has(df.S):\n",
    "        c+=1\n",
    "    if has(df.s):\n",
    "        c+=1\n",
    "    if has(df.k):  # ignoring k_e and k_p. Or should count as 1?\n",
    "        c+=1\n",
    "    if has(df.PF):\n",
    "        c+=1\n",
    "    return c"
   ]
  },
  {
   "cell_type": "code",
   "execution_count": 681,
   "metadata": {},
   "outputs": [],
   "source": [
    "db['counts'] = db[\"ZT S s k PF\".split()].apply(count_quantities, axis=1)"
   ]
  },
  {
   "cell_type": "code",
   "execution_count": 682,
   "metadata": {},
   "outputs": [
    {
     "data": {
      "text/plain": [
       "1    16140\n",
       "2     1187\n",
       "0      931\n",
       "3      210\n",
       "4       38\n",
       "5        3\n",
       "Name: counts, dtype: int64"
      ]
     },
     "execution_count": 682,
     "metadata": {},
     "output_type": "execute_result"
    }
   ],
   "source": [
    "db.counts.value_counts()\n",
    "#note: count is a column I made, value_counts is a standard function"
   ]
  },
  {
   "cell_type": "code",
   "execution_count": 683,
   "metadata": {},
   "outputs": [
    {
     "data": {
      "text/plain": [
       "14                  [0.000141]\n",
       "50    [-9.999999999999999e-05]\n",
       "54                   [2.9e-05]\n",
       "63                    [0.0003]\n",
       "66                 [0.0001787]\n",
       "Name: S, dtype: object"
      ]
     },
     "execution_count": 683,
     "metadata": {},
     "output_type": "execute_result"
    }
   ],
   "source": [
    "db[db.S.notna()].S.head()"
   ]
  },
  {
   "cell_type": "code",
   "execution_count": 684,
   "metadata": {},
   "outputs": [],
   "source": [
    "#square seebeck\n",
    "# db.S = db.S.apply(lambda x: (x**2.0))\n",
    "db.S = db.S.apply(lambda l: [x**2.0 for x in l] if (l is not np.nan) else np.nan)"
   ]
  },
  {
   "cell_type": "code",
   "execution_count": 685,
   "metadata": {},
   "outputs": [
    {
     "data": {
      "text/plain": [
       "14    [1.9881000000000004e-08]\n",
       "50     [9.999999999999999e-09]\n",
       "54                  [8.41e-10]\n",
       "63     [8.999999999999999e-08]\n",
       "66              [3.193369e-08]\n",
       "Name: S, dtype: object"
      ]
     },
     "execution_count": 685,
     "metadata": {},
     "output_type": "execute_result"
    }
   ],
   "source": [
    "# make sure stuff have been squared (no negative values ofc)\n",
    "db[db.S.notna()].S.head()"
   ]
  },
  {
   "cell_type": "code",
   "execution_count": 686,
   "metadata": {},
   "outputs": [],
   "source": [
    "#rename seebeck column\n",
    "db = db.rename({'S': 'S_2'},axis=1)"
   ]
  },
  {
   "cell_type": "code",
   "execution_count": 687,
   "metadata": {},
   "outputs": [],
   "source": [
    "# SAVE STATE\n",
    "db_aggregate_backup_with_collection = db.copy()"
   ]
  },
  {
   "cell_type": "code",
   "execution_count": null,
   "metadata": {},
   "outputs": [],
   "source": []
  },
  {
   "cell_type": "code",
   "execution_count": 688,
   "metadata": {
    "scrolled": false
   },
   "outputs": [
    {
     "data": {
      "text/html": [
       "<div>\n",
       "<style scoped>\n",
       "    .dataframe tbody tr th:only-of-type {\n",
       "        vertical-align: middle;\n",
       "    }\n",
       "\n",
       "    .dataframe tbody tr th {\n",
       "        vertical-align: top;\n",
       "    }\n",
       "\n",
       "    .dataframe thead th {\n",
       "        text-align: right;\n",
       "    }\n",
       "</style>\n",
       "<table border=\"1\" class=\"dataframe\">\n",
       "  <thead>\n",
       "    <tr style=\"text-align: right;\">\n",
       "      <th></th>\n",
       "      <th>first_name</th>\n",
       "      <th>normalised_temp_values</th>\n",
       "      <th>doi</th>\n",
       "      <th>oa</th>\n",
       "      <th>yop</th>\n",
       "      <th>parser</th>\n",
       "      <th>publisher</th>\n",
       "      <th>editing</th>\n",
       "      <th>pressure</th>\n",
       "      <th>process</th>\n",
       "      <th>labels</th>\n",
       "      <th>direction_of_measurement</th>\n",
       "      <th>k</th>\n",
       "      <th>k_e</th>\n",
       "      <th>k_p</th>\n",
       "      <th>PF</th>\n",
       "      <th>S_2</th>\n",
       "      <th>s</th>\n",
       "      <th>ZT</th>\n",
       "      <th>counts</th>\n",
       "    </tr>\n",
       "  </thead>\n",
       "  <tbody>\n",
       "    <tr>\n",
       "      <th>0</th>\n",
       "      <td>(Bi,Sb)2-xSnxSe3–4xCl4x</td>\n",
       "      <td>[773.0]</td>\n",
       "      <td>10.1016-j.mssp.2019.01.021.xml</td>\n",
       "      <td>no</td>\n",
       "      <td>2019</td>\n",
       "      <td>comma-level</td>\n",
       "      <td>Elsevier</td>\n",
       "      <td>NaN</td>\n",
       "      <td>NaN</td>\n",
       "      <td>NaN</td>\n",
       "      <td>NaN</td>\n",
       "      <td>NaN</td>\n",
       "      <td>[0.475]</td>\n",
       "      <td>NaN</td>\n",
       "      <td>NaN</td>\n",
       "      <td>[0.0004]</td>\n",
       "      <td>NaN</td>\n",
       "      <td>NaN</td>\n",
       "      <td>[0.61]</td>\n",
       "      <td>3</td>\n",
       "    </tr>\n",
       "    <tr>\n",
       "      <th>1</th>\n",
       "      <td>(BiS)1.2(TiS2)2</td>\n",
       "      <td>[700.0]</td>\n",
       "      <td>10.1016-j.rser.2018.10.006.xml</td>\n",
       "      <td>no</td>\n",
       "      <td>2019</td>\n",
       "      <td>comma-level</td>\n",
       "      <td>Elsevier</td>\n",
       "      <td>NaN</td>\n",
       "      <td>NaN</td>\n",
       "      <td>NaN</td>\n",
       "      <td>NaN</td>\n",
       "      <td>NaN</td>\n",
       "      <td>[0.3]</td>\n",
       "      <td>NaN</td>\n",
       "      <td>NaN</td>\n",
       "      <td>NaN</td>\n",
       "      <td>NaN</td>\n",
       "      <td>NaN</td>\n",
       "      <td>NaN</td>\n",
       "      <td>1</td>\n",
       "    </tr>\n",
       "    <tr>\n",
       "      <th>2</th>\n",
       "      <td>(Ce0.2Zr0.2Hf0.2Sn0.2Ti0.2)O2</td>\n",
       "      <td>[295]</td>\n",
       "      <td>10.1039-c9ta05698j.html</td>\n",
       "      <td>yes</td>\n",
       "      <td>2019</td>\n",
       "      <td>comma-level</td>\n",
       "      <td>RSC</td>\n",
       "      <td>NaN</td>\n",
       "      <td>NaN</td>\n",
       "      <td>NaN</td>\n",
       "      <td>NaN</td>\n",
       "      <td>NaN</td>\n",
       "      <td>[1.28]</td>\n",
       "      <td>NaN</td>\n",
       "      <td>NaN</td>\n",
       "      <td>NaN</td>\n",
       "      <td>NaN</td>\n",
       "      <td>NaN</td>\n",
       "      <td>NaN</td>\n",
       "      <td>1</td>\n",
       "    </tr>\n",
       "    <tr>\n",
       "      <th>3</th>\n",
       "      <td>(CrSi2)0.90(WSi2)0.10</td>\n",
       "      <td>[300.0]</td>\n",
       "      <td>10.1016-j.jallcom.2016.08.185.xml</td>\n",
       "      <td>no</td>\n",
       "      <td>2017</td>\n",
       "      <td>comma-level</td>\n",
       "      <td>Elsevier</td>\n",
       "      <td>WSi2 addition</td>\n",
       "      <td>NaN</td>\n",
       "      <td>sintered</td>\n",
       "      <td>NaN</td>\n",
       "      <td>NaN</td>\n",
       "      <td>[4.8]</td>\n",
       "      <td>NaN</td>\n",
       "      <td>NaN</td>\n",
       "      <td>NaN</td>\n",
       "      <td>NaN</td>\n",
       "      <td>NaN</td>\n",
       "      <td>NaN</td>\n",
       "      <td>1</td>\n",
       "    </tr>\n",
       "    <tr>\n",
       "      <th>4</th>\n",
       "      <td>(Cu0.93Ag0.07)2Se</td>\n",
       "      <td>[773.0]</td>\n",
       "      <td>10.1016-j.susmat.2018.e00076.xml</td>\n",
       "      <td>no</td>\n",
       "      <td>2018</td>\n",
       "      <td>comma-level</td>\n",
       "      <td>Elsevier</td>\n",
       "      <td>NaN</td>\n",
       "      <td>NaN</td>\n",
       "      <td>NaN</td>\n",
       "      <td>NaN</td>\n",
       "      <td>NaN</td>\n",
       "      <td>[0.23]</td>\n",
       "      <td>NaN</td>\n",
       "      <td>NaN</td>\n",
       "      <td>NaN</td>\n",
       "      <td>NaN</td>\n",
       "      <td>[9100.0]</td>\n",
       "      <td>NaN</td>\n",
       "      <td>2</td>\n",
       "    </tr>\n",
       "  </tbody>\n",
       "</table>\n",
       "</div>"
      ],
      "text/plain": [
       "                      first_name normalised_temp_values                                doi   oa   yop       parser publisher        editing pressure   process labels direction_of_measurement        k  k_e  k_p        PF  S_2         s      ZT  counts\n",
       "0        (Bi,Sb)2-xSnxSe3–4xCl4x                [773.0]     10.1016-j.mssp.2019.01.021.xml   no  2019  comma-level  Elsevier            NaN      NaN       NaN    NaN                      NaN  [0.475]  NaN  NaN  [0.0004]  NaN       NaN  [0.61]       3\n",
       "1                (BiS)1.2(TiS2)2                [700.0]     10.1016-j.rser.2018.10.006.xml   no  2019  comma-level  Elsevier            NaN      NaN       NaN    NaN                      NaN    [0.3]  NaN  NaN       NaN  NaN       NaN     NaN       1\n",
       "2  (Ce0.2Zr0.2Hf0.2Sn0.2Ti0.2)O2                  [295]            10.1039-c9ta05698j.html  yes  2019  comma-level       RSC            NaN      NaN       NaN    NaN                      NaN   [1.28]  NaN  NaN       NaN  NaN       NaN     NaN       1\n",
       "3          (CrSi2)0.90(WSi2)0.10                [300.0]  10.1016-j.jallcom.2016.08.185.xml   no  2017  comma-level  Elsevier  WSi2 addition      NaN  sintered    NaN                      NaN    [4.8]  NaN  NaN       NaN  NaN       NaN     NaN       1\n",
       "4              (Cu0.93Ag0.07)2Se                [773.0]   10.1016-j.susmat.2018.e00076.xml   no  2018  comma-level  Elsevier            NaN      NaN       NaN    NaN                      NaN   [0.23]  NaN  NaN       NaN  NaN  [9100.0]     NaN       2"
      ]
     },
     "execution_count": 688,
     "metadata": {},
     "output_type": "execute_result"
    }
   ],
   "source": [
    "db.head()"
   ]
  },
  {
   "cell_type": "code",
   "execution_count": 689,
   "metadata": {},
   "outputs": [
    {
     "data": {
      "text/plain": [
       "Index(['first_name', 'normalised_temp_values', 'doi', 'oa', 'yop', 'parser', 'publisher', 'editing', 'pressure', 'process', 'labels', 'direction_of_measurement', 'k', 'k_e', 'k_p', 'PF', 'S_2', 's', 'ZT', 'counts'], dtype='object')"
      ]
     },
     "execution_count": 689,
     "metadata": {},
     "output_type": "execute_result"
    }
   ],
   "source": [
    "db.columns"
   ]
  },
  {
   "cell_type": "code",
   "execution_count": 690,
   "metadata": {},
   "outputs": [],
   "source": [
    "# these two cells no longer make sense, since we are keeping all values for each entry\n",
    "# db[db.duplicated()]"
   ]
  },
  {
   "cell_type": "code",
   "execution_count": 569,
   "metadata": {},
   "outputs": [],
   "source": [
    "# print(db.shape)\n",
    "# db.drop_duplicates(inplace=True)\n",
    "# print(db.shape)"
   ]
  },
  {
   "cell_type": "code",
   "execution_count": 691,
   "metadata": {},
   "outputs": [],
   "source": [
    "db = db[['first_name', 'normalised_temp_values',\n",
    "    'ZT', 'PF', 'S_2', 's', 'k', 'k_e', 'k_p',\n",
    "    'counts','parser', 'doi', 'publisher', 'oa', 'yop',\n",
    "    'editing', 'pressure', 'process', 'labels', 'direction_of_measurement']].copy()  # set order. Maybe should sort as well?"
   ]
  },
  {
   "cell_type": "code",
   "execution_count": 692,
   "metadata": {},
   "outputs": [
    {
     "name": "stdout",
     "output_type": "stream",
     "text": [
      "normalised_temp_values\n",
      "<class 'str'>    18509\n",
      "Name: normalised_temp_values, dtype: int64\n",
      "\n",
      "ZT\n",
      "<class 'list'>     10164\n",
      "<class 'float'>     8345\n",
      "Name: ZT, dtype: int64\n",
      "\n",
      "PF\n",
      "<class 'float'>    16507\n",
      "<class 'list'>      2002\n",
      "Name: PF, dtype: int64\n",
      "\n",
      "S_2\n",
      "<class 'float'>    16113\n",
      "<class 'list'>      2396\n",
      "Name: S_2, dtype: int64\n",
      "\n",
      "s\n",
      "<class 'float'>    15902\n",
      "<class 'list'>      2607\n",
      "Name: s, dtype: int64\n",
      "\n",
      "k\n",
      "<class 'float'>    16367\n",
      "<class 'list'>      2142\n",
      "Name: k, dtype: int64\n",
      "\n",
      "k_e\n",
      "<class 'float'>    18435\n",
      "<class 'list'>        74\n",
      "Name: k_e, dtype: int64\n",
      "\n",
      "k_p\n",
      "<class 'float'>    17258\n",
      "<class 'list'>      1251\n",
      "Name: k_p, dtype: int64\n",
      "\n"
     ]
    }
   ],
   "source": [
    "# check\n",
    "for c in 'normalised_temp_values', 'ZT', 'PF', 'S_2', 's', 'k', 'k_e', 'k_p':\n",
    "    print(c)\n",
    "    print(db[c].apply(type).value_counts())\n",
    "    print()\n",
    "        "
   ]
  },
  {
   "cell_type": "code",
   "execution_count": 693,
   "metadata": {},
   "outputs": [],
   "source": [
    "db.normalised_temp_values = db.normalised_temp_values.apply(make_number_list2).copy()"
   ]
  },
  {
   "cell_type": "code",
   "execution_count": 694,
   "metadata": {},
   "outputs": [
    {
     "name": "stdout",
     "output_type": "stream",
     "text": [
      "created excel file\n",
      "created pickle file\n"
     ]
    }
   ],
   "source": [
    "# full aggregate database, with duplicates removed \n",
    "excel_file = os.path.join(out_path, out_prefix + 'polished_aggregate_database.xlsx')\n",
    "pickle_dir = os.path.join(out_path, \"PICKLES\")\n",
    "pickle_file = os.path.join(pickle_dir, out_prefix + 'polished_aggregate_database.pkl')\n",
    "\n",
    "if not os.path.exists(excel_file):\n",
    "    db.to_excel(excel_file, index=False)\n",
    "    print('created excel file')\n",
    "else:\n",
    "    print('excel file exists already!')\n",
    "    \n",
    "if not os.path.isdir(pickle_dir):\n",
    "    os.mkdir(pickle_dir)\n",
    "    print(\"(created pickle subdirectory)\")\n",
    "    \n",
    "if not os.path.exists(pickle_file):\n",
    "    db.to_pickle(pickle_file)\n",
    "    print('created pickle file')\n",
    "else:\n",
    "    print('pickle file exists already!')"
   ]
  },
  {
   "cell_type": "code",
   "execution_count": 695,
   "metadata": {},
   "outputs": [
    {
     "data": {
      "text/html": [
       "<div>\n",
       "<style scoped>\n",
       "    .dataframe tbody tr th:only-of-type {\n",
       "        vertical-align: middle;\n",
       "    }\n",
       "\n",
       "    .dataframe tbody tr th {\n",
       "        vertical-align: top;\n",
       "    }\n",
       "\n",
       "    .dataframe thead th {\n",
       "        text-align: right;\n",
       "    }\n",
       "</style>\n",
       "<table border=\"1\" class=\"dataframe\">\n",
       "  <thead>\n",
       "    <tr style=\"text-align: right;\">\n",
       "      <th></th>\n",
       "      <th>first_name</th>\n",
       "      <th>normalised_temp_values</th>\n",
       "      <th>ZT</th>\n",
       "      <th>PF</th>\n",
       "      <th>S_2</th>\n",
       "      <th>s</th>\n",
       "      <th>k</th>\n",
       "      <th>k_e</th>\n",
       "      <th>k_p</th>\n",
       "      <th>counts</th>\n",
       "      <th>parser</th>\n",
       "      <th>doi</th>\n",
       "      <th>publisher</th>\n",
       "      <th>oa</th>\n",
       "      <th>yop</th>\n",
       "      <th>editing</th>\n",
       "      <th>pressure</th>\n",
       "      <th>process</th>\n",
       "      <th>labels</th>\n",
       "      <th>direction_of_measurement</th>\n",
       "    </tr>\n",
       "  </thead>\n",
       "  <tbody>\n",
       "    <tr>\n",
       "      <th>0</th>\n",
       "      <td>(Bi,Sb)2-xSnxSe3–4xCl4x</td>\n",
       "      <td>[773.0]</td>\n",
       "      <td>[0.61]</td>\n",
       "      <td>[0.0004]</td>\n",
       "      <td>NaN</td>\n",
       "      <td>NaN</td>\n",
       "      <td>[0.475]</td>\n",
       "      <td>NaN</td>\n",
       "      <td>NaN</td>\n",
       "      <td>3</td>\n",
       "      <td>comma-level</td>\n",
       "      <td>10.1016-j.mssp.2019.01.021.xml</td>\n",
       "      <td>Elsevier</td>\n",
       "      <td>no</td>\n",
       "      <td>2019</td>\n",
       "      <td>NaN</td>\n",
       "      <td>NaN</td>\n",
       "      <td>NaN</td>\n",
       "      <td>NaN</td>\n",
       "      <td>NaN</td>\n",
       "    </tr>\n",
       "    <tr>\n",
       "      <th>1</th>\n",
       "      <td>(BiS)1.2(TiS2)2</td>\n",
       "      <td>[700.0]</td>\n",
       "      <td>NaN</td>\n",
       "      <td>NaN</td>\n",
       "      <td>NaN</td>\n",
       "      <td>NaN</td>\n",
       "      <td>[0.3]</td>\n",
       "      <td>NaN</td>\n",
       "      <td>NaN</td>\n",
       "      <td>1</td>\n",
       "      <td>comma-level</td>\n",
       "      <td>10.1016-j.rser.2018.10.006.xml</td>\n",
       "      <td>Elsevier</td>\n",
       "      <td>no</td>\n",
       "      <td>2019</td>\n",
       "      <td>NaN</td>\n",
       "      <td>NaN</td>\n",
       "      <td>NaN</td>\n",
       "      <td>NaN</td>\n",
       "      <td>NaN</td>\n",
       "    </tr>\n",
       "    <tr>\n",
       "      <th>2</th>\n",
       "      <td>(Ce0.2Zr0.2Hf0.2Sn0.2Ti0.2)O2</td>\n",
       "      <td>[295.0]</td>\n",
       "      <td>NaN</td>\n",
       "      <td>NaN</td>\n",
       "      <td>NaN</td>\n",
       "      <td>NaN</td>\n",
       "      <td>[1.28]</td>\n",
       "      <td>NaN</td>\n",
       "      <td>NaN</td>\n",
       "      <td>1</td>\n",
       "      <td>comma-level</td>\n",
       "      <td>10.1039-c9ta05698j.html</td>\n",
       "      <td>RSC</td>\n",
       "      <td>yes</td>\n",
       "      <td>2019</td>\n",
       "      <td>NaN</td>\n",
       "      <td>NaN</td>\n",
       "      <td>NaN</td>\n",
       "      <td>NaN</td>\n",
       "      <td>NaN</td>\n",
       "    </tr>\n",
       "    <tr>\n",
       "      <th>3</th>\n",
       "      <td>(CrSi2)0.90(WSi2)0.10</td>\n",
       "      <td>[300.0]</td>\n",
       "      <td>NaN</td>\n",
       "      <td>NaN</td>\n",
       "      <td>NaN</td>\n",
       "      <td>NaN</td>\n",
       "      <td>[4.8]</td>\n",
       "      <td>NaN</td>\n",
       "      <td>NaN</td>\n",
       "      <td>1</td>\n",
       "      <td>comma-level</td>\n",
       "      <td>10.1016-j.jallcom.2016.08.185.xml</td>\n",
       "      <td>Elsevier</td>\n",
       "      <td>no</td>\n",
       "      <td>2017</td>\n",
       "      <td>WSi2 addition</td>\n",
       "      <td>NaN</td>\n",
       "      <td>sintered</td>\n",
       "      <td>NaN</td>\n",
       "      <td>NaN</td>\n",
       "    </tr>\n",
       "    <tr>\n",
       "      <th>4</th>\n",
       "      <td>(Cu0.93Ag0.07)2Se</td>\n",
       "      <td>[773.0]</td>\n",
       "      <td>NaN</td>\n",
       "      <td>NaN</td>\n",
       "      <td>NaN</td>\n",
       "      <td>[9100.0]</td>\n",
       "      <td>[0.23]</td>\n",
       "      <td>NaN</td>\n",
       "      <td>NaN</td>\n",
       "      <td>2</td>\n",
       "      <td>comma-level</td>\n",
       "      <td>10.1016-j.susmat.2018.e00076.xml</td>\n",
       "      <td>Elsevier</td>\n",
       "      <td>no</td>\n",
       "      <td>2018</td>\n",
       "      <td>NaN</td>\n",
       "      <td>NaN</td>\n",
       "      <td>NaN</td>\n",
       "      <td>NaN</td>\n",
       "      <td>NaN</td>\n",
       "    </tr>\n",
       "  </tbody>\n",
       "</table>\n",
       "</div>"
      ],
      "text/plain": [
       "                      first_name normalised_temp_values      ZT        PF  S_2         s        k  k_e  k_p  counts       parser                                doi publisher   oa   yop        editing pressure   process labels direction_of_measurement\n",
       "0        (Bi,Sb)2-xSnxSe3–4xCl4x                [773.0]  [0.61]  [0.0004]  NaN       NaN  [0.475]  NaN  NaN       3  comma-level     10.1016-j.mssp.2019.01.021.xml  Elsevier   no  2019            NaN      NaN       NaN    NaN                      NaN\n",
       "1                (BiS)1.2(TiS2)2                [700.0]     NaN       NaN  NaN       NaN    [0.3]  NaN  NaN       1  comma-level     10.1016-j.rser.2018.10.006.xml  Elsevier   no  2019            NaN      NaN       NaN    NaN                      NaN\n",
       "2  (Ce0.2Zr0.2Hf0.2Sn0.2Ti0.2)O2                [295.0]     NaN       NaN  NaN       NaN   [1.28]  NaN  NaN       1  comma-level            10.1039-c9ta05698j.html       RSC  yes  2019            NaN      NaN       NaN    NaN                      NaN\n",
       "3          (CrSi2)0.90(WSi2)0.10                [300.0]     NaN       NaN  NaN       NaN    [4.8]  NaN  NaN       1  comma-level  10.1016-j.jallcom.2016.08.185.xml  Elsevier   no  2017  WSi2 addition      NaN  sintered    NaN                      NaN\n",
       "4              (Cu0.93Ag0.07)2Se                [773.0]     NaN       NaN  NaN  [9100.0]   [0.23]  NaN  NaN       2  comma-level   10.1016-j.susmat.2018.e00076.xml  Elsevier   no  2018            NaN      NaN       NaN    NaN                      NaN"
      ]
     },
     "execution_count": 695,
     "metadata": {},
     "output_type": "execute_result"
    }
   ],
   "source": [
    "db.head()"
   ]
  },
  {
   "cell_type": "code",
   "execution_count": 696,
   "metadata": {},
   "outputs": [
    {
     "data": {
      "text/plain": [
       "0    16367\n",
       "1     2047\n",
       "2       79\n",
       "3       14\n",
       "4        2\n",
       "Name: k, dtype: int64"
      ]
     },
     "execution_count": 696,
     "metadata": {},
     "output_type": "execute_result"
    }
   ],
   "source": [
    "db.k.apply(lambda l: len(l) if l is not np.nan else 0).value_counts()"
   ]
  },
  {
   "cell_type": "markdown",
   "metadata": {},
   "source": [
    "### Keep single values for comparison and inference. (avg)"
   ]
  },
  {
   "cell_type": "code",
   "execution_count": 697,
   "metadata": {},
   "outputs": [],
   "source": [
    "# now gotta chose a way to have only unique values to make comparison. mode, avg? just skip multiples?"
   ]
  },
  {
   "cell_type": "code",
   "execution_count": 698,
   "metadata": {},
   "outputs": [],
   "source": [
    "def get_mode(l):\n",
    "    if isinstance(l, list):\n",
    "        try:\n",
    "            return mode(l)\n",
    "        except StatisticsError:\n",
    "            pass\n",
    "    return l"
   ]
  },
  {
   "cell_type": "code",
   "execution_count": 699,
   "metadata": {},
   "outputs": [],
   "source": [
    "# get averages of values (which are already averages) to perform comparison. It's simple and somewhat reasonable\n",
    "\n",
    "# to clarify: some extractions get a range, which has been averaged\n",
    "# then we got those averages, and where the merged columns agreed, added them into single entries, as part of a list\n",
    "# i.e. we collected different extractions with diff avg values, for the same things, and added them into a list\n",
    "# and now we get the average of that list"
   ]
  },
  {
   "cell_type": "code",
   "execution_count": 700,
   "metadata": {},
   "outputs": [],
   "source": [
    "# SAVE STATE\n",
    "db_aggregate_bkp = db.copy()"
   ]
  },
  {
   "cell_type": "code",
   "execution_count": 701,
   "metadata": {},
   "outputs": [],
   "source": [
    "# RELOAD spot\n",
    "# db = db_aggregate_bkp.copy()"
   ]
  },
  {
   "cell_type": "code",
   "execution_count": 702,
   "metadata": {},
   "outputs": [],
   "source": [
    "db_avg = db.copy()"
   ]
  },
  {
   "cell_type": "code",
   "execution_count": 703,
   "metadata": {},
   "outputs": [],
   "source": [
    "import statistics"
   ]
  },
  {
   "cell_type": "code",
   "execution_count": 704,
   "metadata": {},
   "outputs": [
    {
     "data": {
      "text/html": [
       "<div>\n",
       "<style scoped>\n",
       "    .dataframe tbody tr th:only-of-type {\n",
       "        vertical-align: middle;\n",
       "    }\n",
       "\n",
       "    .dataframe tbody tr th {\n",
       "        vertical-align: top;\n",
       "    }\n",
       "\n",
       "    .dataframe thead th {\n",
       "        text-align: right;\n",
       "    }\n",
       "</style>\n",
       "<table border=\"1\" class=\"dataframe\">\n",
       "  <thead>\n",
       "    <tr style=\"text-align: right;\">\n",
       "      <th></th>\n",
       "      <th>first_name</th>\n",
       "      <th>normalised_temp_values</th>\n",
       "      <th>ZT</th>\n",
       "      <th>PF</th>\n",
       "      <th>S_2</th>\n",
       "      <th>s</th>\n",
       "      <th>k</th>\n",
       "      <th>k_e</th>\n",
       "      <th>k_p</th>\n",
       "      <th>counts</th>\n",
       "      <th>parser</th>\n",
       "      <th>doi</th>\n",
       "      <th>publisher</th>\n",
       "      <th>oa</th>\n",
       "      <th>yop</th>\n",
       "      <th>editing</th>\n",
       "      <th>pressure</th>\n",
       "      <th>process</th>\n",
       "      <th>labels</th>\n",
       "      <th>direction_of_measurement</th>\n",
       "    </tr>\n",
       "  </thead>\n",
       "  <tbody>\n",
       "    <tr>\n",
       "      <th>0</th>\n",
       "      <td>(Bi,Sb)2-xSnxSe3–4xCl4x</td>\n",
       "      <td>[773.0]</td>\n",
       "      <td>[0.61]</td>\n",
       "      <td>[0.0004]</td>\n",
       "      <td>NaN</td>\n",
       "      <td>NaN</td>\n",
       "      <td>[0.475]</td>\n",
       "      <td>NaN</td>\n",
       "      <td>NaN</td>\n",
       "      <td>3</td>\n",
       "      <td>comma-level</td>\n",
       "      <td>10.1016-j.mssp.2019.01.021.xml</td>\n",
       "      <td>Elsevier</td>\n",
       "      <td>no</td>\n",
       "      <td>2019</td>\n",
       "      <td>NaN</td>\n",
       "      <td>NaN</td>\n",
       "      <td>NaN</td>\n",
       "      <td>NaN</td>\n",
       "      <td>NaN</td>\n",
       "    </tr>\n",
       "  </tbody>\n",
       "</table>\n",
       "</div>"
      ],
      "text/plain": [
       "                first_name normalised_temp_values      ZT        PF  S_2    s        k  k_e  k_p  counts       parser                             doi publisher  oa   yop editing pressure process labels direction_of_measurement\n",
       "0  (Bi,Sb)2-xSnxSe3–4xCl4x                [773.0]  [0.61]  [0.0004]  NaN  NaN  [0.475]  NaN  NaN       3  comma-level  10.1016-j.mssp.2019.01.021.xml  Elsevier  no  2019     NaN      NaN     NaN    NaN                      NaN"
      ]
     },
     "execution_count": 704,
     "metadata": {},
     "output_type": "execute_result"
    }
   ],
   "source": [
    "db_avg.head(1)"
   ]
  },
  {
   "cell_type": "code",
   "execution_count": 705,
   "metadata": {},
   "outputs": [],
   "source": [
    "mod_names = \"ZT PF k S_2 s k_e k_p\".split()  # do it for temp as well?"
   ]
  },
  {
   "cell_type": "code",
   "execution_count": 706,
   "metadata": {},
   "outputs": [],
   "source": [
    "for m in mod_names + [\"normalised_temp_values\"]:\n",
    "    db_avg[m] = db_avg[m].apply(lambda l: statistics.mean(l) if isinstance(l, list) else np.nan)\n",
    "    "
   ]
  },
  {
   "cell_type": "code",
   "execution_count": 707,
   "metadata": {},
   "outputs": [
    {
     "data": {
      "text/plain": [
       "0        <class 'float'>\n",
       "1        <class 'float'>\n",
       "2        <class 'float'>\n",
       "3        <class 'float'>\n",
       "4        <class 'float'>\n",
       "              ...       \n",
       "18504    <class 'float'>\n",
       "18505    <class 'float'>\n",
       "18506    <class 'float'>\n",
       "18507    <class 'float'>\n",
       "18508    <class 'float'>\n",
       "Name: normalised_temp_values, Length: 18509, dtype: object"
      ]
     },
     "execution_count": 707,
     "metadata": {},
     "output_type": "execute_result"
    }
   ],
   "source": [
    "db_avg.normalised_temp_values.apply(type)"
   ]
  },
  {
   "cell_type": "code",
   "execution_count": 708,
   "metadata": {},
   "outputs": [
    {
     "data": {
      "text/plain": [
       "ZT     10164\n",
       "PF      2002\n",
       "k       2142\n",
       "S_2     2396\n",
       "s       2607\n",
       "k_e       74\n",
       "k_p     1251\n",
       "dtype: int64"
      ]
     },
     "execution_count": 708,
     "metadata": {},
     "output_type": "execute_result"
    }
   ],
   "source": [
    "db_avg[mod_names].count()"
   ]
  },
  {
   "cell_type": "code",
   "execution_count": 709,
   "metadata": {},
   "outputs": [],
   "source": [
    "# GOTTA RENAME THE COLUMNS APPROPRIATELY?"
   ]
  },
  {
   "cell_type": "code",
   "execution_count": 710,
   "metadata": {},
   "outputs": [
    {
     "name": "stdout",
     "output_type": "stream",
     "text": [
      "created excel file\n",
      "created pickle file\n"
     ]
    }
   ],
   "source": [
    "# full aggregate, with flattened values using average \n",
    "excel_file = os.path.join(out_path, out_prefix + 'avg_aggregate_database.xlsx')\n",
    "pickle_dir = os.path.join(out_path, \"PICKLES\")\n",
    "pickle_file = os.path.join(pickle_dir, out_prefix + 'avg_aggregate_database.pkl')\n",
    "\n",
    "if not os.path.exists(excel_file):\n",
    "    db_avg.to_excel(excel_file, index=False)\n",
    "    print('created excel file')\n",
    "else:\n",
    "    print('excel file exists already!')\n",
    "    \n",
    "if not os.path.isdir(pickle_dir):\n",
    "    os.mkdir(pickle_dir)\n",
    "    print(\"(created pickle subdirectory)\")\n",
    "    \n",
    "if not os.path.exists(pickle_file):\n",
    "    db_avg.to_pickle(pickle_file)\n",
    "    print('created pickle file')\n",
    "else:\n",
    "    print('pickle file exists already!')"
   ]
  },
  {
   "cell_type": "code",
   "execution_count": null,
   "metadata": {},
   "outputs": [],
   "source": []
  }
 ],
 "metadata": {
  "kernelspec": {
   "display_name": "Python 3",
   "language": "python",
   "name": "python3"
  },
  "language_info": {
   "codemirror_mode": {
    "name": "ipython",
    "version": 3
   },
   "file_extension": ".py",
   "mimetype": "text/x-python",
   "name": "python",
   "nbconvert_exporter": "python",
   "pygments_lexer": "ipython3",
   "version": "3.6.10"
  }
 },
 "nbformat": 4,
 "nbformat_minor": 4
}
